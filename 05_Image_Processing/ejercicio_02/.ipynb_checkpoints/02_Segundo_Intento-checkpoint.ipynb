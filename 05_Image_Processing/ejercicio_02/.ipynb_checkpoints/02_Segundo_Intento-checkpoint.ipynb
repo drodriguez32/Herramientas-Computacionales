{
 "cells": [
  {
   "cell_type": "code",
   "execution_count": 11,
   "metadata": {},
   "outputs": [
    {
     "name": "stdout",
     "output_type": "stream",
     "text": [
      "Populating the interactive namespace from numpy and matplotlib\n"
     ]
    }
   ],
   "source": [
    "import numpy as np\n",
    "import cv2\n",
    "from scipy.ndimage import label\n",
    "\n",
    "%pylab inline"
   ]
  },
  {
   "cell_type": "code",
   "execution_count": 12,
   "metadata": {
    "collapsed": true
   },
   "outputs": [],
   "source": [
    "def segment_on_dt(a, img):\n",
    "    border = cv2.dilate(img, None, iterations=5)\n",
    "    border = border - cv2.erode(border, None)\n",
    "\n",
    "    dt = cv2.distanceTransform(img, 2, 3)\n",
    "    dt = ((dt - dt.min()) / (dt.max() - dt.min()) * 255).astype(numpy.uint8)\n",
    "    _, dt = cv2.threshold(dt, 180, 255, cv2.THRESH_BINARY)\n",
    "    lbl, ncc = label(dt)\n",
    "    lbl = lbl * (255 / (ncc + 1))\n",
    "    # Completing the markers now. \n",
    "    lbl[border == 255] = 255\n",
    "\n",
    "    lbl = lbl.astype(numpy.int32)\n",
    "    cv2.watershed(a, lbl)\n",
    "\n",
    "    lbl[lbl == -1] = 0\n",
    "    lbl = lbl.astype(numpy.uint8)\n",
    "    return 255 - lbl"
   ]
  },
  {
   "cell_type": "code",
   "execution_count": 20,
   "metadata": {},
   "outputs": [],
   "source": [
    "img = cv2.imread('example1.jpg')"
   ]
  },
  {
   "cell_type": "code",
   "execution_count": 21,
   "metadata": {},
   "outputs": [],
   "source": [
    "# Pre-processing.\n",
    "img_gray = cv2.cvtColor(img, cv2.COLOR_BGR2GRAY)    \n",
    "_, img_bin = cv2.threshold(img_gray, 0, 255,cv2.THRESH_OTSU)\n",
    "img_bin = cv2.morphologyEx(img_bin, cv2.MORPH_OPEN,numpy.ones((3, 3), dtype=int))\n",
    "\n",
    "#ret,thresh = cv2.threshold(gray,0,255,cv2.THRESH_BINARY+cv2.THRESH_OTSU)"
   ]
  },
  {
   "cell_type": "code",
   "execution_count": 22,
   "metadata": {},
   "outputs": [],
   "source": [
    "result = segment_on_dt(img, img_bin)"
   ]
  },
  {
   "cell_type": "code",
   "execution_count": 23,
   "metadata": {},
   "outputs": [
    {
     "data": {
      "text/plain": [
       "<matplotlib.image.AxesImage at 0x20787ec3e48>"
      ]
     },
     "execution_count": 23,
     "metadata": {},
     "output_type": "execute_result"
    },
    {
     "data": {
      "image/png": "[encoded data removed]",
      "text/plain": [
       "<matplotlib.figure.Figure at 0x207892ec7f0>"
      ]
     },
     "metadata": {},
     "output_type": "display_data"
    }
   ],
   "source": [
    "plt.imshow(result)"
   ]
  },
  {
   "cell_type": "code",
   "execution_count": null,
   "metadata": {
    "collapsed": true
   },
   "outputs": [],
   "source": []
  }
 ],
 "metadata": {
  "kernelspec": {
   "display_name": "Python 3",
   "language": "python",
   "name": "python3"
  },
  "language_info": {
   "codemirror_mode": {
    "name": "ipython",
    "version": 3
   },
   "file_extension": ".py",
   "mimetype": "text/x-python",
   "name": "python",
   "nbconvert_exporter": "python",
   "pygments_lexer": "ipython3",
   "version": "3.6.3"
  }
 },
 "nbformat": 4,
 "nbformat_minor": 2
}
