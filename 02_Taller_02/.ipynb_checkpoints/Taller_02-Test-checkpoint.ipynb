{
 "cells": [
  {
   "cell_type": "code",
   "execution_count": 1,
   "metadata": {},
   "outputs": [
    {
     "name": "stdout",
     "output_type": "stream",
     "text": [
      "Populating the interactive namespace from numpy and matplotlib\n"
     ]
    }
   ],
   "source": [
    "from scipy import integrate\n",
    "import scipy as sc\n",
    "import numpy as np\n",
    "%pylab inline"
   ]
  },
  {
   "cell_type": "markdown",
   "metadata": {},
   "source": [
    "# Funciones\n",
    "\n",
    "* Drag\n",
    "* Resistencia a la rodadura\n",
    "* Potencia y torque\n",
    "    * Utilizando la ecuación de Clavijo pero el omega de Mariana\n",
    "* Fuerza de tracción \n"
   ]
  },
  {
   "cell_type": "markdown",
   "metadata": {
    "collapsed": true
   },
   "source": [
    "# Constantes"
   ]
  },
  {
   "cell_type": "code",
   "execution_count": 98,
   "metadata": {
    "collapsed": true
   },
   "outputs": [],
   "source": [
    "# Datos Llantas tractivas \n",
    "rll=0.139 # Radio geométrico de las llantas en traseras (m)\n",
    "refc=0.98*rll # Radio efectivo llantas traseras (m)\n",
    "rin=0.0631 #radio interno del neumático (m)\n",
    "\n",
    "# Datos Transmisión\n",
    "dp=10.0 # Dientes del piñón\n",
    "dpl=19.0 # Dientes del plato\n",
    "ng=dpl/dp # Relación de Transmisión\n",
    "etaf=0.95 # Eficiencia de transmisión\n",
    "\n",
    "# Datos eje llantas\n",
    "reje=0.02 # Radio eje de las llantas (m)\n",
    "meje=3.832 # Masa del eje (kg)\n",
    "\n",
    "# Datos Kart general\n",
    "masa=152.0 # masa del Kart (kg)\n",
    "g=9.81 # Gravedad (m/s2)\n",
    "w=masa*g # peso del Kart (N)\n",
    "\n",
    "# Datos Fuerzas de la fórmula de aceleración\n",
    "rho=1.1955 # densidad del aire (kg/m^3)\n",
    "dll=0.975 # Distancia entre ejes de llantas delanteras (m)\n",
    "alj=0.88 # Altura con el piloto sentado en el kart (estatura 1.68 m) (m)\n",
    "af=(dll*alj)/2 # Area Frontal Kart (m^2)\n",
    "cd=0.89 # Coeficiente de Arrastre Kart\n",
    "u_w=0.0 # velocidad del viento (m/s)\n",
    "theta=0.0 # ángulo inclinación carretera\n",
    "\n",
    "# Inercias\n",
    "ii=5.2E-3 # Inercia motor (kg m^2) \n",
    "\n",
    "mllt=1.43 # Masa llantas traseras (kg)\n",
    "mlld=1.20 # Masa llantas delanteras (kg)\n",
    "rlld=0.129 # Radio llantas delanteras (m)\n",
    "rind=0.0631 # Radio rin llantas delanteras (m)\n",
    "mbt=0.7*mllt # El porcentaje de la masa total que pesa la parte \"banda\" de la llanta trasera\n",
    "mdt=0.3*mllt # El porcentaje de la masa total que pesa la parte \"disco\" de la llanta trasera\n",
    "mbd=0.7*mlld # El porcentaje de la masa total que pesa la parte \"banda\" de la llanta delantera\n",
    "mdd=0.3*mlld # El porcentaje de la masa total que pesa la parte \"disco\" de la llanta delantera\n",
    "illd=(mbd*rlld)+(mdd*(rlld**2-rind**2))/2 # Inercia 1 llanta delantera (kg-m^2)\n",
    "illt=(mbt*rll)+(mdt*(rll**2-rin**2))/2 # Inercia 1 llanta trasera (kg-m^2)\n",
    "\n",
    "# Transmisión\n",
    "rpi=0.01525 # Radio piñón (m)\n",
    "rpla=0.04096 # Radio plato (m)\n",
    "rhoac=7850.0 # Densidad del Acero (kg/m^3)\n",
    "bpi=0.01 # Ancho piñón (m)\n",
    "bpla=0.02 # Ancho plato (m)\n",
    "vpi= bpi*np.pi*rpi**2 # Volumen del piñón (m^3)\n",
    "vpla=bpla*np.pi*rpla**2 # Volumen del plato (m^3)\n",
    "mpi=rhoac*vpi # Masa del piñón (kg)\n",
    "mpla=rhoac*vpla # Masa del plato (kg)\n",
    "ig=((mpi*(rpi**2))/2.0)+((mpla*(rpla**2))/2.0) # Inercia de la transmisión (kg-m^2)\n",
    "\n",
    "ieje=(meje*reje**2)/2.0 # Inercia del eje de las llantas (kg-m^2)\n",
    "\n",
    "m_r = ((2*illd + 2*illt)+ieje+(ii*(ng**2)))/(refc**2) # Masa equivalente de los componentes rotatorios (kg-m^2)\n",
    "\n",
    "# Fuerzas Aceleración\n",
    "# Resistencia a la rodadura\n",
    "            \n",
    "a = 0.2231 # Distancia del centro de gravedad al eje de la llanta trasera (m)\n",
    "l = 1.0063 # Distancia de eje de las llantas traseras y delanteras (m)\n",
    "h = 0.07478 # Altura del centro de gravedad del kart con respecto al piso (m)"
   ]
  },
  {
   "cell_type": "markdown",
   "metadata": {},
   "source": [
    "# Funciones"
   ]
  },
  {
   "cell_type": "markdown",
   "metadata": {},
   "source": [
    "## Drag"
   ]
  },
  {
   "cell_type": "code",
   "execution_count": 99,
   "metadata": {
    "collapsed": true
   },
   "outputs": [],
   "source": [
    "def drag(vx):\n",
    "    D = (1.0/2.0)*rho*af*cd*(vx)**2 # (N)\n",
    "    return D"
   ]
  },
  {
   "cell_type": "markdown",
   "metadata": {},
   "source": [
    "## Resistencia a la rodadura"
   ]
  },
  {
   "cell_type": "code",
   "execution_count": 100,
   "metadata": {
    "collapsed": true
   },
   "outputs": [],
   "source": [
    "def roll_resist (vx):\n",
    "    fr=0.01*(1+((vx*3.6)/100.0)) # Factor de rodadura la velocidad del kart debe estar en (km/h)\n",
    "    Rx = w*fr*cos(theta) # (N)\n",
    "    \n",
    "    # wr=w*((a/l)+(ax/g*(h/l))) # fuerza vertical sobre las llantas tractivas -> incluir aceleración (weight shift)\n",
    "    # Rx = wr*fr*cos(theta)\n",
    "    \n",
    "    return Rx"
   ]
  },
  {
   "cell_type": "markdown",
   "metadata": {},
   "source": [
    "## Velocidad Angular Motor"
   ]
  },
  {
   "cell_type": "code",
   "execution_count": 101,
   "metadata": {
    "collapsed": true
   },
   "outputs": [],
   "source": [
    "def omega_motor(vx):\n",
    "    \n",
    "    omega = (vx*ng)/(refc) # (rad/s)\n",
    "    \n",
    "    if omega >= 523.6: \n",
    "        omega = 523.6\n",
    "        \n",
    "    return omega"
   ]
  },
  {
   "cell_type": "markdown",
   "metadata": {},
   "source": [
    "## Torque Motor"
   ]
  },
  {
   "cell_type": "code",
   "execution_count": 102,
   "metadata": {
    "collapsed": true
   },
   "outputs": [],
   "source": [
    "def torque_motor (vx):\n",
    "    \n",
    "    omega = omega_motor(vx)\n",
    "    \n",
    "    #if omega == 0:\n",
    "        #Torque = 32\n",
    "        \n",
    "    #else:\n",
    "        \n",
    "    RPM = omega*(60/(2*np.pi))\n",
    "\n",
    "    Power = ((-0.00000004564538677*(RPM**3))+(0.0001056995459*(RPM**2))+(1.53209191*RPM)-12.895523696)\n",
    "    \n",
    "    Torque = Power/(RPM*2.0*np.pi/60)\n",
    "    \n",
    "    if RPM <= 40:\n",
    "        Torque = 8\n",
    "    \n",
    "    return Torque #Nm"
   ]
  },
  {
   "cell_type": "code",
   "execution_count": 103,
   "metadata": {
    "collapsed": true
   },
   "outputs": [],
   "source": [
    "def power_motor (vx):\n",
    "    \n",
    "    omega = omega_motor(vx)\n",
    "     \n",
    "    RPM = omega*(60/(2*np.pi))\n",
    "\n",
    "    Power = ((-0.00000004564538677*(RPM**3))+(0.0001056995459*(RPM**2))+(1.53209191*RPM)-12.895523696)\n",
    "    \n",
    "    #Power = torque_motor(vx)*(RPM*2.0*np.pi/60)\n",
    "    \n",
    "    return Power #W"
   ]
  },
  {
   "cell_type": "markdown",
   "metadata": {},
   "source": [
    "## Aceleración"
   ]
  },
  {
   "cell_type": "code",
   "execution_count": 104,
   "metadata": {
    "collapsed": true
   },
   "outputs": [],
   "source": [
    "def accel (vx):\n",
    "    ax = (((torque_motor(vx)*ng*etaf)/refc) - roll_resist(vx) - drag(vx))/(masa+m_r)\n",
    "    return ax"
   ]
  },
  {
   "cell_type": "code",
   "execution_count": 105,
   "metadata": {
    "collapsed": true
   },
   "outputs": [],
   "source": [
    "def dvdt_rk(t,vx):\n",
    "    ax = (((torque_motor(vx)*ng*etaf)/refc) - roll_resist(vx) - drag(vx))/(masa+m_r)\n",
    "    return ax"
   ]
  },
  {
   "cell_type": "code",
   "execution_count": 121,
   "metadata": {
    "collapsed": true
   },
   "outputs": [],
   "source": [
    "def dvdt_int(y, t):\n",
    "    xx, vx = y\n",
    "    \n",
    "    T = (torque_motor(vx)*ng*etaf)/refc\n",
    "    #T = (35*ng*etaf)/refc\n",
    "    Rx = roll_resist(vx)\n",
    "    D = drag(vx)\n",
    "    \n",
    "    ax = (T-Rx-D)/(masa+m_r)\n",
    "    \n",
    "    dydt = [vx, ax]\n",
    "    return dydt"
   ]
  },
  {
   "cell_type": "code",
   "execution_count": 122,
   "metadata": {
    "collapsed": true
   },
   "outputs": [],
   "source": [
    "# Variables de tiempo\n",
    "t_in=0\n",
    "t_fin=100\n",
    "deltat=0.001\n",
    "\n",
    "# condiciones iniciales\n",
    "x_0=0\n",
    "v_0=0.001\n",
    "c_ini = [x_0,v_0]\n",
    "t=np.arange(t_in,t_fin,deltat)"
   ]
  },
  {
   "cell_type": "code",
   "execution_count": 123,
   "metadata": {
    "collapsed": true
   },
   "outputs": [],
   "source": [
    "sol = integrate.odeint(dvdt_int, c_ini, t)"
   ]
  },
  {
   "cell_type": "code",
   "execution_count": 124,
   "metadata": {
    "collapsed": true
   },
   "outputs": [],
   "source": [
    "pos = sol[:, 0]\n",
    "vel = sol[:, 1]"
   ]
  },
  {
   "cell_type": "code",
   "execution_count": 126,
   "metadata": {},
   "outputs": [
    {
     "data": {
      "text/plain": [
       "<matplotlib.legend.Legend at 0x28b806dc470>"
      ]
     },
     "execution_count": 126,
     "metadata": {},
     "output_type": "execute_result"
    },
    {
     "data": {
      "image/png": "[encoded data removed]",
      "text/plain": [
       "<matplotlib.figure.Figure at 0x28b8064d588>"
      ]
     },
     "metadata": {},
     "output_type": "display_data"
    }
   ],
   "source": [
    "ax = plt.gca()\n",
    "ax2 = ax.twinx()\n",
    "\n",
    "#ax.plot(t, pos, 'b', label='posición(t)')\n",
    "ax2.plot(t, vel, 'g', label='velocidad(t)')\n",
    "ax.set_xlabel('t [s]')\n",
    "ax.set_ylabel('Distancia [m]')\n",
    "ax2.set_ylabel('Velocidad [$m/s$]')\n",
    "ax.grid()\n",
    "plt.legend(loc = 'best')"
   ]
  },
  {
   "cell_type": "code",
   "execution_count": 111,
   "metadata": {
    "collapsed": true
   },
   "outputs": [],
   "source": [
    "tor = []\n",
    "powe = []\n",
    "om = []\n",
    "a_x = []"
   ]
  },
  {
   "cell_type": "code",
   "execution_count": 112,
   "metadata": {
    "collapsed": true
   },
   "outputs": [],
   "source": [
    "for i in range(len(vel)):\n",
    "    to = torque_motor(vel[i])\n",
    "    w = omega_motor(vel[i])*(60/(2*np.pi))\n",
    "    p = power_motor(vel[i])\n",
    "    a = accel(vel[i])\n",
    "    tor.append(to)\n",
    "    powe.append(p)\n",
    "    om.append(w)\n",
    "    a_x.append(a)"
   ]
  },
  {
   "cell_type": "code",
   "execution_count": 113,
   "metadata": {},
   "outputs": [
    {
     "data": {
      "text/plain": [
       "<matplotlib.legend.Legend at 0x28bfe2267b8>"
      ]
     },
     "execution_count": 113,
     "metadata": {},
     "output_type": "execute_result"
    },
    {
     "data": {
      "image/png": "[encoded data removed]",
      "text/plain": [
       "<matplotlib.figure.Figure at 0x28bfcfcf048>"
      ]
     },
     "metadata": {},
     "output_type": "display_data"
    }
   ],
   "source": [
    "ax3 = plt.gca()\n",
    "ax4 = ax3.twinx()\n",
    "\n",
    "ax3.plot(om, powe, 'b', label='Potencia')\n",
    "ax4.plot(om, tor, 'g', label='Torque')\n",
    "ax3.set_xlabel('RPM')\n",
    "ax3.set_ylabel('Potencia [W]')\n",
    "ax4.set_ybound(0,20)\n",
    "ax4.set_ylabel('Torque [Nm]')\n",
    "ax3.grid()\n",
    "plt.legend(loc = 'lower center')"
   ]
  },
  {
   "cell_type": "code",
   "execution_count": 114,
   "metadata": {},
   "outputs": [
    {
     "data": {
      "text/plain": [
       "<matplotlib.legend.Legend at 0x28bfe29fe10>"
      ]
     },
     "execution_count": 114,
     "metadata": {},
     "output_type": "execute_result"
    },
    {
     "data": {
      "image/png": "[encoded data removed]",
      "text/plain": [
       "<matplotlib.figure.Figure at 0x28bfe26d9e8>"
      ]
     },
     "metadata": {},
     "output_type": "display_data"
    }
   ],
   "source": [
    "ax5 = plt.gca()\n",
    "\n",
    "ax5.plot(t, a_x, 'b', label='Aceleración')\n",
    "ax5.set_xlabel('t [s]')\n",
    "ax5.set_ylabel('Aceleración [$m/s^2$]')\n",
    "ax5.grid()\n",
    "plt.legend(loc = 'best')"
   ]
  },
  {
   "cell_type": "code",
   "execution_count": 127,
   "metadata": {
    "collapsed": true
   },
   "outputs": [],
   "source": [
    "# Usando RK-45\n",
    "sol2 = integrate.solve_ivp(dvdt_rk,[0,150],[0.001],method='RK45',max_step=1)"
   ]
  },
  {
   "cell_type": "code",
   "execution_count": 116,
   "metadata": {},
   "outputs": [
    {
     "data": {
      "text/plain": [
       "<matplotlib.legend.Legend at 0x28bfe319710>"
      ]
     },
     "execution_count": 116,
     "metadata": {},
     "output_type": "execute_result"
    },
    {
     "data": {
      "image/png": "[encoded data removed]",
      "text/plain": [
       "<matplotlib.figure.Figure at 0x28bfe166860>"
      ]
     },
     "metadata": {},
     "output_type": "display_data"
    }
   ],
   "source": [
    "ax6 = plt.gca()\n",
    "\n",
    "ax6.plot(sol2.t[0:], sol2.y[0,:], 'g', label='Velocidad')\n",
    "ax6.set_xlabel('t [s]')\n",
    "ax6.set_ylabel('Velocidad [$m/s$]')\n",
    "ax6.grid()\n",
    "plt.legend(loc = 'best')"
   ]
  },
  {
   "cell_type": "code",
   "execution_count": 117,
   "metadata": {
    "collapsed": true
   },
   "outputs": [],
   "source": [
    "vel2 = sol2.y[0,:]\n",
    "a_x2 = []"
   ]
  },
  {
   "cell_type": "code",
   "execution_count": 118,
   "metadata": {
    "collapsed": true
   },
   "outputs": [],
   "source": [
    "for i in range(len(vel2)):\n",
    "    a2 = accel(vel2[i])\n",
    "    a_x2.append(a2)"
   ]
  },
  {
   "cell_type": "code",
   "execution_count": 119,
   "metadata": {},
   "outputs": [
    {
     "data": {
      "text/plain": [
       "<matplotlib.legend.Legend at 0x28bff9f0d30>"
      ]
     },
     "execution_count": 119,
     "metadata": {},
     "output_type": "execute_result"
    },
    {
     "data": {
      "image/png": "[encoded data removed]",
      "text/plain": [
       "<matplotlib.figure.Figure at 0x28bff997dd8>"
      ]
     },
     "metadata": {},
     "output_type": "display_data"
    }
   ],
   "source": [
    "ax7 = plt.gca()\n",
    "\n",
    "ax7.plot(sol2.t[0:], a_x2, 'b', label='Aceleración')\n",
    "ax7.set_xlabel('t [s]')\n",
    "ax7.set_ylabel('Aceleración [$m/s^2$]')\n",
    "ax7.grid()\n",
    "plt.legend(loc = 'best')"
   ]
  },
  {
   "cell_type": "code",
   "execution_count": null,
   "metadata": {
    "collapsed": true
   },
   "outputs": [],
   "source": []
  }
 ],
 "metadata": {
  "kernelspec": {
   "display_name": "Python 3",
   "language": "python",
   "name": "python3"
  },
  "language_info": {
   "codemirror_mode": {
    "name": "ipython",
    "version": 3
   },
   "file_extension": ".py",
   "mimetype": "text/x-python",
   "name": "python",
   "nbconvert_exporter": "python",
   "pygments_lexer": "ipython3",
   "version": "3.6.3"
  }
 },
 "nbformat": 4,
 "nbformat_minor": 2
}
