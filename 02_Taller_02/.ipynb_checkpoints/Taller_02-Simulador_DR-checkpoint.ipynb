{
 "cells": [
  {
   "cell_type": "code",
   "execution_count": 2,
   "metadata": {},
   "outputs": [
    {
     "name": "stdout",
     "output_type": "stream",
     "text": [
      "Populating the interactive namespace from numpy and matplotlib\n"
     ]
    }
   ],
   "source": [
    "import os\n",
    "from scipy import integrate\n",
    "import scipy as sc\n",
    "import numpy as np\n",
    "%pylab inline\n",
    "\n",
    "output_dir_m = os.path.join('.','graphs','Masa')\n",
    "output_dir_N = os.path.join('.','graphs','Relacion')\n",
    "output_dir_R = os.path.join('.','graphs','Llantas')"
   ]
  },
  {
   "cell_type": "markdown",
   "metadata": {},
   "source": [
    "# Taller 2 - Simulador\n",
    "## Diego Rodriguez - 201425220"
   ]
  },
  {
   "cell_type": "markdown",
   "metadata": {},
   "source": [
    "# Tabla de Contenidos <a class=\"anchor\" id=\"toc\"></a>\n",
    "\n",
    "* [Constantes](#Const_0)\n",
    "\n",
    "\n",
    "* [Funciones](#Func_0)\n",
    "    * [Drag](#Drag_0) \n",
    "    * [Resistencia a la Rodadura](#Rx_0) \n",
    "    * [Velocidad Angular Motor](#Omega_0)\n",
    "    * [Potencia](#Power_0)\n",
    "    * [Torque](#Torque_0)\n",
    "    * [Aceleración](#Accel_0)\n",
    "    * [Frenado](#Brake_0)\n",
    "    * [Funciones Globales](#Func_G)\n",
    "\n",
    "    \n",
    "* [Introducción](#intro)\n",
    "\n",
    "    \n",
    "* [Variación de la Masa](#Mass)\n",
    "    * [Constantes](#Const_m)\n",
    "    * [Funciones](#Func_m)\n",
    "    * [Desempeño](#Perf_m)\n",
    "    * [Análisis](#An_m)\n",
    "\n",
    "    \n",
    "* [Variación de la Relación](#Rel)\n",
    "    * [Constantes](#Const_N)\n",
    "    * [Funciones](#Func_N)\n",
    "    * [Desempeño](#Perf_N)\n",
    "    * [Análisis](#An_N)\n",
    "\n",
    "    \n",
    "* [Variación del Radio de las Llantas](#Tires)\n",
    "    * [Constantes](#Const_t)\n",
    "    * [Funciones](#Func_t)\n",
    "    * [Desempeño](#Perf_t)\n",
    "    * [Análisis](#An_t)"
   ]
  },
  {
   "cell_type": "markdown",
   "metadata": {},
   "source": [
    "----\n",
    "# Constantes <a class=\"anchor\" id=\"Const_0\"></a>"
   ]
  },
  {
   "cell_type": "code",
   "execution_count": 3,
   "metadata": {},
   "outputs": [],
   "source": [
    "# Datos Llantas tractivas \n",
    "rll_std=0.139 # Radio geométrico de las llantas en traseras (m)\n",
    "refc_std=0.98*rll_std # Radio efectivo llantas traseras (m)\n",
    "rin=0.0631 #radio interno del neumático (m)\n",
    "\n",
    "# Datos Transmisión\n",
    "dp=10.0 # Dientes del piñón\n",
    "dpl=19.0 # Dientes del plato\n",
    "ng_std=dpl/dp # Relación de Transmisión\n",
    "etaf=0.95 # Eficiencia de transmisión\n",
    "\n",
    "# Datos eje llantas\n",
    "reje=0.02 # Radio eje de las llantas (m)\n",
    "meje=3.832 # Masa del eje (kg)\n",
    "\n",
    "# Datos Kart general\n",
    "masa_std=152.0 # masa del Kart (kg)\n",
    "g=9.81 # Gravedad (m/s2)\n",
    "w_std=masa_std*g # peso del Kart (N)\n",
    "\n",
    "# Datos Fuerzas de la fórmula de aceleración\n",
    "rho=1.1955 # densidad del aire (kg/m^3)\n",
    "dll=0.975 # Distancia entre ejes de llantas delanteras (m)\n",
    "alj=0.88 # Altura con el piloto sentado en el kart (estatura 1.68 m) (m)\n",
    "af=(dll*alj)/2 # Area Frontal Kart (m^2)\n",
    "cd=0.89 # Coeficiente de Arrastre Kart\n",
    "u_w=0.0 # velocidad del viento (m/s)\n",
    "theta=0.0 # ángulo inclinación carretera\n",
    "\n",
    "# Inercias\n",
    "ii=5.2E-3 # Inercia motor (kg m^2) \n",
    "\n",
    "mllt=1.43 # Masa llantas traseras (kg)\n",
    "mlld=1.20 # Masa llantas delanteras (kg)\n",
    "rlld=0.129 # Radio llantas delanteras (m)\n",
    "rind=0.0631 # Radio rin llantas delanteras (m)\n",
    "mbt=0.7*mllt # El porcentaje de la masa total que pesa la parte \"banda\" de la llanta trasera\n",
    "mdt=0.3*mllt # El porcentaje de la masa total que pesa la parte \"disco\" de la llanta trasera\n",
    "mbd=0.7*mlld # El porcentaje de la masa total que pesa la parte \"banda\" de la llanta delantera\n",
    "mdd=0.3*mlld # El porcentaje de la masa total que pesa la parte \"disco\" de la llanta delantera\n",
    "illd=(mbd*rlld)+(mdd*(rlld**2-rind**2))/2 # Inercia 1 llanta delantera (kg-m^2)\n",
    "illt=(mbt*rll_std)+(mdt*(rll_std**2-rin**2))/2 # Inercia 1 llanta trasera (kg-m^2)\n",
    "\n",
    "# Transmisión\n",
    "rpi=0.01525 # Radio piñón (m)\n",
    "rpla=0.04096 # Radio plato (m)\n",
    "rhoac=7850.0 # Densidad del Acero (kg/m^3)\n",
    "bpi=0.01 # Ancho piñón (m)\n",
    "bpla=0.02 # Ancho plato (m)\n",
    "vpi= bpi*np.pi*rpi**2 # Volumen del piñón (m^3)\n",
    "vpla=bpla*np.pi*rpla**2 # Volumen del plato (m^3)\n",
    "mpi=rhoac*vpi # Masa del piñón (kg)\n",
    "mpla=rhoac*vpla # Masa del plato (kg)\n",
    "ig=((mpi*(rpi**2))/2.0)+((mpla*(rpla**2))/2.0) # Inercia de la transmisión (kg-m^2)\n",
    "\n",
    "ieje=(meje*reje**2)/2.0 # Inercia del eje de las llantas (kg-m^2)\n",
    "\n",
    "mr_std = ((2*illd + 2*illt)+ieje+((ii+ig)*(ng_std**2)))/(refc_std**2) # Masa equivalente de los componentes rotatorios (kg-m^2)\n",
    "\n",
    "omega_max = 523.6\n",
    "\n",
    "# Distribución de peso\n",
    "w_rear = w_std*0.5\n",
    "w_front = w_std-w_rear\n",
    "\n",
    "# Fuerza Frenado\n",
    "mu = 0.7\n",
    "F_bf = 0*w_front*mu\n",
    "F_br = 1*w_rear*mu\n",
    "F_b = F_bf + F_br\n",
    "\n",
    "T_f = 17 # [Nm]\n",
    "\n",
    "# Fuerzas Aceleración\n",
    "# Resistencia a la rodadura\n",
    "            \n",
    "a = 0.2231 # Distancia del centro de gravedad al eje de la llanta trasera (m)\n",
    "l = 1.0063 # Distancia de eje de las llantas traseras y delanteras (m)\n",
    "h = 0.07478 # Altura del centro de gravedad del kart con respecto al piso (m)\n",
    "\n",
    "\n",
    "# Criterio Estabilidad\n",
    "res = 1e-4"
   ]
  },
  {
   "cell_type": "markdown",
   "metadata": {},
   "source": [
    "[Tabla de Contenido](#toc)"
   ]
  },
  {
   "cell_type": "markdown",
   "metadata": {},
   "source": [
    "-------\n",
    "# Funciones <a class=\"anchor\" id=\"Func_0\"></a>\n",
    "\n",
    "## Drag <a class=\"anchor\" id=\"Drag_0\"></a>\n",
    "<h3>$D = \\frac{1}{2} \\rho A_F C_D V^2$</h3>\n",
    "\n",
    "## Resistencia a la Rodadura <a class=\"anchor\" id=\"Rx_0\"></a>\n",
    "<h3>$ Rx = W \\cdot fr \\cdot cos(\\theta)$</h3>\n",
    "<h3>$ fr = 0.01\\cdot(1+\\frac{3.6 V_x}{100.0})$</h3>\n",
    "\n",
    "## Velocidad Angular Motor <a class=\"anchor\" id=\"Omega_0\"></a>\n",
    "<h2>$ \\omega_m = \\frac{V_x \\cdot r}{N_c}$</h2>\n",
    "\n",
    "## Potencia Motor <a class=\"anchor\" id=\"Power_0\"></a>\n",
    "<h3>$ P =(-4.565\\cdot10^{-8})RPM^3+(1.057\\cdot10^{-4})RPM^2+(1.532)RPM-12.96 $</h3>\n",
    "\n",
    "## Torque Motor <a class=\"anchor\" id=\"Torque_0\"></a>\n",
    "<h2>$ \\tau = \\frac{P}{\\omega} $</h2>\n",
    "\n",
    "## Aceleración <a class=\"anchor\" id=\"Accel_0\"></a>\n",
    "<h1>$a_x = \\frac{\\frac{T_e N_c \\eta_t}{r} - R_x - D_A - Wsin\\theta}{(M+M_r)}$</h1>\n",
    "\n",
    "## Frenado <a class=\"anchor\" id=\"Brake_0\"></a>\n",
    "<h1>$a_x = \\frac{-F_b - R_x - D_A - Wsin\\theta}{(M+M_r)}$</h1>"
   ]
  },
  {
   "cell_type": "markdown",
   "metadata": {},
   "source": [
    "## Funciones Globales <a class=\"anchor\" id=\"Func_G\"></a>"
   ]
  },
  {
   "cell_type": "code",
   "execution_count": 4,
   "metadata": {
    "collapsed": true
   },
   "outputs": [],
   "source": [
    "# Drag\n",
    "def drag(vx):\n",
    "    D = (1.0/2.0)*rho*af*cd*(vx)**2 # (N)\n",
    "    return D"
   ]
  },
  {
   "cell_type": "code",
   "execution_count": 5,
   "metadata": {
    "collapsed": true
   },
   "outputs": [],
   "source": [
    "# Resistencia a la rodadura\n",
    "def roll_resist (vx):\n",
    "    fr=0.01*(1+((vx*3.6)/100.0)) # Factor de rodadura la velocidad del kart debe estar en (km/h)\n",
    "    Rx = w_std*fr*cos(theta) # (N)\n",
    "    \n",
    "    # wr=w*((a/l)+(ax/g*(h/l))) # fuerza vertical sobre las llantas tractivas -> incluir aceleración (weight shift)\n",
    "    # Rx = wr*fr*cos(theta)\n",
    "    \n",
    "    return Rx"
   ]
  },
  {
   "cell_type": "code",
   "execution_count": 6,
   "metadata": {
    "collapsed": true
   },
   "outputs": [],
   "source": [
    "# Velocidad angular del motor\n",
    "def omega_motor(vx):\n",
    "    \n",
    "    omega = (vx*ng_std)/(refc_std) # (rad/s)\n",
    "    \n",
    "    if omega >= omega_max: \n",
    "        omega = omega_max\n",
    "        \n",
    "    return omega"
   ]
  },
  {
   "cell_type": "code",
   "execution_count": 7,
   "metadata": {
    "collapsed": true
   },
   "outputs": [],
   "source": [
    "# Velocidad máxima posible\n",
    "def vel_max_pos():\n",
    "\n",
    "    v_max = omega_max*refc_std/ng_std\n",
    "    \n",
    "    return v_max"
   ]
  },
  {
   "cell_type": "code",
   "execution_count": 8,
   "metadata": {
    "collapsed": true
   },
   "outputs": [],
   "source": [
    "# Torque del Motor\n",
    "def torque_motor (vx):\n",
    "    \n",
    "    omega = omega_motor(vx)\n",
    "        \n",
    "    RPM = omega*(60/(2*np.pi))\n",
    "\n",
    "    Power = ((-0.00000004564538677*(RPM**3))+(0.0001056995459*(RPM**2))+(1.53209191*RPM)-12.96)\n",
    "    \n",
    "    Torque = Power/(RPM*2.0*np.pi/60)\n",
    "    \n",
    "    if RPM <= 20:\n",
    "        Torque = 2\n",
    "    \n",
    "    return Torque #Nm"
   ]
  },
  {
   "cell_type": "code",
   "execution_count": 9,
   "metadata": {
    "collapsed": true
   },
   "outputs": [],
   "source": [
    "# Potencia del Motor\n",
    "def power_motor (vx):\n",
    "    \n",
    "    omega = omega_motor(vx)\n",
    "     \n",
    "    RPM = omega*(60/(2*np.pi))\n",
    "\n",
    "    Power = ((-0.00000004564538677*(RPM**3))+(0.0001056995459*(RPM**2))+(1.53209191*RPM)-12.96)\n",
    "    \n",
    "    #Power = torque_motor(vx)*(RPM*2.0*np.pi/60)\n",
    "    \n",
    "    return Power #W"
   ]
  },
  {
   "cell_type": "code",
   "execution_count": 10,
   "metadata": {
    "collapsed": true
   },
   "outputs": [],
   "source": [
    "# Delta de tiempo - GLOBAL\n",
    "dt = 0.001"
   ]
  },
  {
   "cell_type": "markdown",
   "metadata": {},
   "source": [
    "[Tabla de Contenido](#toc)"
   ]
  },
  {
   "cell_type": "markdown",
   "metadata": {},
   "source": [
    "-----\n",
    "# Introducción <a class=\"anchor\" id=\"intro\"></a>\n",
    "\n",
    "Para este taller, se creó un modelo del kart eléctrico del equipo BTA Racing para simular su desempeño en una línea recta. El modelo toma el torque del motor, la resistencia a la rodadura, y el arraste aerodinámico para calcular la aceleración, la velocidad, y el desplazamiento del vehículo durante el periodo de prueba. \n",
    "\n",
    "En este caso se escogieron tres parámetros (masa, relación, radio de las llantas traserras) para variar y estudiar su impacto. Sin embargo, cabe a aclarar lo siguiente sobre estos parámetros: \n",
    "* Masa: Dadas las simplificaciones hechas en este modelo, la masa sólo tiene un impacto en la inercia del vehículo. Por eso es posible predecir desde ya que los resultados van a indicar que entre menor masa mejor será el desempeño. Sin embargo, en la vida real la masa no sólo afectaria la inercia sino también el *grip* del vehículo por la fricción entre las llantas y el piso, lo que lleva un nivel de complejidad más alto. \n",
    "* Radio de las llantas: Por las mismas simplificaciones anteriores, el análsis con el radio de las llantas es limitado. En este modelo el único impacto es en la velocidad líneal que estará asociada a un radio y la inercia de esta. Sin embargo, en la vida real, aumentar el tamaño de las llantas también cabia el *grip* del carro al aumentar el área de contacto. \n",
    "* Relación: Con estos dos puntos en cuenta, se puede decir que el parámetro con un impacto más cercano a la vida real será el de la relación. \n",
    "\n",
    "La metodología para hacer los cálculos de la velocidad y la posición fue la siguiente: \n",
    "\n",
    "Se planteó un criterio de estabilidad - es decir la variación con la cual se considera que la velocidad ya no está cambiando - y se comparó con la diferencia entre el último punto calculado de la velocidad y un punto 0.1s antes que ese. Al cumplirse el criterio de estabilidad se asume que el kart ha llegado a su velocidad máxima (si el motor antes no ha llegado a sus RPM máximos) y se aplican los frenos hasta llegar a velocidad cero. \n",
    "\n",
    "A continuación se tiene el análisis para los tres parámetros que pueden afectar el desempeño del kart."
   ]
  },
  {
   "cell_type": "markdown",
   "metadata": {},
   "source": [
    "-----\n",
    "# Variación de Masa <a class=\"anchor\" id=\"Mass\"></a>\n",
    "\n",
    "* [Constantes](#Const_m)\n",
    "* [Funciones](#Func_m)\n",
    "* [Desempeño](#Perf_m)\n",
    "* [Análisis](#An_m)\n",
    "\n",
    "## Constantes <a class=\"anchor\" id=\"Const_m\"></a>"
   ]
  },
  {
   "cell_type": "code",
   "execution_count": 10,
   "metadata": {
    "collapsed": true
   },
   "outputs": [],
   "source": [
    "global m\n",
    "\n",
    "m1 = 125 #kg\n",
    "m2 = 145 #kg\n",
    "m3 = 165 #kg\n",
    "m4 = 185 #kg"
   ]
  },
  {
   "cell_type": "markdown",
   "metadata": {},
   "source": [
    "## Funciones <a class=\"anchor\" id=\"Func_m\"></a>"
   ]
  },
  {
   "cell_type": "markdown",
   "metadata": {},
   "source": [
    "### Resistencia a la rodadura"
   ]
  },
  {
   "cell_type": "code",
   "execution_count": 11,
   "metadata": {
    "collapsed": true
   },
   "outputs": [],
   "source": [
    "def roll_resist_m (vx):\n",
    "    fr=0.01*(1+((vx*3.6)/100.0)) # Factor de rodadura la velocidad del kart debe estar en (m/s)\n",
    "    Rx = (m*g)*fr*cos(theta) # (N)\n",
    "    \n",
    "    # wr=w*((a/l)+(ax/g*(h/l))) # fuerza vertical sobre las llantas tractivas -> incluir aceleración (weight shift)\n",
    "    # Rx = wr*fr*cos(theta)\n",
    "    \n",
    "    return Rx"
   ]
  },
  {
   "cell_type": "markdown",
   "metadata": {},
   "source": [
    "### Aceleración"
   ]
  },
  {
   "cell_type": "code",
   "execution_count": 12,
   "metadata": {
    "collapsed": true
   },
   "outputs": [],
   "source": [
    "def accel_m (vx,refc=refc_std,ng=ng_std, mr=mr_std):   \n",
    "        \n",
    "    ax = (((torque_motor(vx)*ng*etaf)/refc) - roll_resist_m(vx) - drag(vx) - (m*g)*sin(theta))/(m+mr)\n",
    "           \n",
    "    if vx >= vel_max_pos():\n",
    "        ax = 0\n",
    "               \n",
    "    return ax"
   ]
  },
  {
   "cell_type": "code",
   "execution_count": 13,
   "metadata": {
    "collapsed": true
   },
   "outputs": [],
   "source": [
    "def dvdt_a_m (y, t,refc=refc_std,ng=ng_std,mr=mr_std):\n",
    "    xx, vx = y\n",
    "    \n",
    "    T = (torque_motor(vx)*ng*etaf)/refc\n",
    "    Rx = roll_resist_m(vx)\n",
    "    D = drag(vx)\n",
    "    W_i = (m*g)*sin(theta)\n",
    "    \n",
    "    ax = (T-Rx-D-W_i)/(m+mr)\n",
    "\n",
    "    if vx >= vel_max_pos():\n",
    "        ax = 0\n",
    "    \n",
    "    dydt = [vx, ax]\n",
    "    return dydt\n"
   ]
  },
  {
   "cell_type": "markdown",
   "metadata": {},
   "source": [
    "### Frenado"
   ]
  },
  {
   "cell_type": "code",
   "execution_count": 14,
   "metadata": {
    "collapsed": true
   },
   "outputs": [],
   "source": [
    "def braking_m (vx,refc=refc_std,ng=ng_std,mr=mr_std):        \n",
    "    ax_b = (-((T_f*ng*etaf)/refc) - roll_resist_m(vx) -drag(vx) - (m*g)*sin(theta))/(m+mr)    \n",
    "    \n",
    "    if vx <= 1e-5:\n",
    "        vx = 0\n",
    "        ax_b = 0\n",
    "    \n",
    "    return ax_b"
   ]
  },
  {
   "cell_type": "code",
   "execution_count": 15,
   "metadata": {
    "collapsed": true
   },
   "outputs": [],
   "source": [
    "def dvdt_b_m (y, t,refc=refc_std,ng=ng_std,mr=mr_std):\n",
    "    xx, vx = y\n",
    "    \n",
    "    T = (T_f*ng*etaf)/refc\n",
    "    Rx = roll_resist_m(vx)\n",
    "    D = drag(vx)\n",
    "    W_i = (m*g)*sin(theta)\n",
    "    \n",
    "    ax = (-T-Rx-D-W_i)/(m+mr)\n",
    "    \n",
    "    if vx <= 1e-5:\n",
    "        vx = 0\n",
    "        ax = 0\n",
    "    \n",
    "    dydt = [vx, ax]\n",
    "    return dydt"
   ]
  },
  {
   "cell_type": "markdown",
   "metadata": {},
   "source": [
    "[Variación de la Masa](#Mass)\n",
    "\n",
    "[Tabla de Contenido](#toc)"
   ]
  },
  {
   "cell_type": "markdown",
   "metadata": {},
   "source": [
    "## Desempeño <a class=\"anchor\" id=\"Perf_m\"></a>"
   ]
  },
  {
   "cell_type": "code",
   "execution_count": 16,
   "metadata": {
    "collapsed": true
   },
   "outputs": [],
   "source": [
    "def performance_masa (mass):\n",
    "    \n",
    "    global m\n",
    "    \n",
    "    m = mass\n",
    "    \n",
    "    res_a_m = 1 # Criterio de estabilidad para aceleración\n",
    "    res_b_m = 1 # Criterio de estabilidad para frenado\n",
    "\n",
    "    t0_m = 0 # Tiempo inicial\n",
    "    tf_m = 5 # Tiempo final para primera integración\n",
    "    c0_m = [0,0.001]  # Condiciones iniciales\n",
    "\n",
    "    pos_m = []  # Vector para guardar posicion\n",
    "    vel_m = [] # Vector para guardar velocidad\n",
    "\n",
    "    while res_a_m >= res:\n",
    "        t_m = np.arange(t0_m,tf_m,dt) # Primer sector de tiempo\n",
    "\n",
    "        sol_a_m = integrate.odeint(dvdt_a_m, c0_m, t_m) # Integrar\n",
    "\n",
    "        for i in range(len(t_m)): # Guardar datos\n",
    "            pos_m.append(sol_a_m[:, 0][i]) \n",
    "            vel_m.append(sol_a_m[:, 1][i])\n",
    "\n",
    "        res_a_m = 1-(sol_a_m[:, 1][-101]/sol_a_m[:, 1][-1]) # Verifica estabilidad con velocidades separadas por 0.1s\n",
    "\n",
    "        c0_m = [sol_a_m[:, 0][-1],sol_a_m[:, 1][-1]] # Nuevas condiciones inciales\n",
    "        t0_m = tf_m # Nuevo tiempo inicial\n",
    "        tf_m = tf_m+0.5 # Nuevo tiempo final\n",
    "\n",
    "        tb_m = t0_m # Tiempo donde empieza a frenar\n",
    "\n",
    "    while res_b_m >= 5e-5: # Empieza a frenar\n",
    "        \n",
    "        t_m = np.arange(t0_m,tf_m,dt) # Sector de tiempo\n",
    "\n",
    "        sol_b_m = integrate.odeint(dvdt_b_m, c0_m, t_m) # Integrar\n",
    "\n",
    "        for i in range(len(t_m)): # Guardar datos\n",
    "            pos_m.append(sol_b_m[:, 0][i])\n",
    "            vel_m.append(sol_b_m[:, 1][i])\n",
    "\n",
    "        res_b_m = 1-(sol_b_m[:, 1][-1]/sol_b_m[:, 1][-101]) # Verifica estabilidad con velocidades separadas por 0.1s\n",
    "\n",
    "        c0_m = [sol_b_m[:, 0][-1],sol_b_m[:, 1][-1]] # Nuevas condiciones inciales\n",
    "        t0_m = tf_m # Nuevo tiempo inicial\n",
    "        tf_m = tf_m+0.5 # Nuevo tiempo final\n",
    "\n",
    "    t2_m = np.arange(0,t0_m,dt)  # Crear un vector con todo el tiempo transcurrido\n",
    "        \n",
    "\n",
    "    return pos_m, vel_m, t2_m, tb_m"
   ]
  },
  {
   "cell_type": "code",
   "execution_count": 17,
   "metadata": {
    "collapsed": true
   },
   "outputs": [],
   "source": [
    "def calc_accel_m(pos_m, vel_m, t2_m, tb_m):\n",
    "    om_m = [] # Vector para guardar velocidad angular\n",
    "    a_x_m = [] # Vector para guardar aceleración \n",
    "\n",
    "    for i in range(len(t2_m)): # Recorrer vector de tiempo\n",
    "        w_m = omega_motor(vel_m[i])*(60/(2*np.pi)) # Calcular RPM del motor\n",
    "    \n",
    "        # Calcular aceleraciones en arranque y frenado\n",
    "        if i <= (tb_m)/dt:\n",
    "            a_m = accel_m(vel_m[i])\n",
    "        else: \n",
    "            a_m = braking_m(vel_m[i])\n",
    "\n",
    "        om_m.append(w_m)\n",
    "        a_x_m.append(a_m)\n",
    "    \n",
    "    # ---------------------\n",
    "    \n",
    "    # Tiempos\n",
    "    t_vmax_m = vel_m.index(np.max(vel_m))*dt # [s]\n",
    "    t_brake_m = (len(vel_m)-vel_m.index(np.max(vel_m)))*dt\n",
    "    t_tot_m = t_vmax_m+t_brake_m\n",
    "    \n",
    "    # Aceleración promedio\n",
    "    a_mean_m = np.mean(a_x_m[:int(t_vmax_m/dt)])/g # En g's\n",
    "    a_meanb_m = np.mean(a_x_m[int(t_vmax_m/dt):])/g # En g's\n",
    "\n",
    "    # Distancias\n",
    "    x_vmax_m = pos_m[vel_m.index(np.max(vel_m))]\n",
    "    x_brake_m = pos_m[-1] - x_vmax_m\n",
    "    x_tot_m = x_vmax_m + x_brake_m\n",
    "\n",
    "    # Velocidad\n",
    "    vmax_m = np.max(vel_m)\n",
    "    \n",
    "    return t_vmax_m, t_brake_m, t_tot_m, x_vmax_m, x_brake_m, x_tot_m, vmax_m"
   ]
  },
  {
   "cell_type": "markdown",
   "metadata": {},
   "source": [
    "[Variación de la Masa](#Mass)\n",
    "\n",
    "[Tabla de Contenido](#toc)"
   ]
  },
  {
   "cell_type": "markdown",
   "metadata": {},
   "source": [
    "### Cálculos"
   ]
  },
  {
   "cell_type": "code",
   "execution_count": 18,
   "metadata": {
    "collapsed": true
   },
   "outputs": [],
   "source": [
    "pos_m1, vel_m1, t2_m1, tb_m1 = performance_masa(m1)\n",
    "pos_m2, vel_m2, t2_m2, tb_m2 = performance_masa(m2)\n",
    "pos_m3, vel_m3, t2_m3, tb_m3 = performance_masa(m3)\n",
    "pos_m4, vel_m4, t2_m4, tb_m4 = performance_masa(m4)"
   ]
  },
  {
   "cell_type": "code",
   "execution_count": 19,
   "metadata": {
    "collapsed": true
   },
   "outputs": [],
   "source": [
    "t_vmax_m1, t_brake_m1, t_tot_m1, x_vmax_m1, x_brake_m1, x_tot_m1, vmax_m1 = calc_accel_m(pos_m1, vel_m1, t2_m1, tb_m1)\n",
    "\n",
    "t_vmax_m2, t_brake_m2, t_tot_m2, x_vmax_m2, x_brake_m2, x_tot_m2, vmax_m2 = calc_accel_m(pos_m2, vel_m2, t2_m2, tb_m2)\n",
    "\n",
    "t_vmax_m3, t_brake_m3, t_tot_m3, x_vmax_m3, x_brake_m3, x_tot_m3, vmax_m3 = calc_accel_m(pos_m3, vel_m3, t2_m3, tb_m3)\n",
    "\n",
    "t_vmax_m4, t_brake_m4, t_tot_m4, x_vmax_m4, x_brake_m4, x_tot_m4, vmax_m4 = calc_accel_m(pos_m4, vel_m4, t2_m4, tb_m4)\n"
   ]
  },
  {
   "cell_type": "code",
   "execution_count": 20,
   "metadata": {
    "collapsed": true
   },
   "outputs": [
    {
     "name": "stdout",
     "output_type": "stream",
     "text": [
      "Datos Desempeño Masa = 125 kg\n",
      "\n",
      "\n",
      "Tiempo hasta V_max = 55.50 s\n",
      "Tiempo de V_max a cero = 14.00 s\n",
      "Tiempo total de la prueba = 69.50 s\n",
      "Desplazamiento hasta V_max = 1008.60 m\n",
      "Desplazamiento durante frenado = 157.23 m\n",
      "Desplazamiento total durante la prueba = 1165.83 m\n",
      "Velocidad máxima = 25.273 m/s\n"
     ]
    }
   ],
   "source": [
    "# Desempeño Masa 1\n",
    "print(\"Datos Desempeño Masa = {} kg\".format(m1))\n",
    "print(\"\\n\")\n",
    "print(\"Tiempo hasta V_max = {0:.2f} s\".format(t_vmax_m1))\n",
    "print(\"Tiempo de V_max a cero = {0:.2f} s\".format(t_brake_m1))\n",
    "print(\"Tiempo total de la prueba = {0:.2f} s\".format(t_tot_m1))\n",
    "print(\"Desplazamiento hasta V_max = {0:.2f} m\".format(x_vmax_m1))\n",
    "print(\"Desplazamiento durante frenado = {0:.2f} m\".format(x_brake_m1))\n",
    "print(\"Desplazamiento total durante la prueba = {0:.2f} m\".format(x_tot_m1))\n",
    "print(\"Velocidad máxima = {0:.3f} m/s\".format(vmax_m1))"
   ]
  },
  {
   "cell_type": "code",
   "execution_count": 21,
   "metadata": {
    "collapsed": true
   },
   "outputs": [
    {
     "name": "stdout",
     "output_type": "stream",
     "text": [
      "Datos Desempeño Masa = 145 kg\n",
      "\n",
      "\n",
      "Tiempo hasta V_max = 62.00 s\n",
      "Tiempo de V_max a cero = 15.50 s\n",
      "Tiempo total de la prueba = 77.50 s\n",
      "Desplazamiento hasta V_max = 1101.92 m\n",
      "Desplazamiento durante frenado = 173.01 m\n",
      "Desplazamiento total durante la prueba = 1274.93 m\n",
      "Velocidad máxima = 25.002 m/s\n"
     ]
    }
   ],
   "source": [
    "# Desempeño Masa 2\n",
    "print(\"Datos Desempeño Masa = {} kg\".format(m2))\n",
    "print(\"\\n\")\n",
    "print(\"Tiempo hasta V_max = {0:.2f} s\".format(t_vmax_m2))\n",
    "print(\"Tiempo de V_max a cero = {0:.2f} s\".format(t_brake_m2))\n",
    "print(\"Tiempo total de la prueba = {0:.2f} s\".format(t_tot_m2))\n",
    "print(\"Desplazamiento hasta V_max = {0:.2f} m\".format(x_vmax_m2))\n",
    "print(\"Desplazamiento durante frenado = {0:.2f} m\".format(x_brake_m2))\n",
    "print(\"Desplazamiento total durante la prueba = {0:.2f} m\".format(x_tot_m2))\n",
    "print(\"Velocidad máxima = {0:.3f} m/s\".format(vmax_m2))"
   ]
  },
  {
   "cell_type": "code",
   "execution_count": 22,
   "metadata": {
    "collapsed": true
   },
   "outputs": [
    {
     "name": "stdout",
     "output_type": "stream",
     "text": [
      "Datos Desempeño Masa = 165 kg\n",
      "\n",
      "\n",
      "Tiempo hasta V_max = 68.50 s\n",
      "Tiempo de V_max a cero = 17.00 s\n",
      "Tiempo total de la prueba = 85.50 s\n",
      "Desplazamiento hasta V_max = 1188.14 m\n",
      "Desplazamiento durante frenado = 187.79 m\n",
      "Desplazamiento total durante la prueba = 1375.93 m\n",
      "Velocidad máxima = 24.729 m/s\n"
     ]
    }
   ],
   "source": [
    "# Desempeño Masa 3\n",
    "print(\"Datos Desempeño Masa = {} kg\".format(m3))\n",
    "print(\"\\n\")\n",
    "print(\"Tiempo hasta V_max = {0:.2f} s\".format(t_vmax_m3))\n",
    "print(\"Tiempo de V_max a cero = {0:.2f} s\".format(t_brake_m3))\n",
    "print(\"Tiempo total de la prueba = {0:.2f} s\".format(t_tot_m3))\n",
    "print(\"Desplazamiento hasta V_max = {0:.2f} m\".format(x_vmax_m3))\n",
    "print(\"Desplazamiento durante frenado = {0:.2f} m\".format(x_brake_m3))\n",
    "print(\"Desplazamiento total durante la prueba = {0:.2f} m\".format(x_tot_m3))\n",
    "print(\"Velocidad máxima = {0:.3f} m/s\".format(vmax_m3))"
   ]
  },
  {
   "cell_type": "code",
   "execution_count": 23,
   "metadata": {
    "collapsed": true
   },
   "outputs": [
    {
     "name": "stdout",
     "output_type": "stream",
     "text": [
      "Datos Desempeño Masa = 185 kg\n",
      "\n",
      "\n",
      "Tiempo hasta V_max = 75.00 s\n",
      "Tiempo de V_max a cero = 18.50 s\n",
      "Tiempo total de la prueba = 93.50 s\n",
      "Desplazamiento hasta V_max = 1264.08 m\n",
      "Desplazamiento durante frenado = 201.54 m\n",
      "Desplazamiento total durante la prueba = 1465.62 m\n",
      "Velocidad máxima = 24.450 m/s\n"
     ]
    }
   ],
   "source": [
    "# Desempeño Masa 4\n",
    "print(\"Datos Desempeño Masa = {} kg\".format(m4))\n",
    "print(\"\\n\")\n",
    "print(\"Tiempo hasta V_max = {0:.2f} s\".format(t_vmax_m4))\n",
    "print(\"Tiempo de V_max a cero = {0:.2f} s\".format(t_brake_m4))\n",
    "print(\"Tiempo total de la prueba = {0:.2f} s\".format(t_tot_m4))\n",
    "print(\"Desplazamiento hasta V_max = {0:.2f} m\".format(x_vmax_m4))\n",
    "print(\"Desplazamiento durante frenado = {0:.2f} m\".format(x_brake_m4))\n",
    "print(\"Desplazamiento total durante la prueba = {0:.2f} m\".format(x_tot_m4))\n",
    "print(\"Velocidad máxima = {0:.3f} m/s\".format(vmax_m4))"
   ]
  },
  {
   "cell_type": "markdown",
   "metadata": {},
   "source": [
    "### Gráficas"
   ]
  },
  {
   "cell_type": "code",
   "execution_count": 24,
   "metadata": {
    "collapsed": true
   },
   "outputs": [
    {
     "data": {
      "text/plain": [
       "<matplotlib.legend.Legend at 0x2172228eac8>"
      ]
     },
     "execution_count": 24,
     "metadata": {},
     "output_type": "execute_result"
    },
    {
     "data": {
      "image/png": "[encoded data removed]",
      "text/plain": [
       "<matplotlib.figure.Figure at 0x2172002c470>"
      ]
     },
     "metadata": {},
     "output_type": "display_data"
    }
   ],
   "source": [
    "pylab.xlabel(\"Tiempo [s]\")\n",
    "pylab.ylabel(\"Velocidad [$m/s$]\")\n",
    "pylab.title(\"Velocidad 0-$V_{max}$-0\")\n",
    "\n",
    "pylab.plot(t2_m1, vel_m1, label='{} kg'.format(m1))\n",
    "pylab.plot(t2_m2, vel_m2, label='{} kg'.format(m2))\n",
    "pylab.plot(t2_m3, vel_m3, label='{} kg'.format(m3))\n",
    "pylab.plot(t2_m4, vel_m4, label='{} kg'.format(m4))\n",
    "pylab.grid()\n",
    "pylab.legend(loc='best')\n",
    "#pylab.savefig(os.path.join(output_dir_m,'Velocidad.png'), dpi=100)"
   ]
  },
  {
   "cell_type": "code",
   "execution_count": 25,
   "metadata": {
    "collapsed": true
   },
   "outputs": [
    {
     "data": {
      "text/plain": [
       "<matplotlib.legend.Legend at 0x21722363f28>"
      ]
     },
     "execution_count": 25,
     "metadata": {},
     "output_type": "execute_result"
    },
    {
     "data": {
      "image/png": "[encoded data removed]",
      "text/plain": [
       "<matplotlib.figure.Figure at 0x21722360320>"
      ]
     },
     "metadata": {},
     "output_type": "display_data"
    }
   ],
   "source": [
    "pylab.xlabel(\"Tiempo [s]\")\n",
    "pylab.ylabel(\"Desplazamiento [$m$]\")\n",
    "pylab.title(\"Desplazamiento 0-$V_{max}$-0\")\n",
    "\n",
    "pylab.plot(t2_m1, pos_m1, label='{} kg'.format(m1))\n",
    "pylab.plot(t2_m2, pos_m2, label='{} kg'.format(m2))\n",
    "pylab.plot(t2_m3, pos_m3, label='{} kg'.format(m3))\n",
    "pylab.plot(t2_m4, pos_m4, label='{} kg'.format(m4))\n",
    "pylab.grid()\n",
    "pylab.legend(loc='best')\n",
    "#pylab.savefig(os.path.join(output_dir_m,'Desplazamiento.png'), dpi=100)"
   ]
  },
  {
   "cell_type": "markdown",
   "metadata": {},
   "source": [
    "[Variación de la Masa](#Mass)\n",
    "\n",
    "[Tabla de Contenido](#toc)"
   ]
  },
  {
   "cell_type": "markdown",
   "metadata": {},
   "source": [
    "## Análisis <a class=\"anchor\" id=\"An_m\"></a>"
   ]
  },
  {
   "cell_type": "markdown",
   "metadata": {},
   "source": [
    "|![Desplazamiento.png](files/graphs/Masa/Desplazamiento.png)|![Velocidad.png](files/graphs/Masa/Velocidad.png)|\n",
    "|:---------------------------------------------------------:|:-----------------------------------------------:|\n",
    "|Figura 1a. Desplazamiento del kart durante la prueba. | Figura 1b. Velocidad del kart durante la prueba. |\n",
    "\n",
    "\n",
    "<h5><center>Tabla 1. Datos de desempeño con variación de masa</center></h5>\n",
    "\n",
    "|Parámetro|125 kg|145 kg|165 kg|185 kg|\n",
    "|-------:|:----:|:----:|:----:|:----:|\n",
    "|Tiempo hasta $V_{max}$ [s]|55.5|62|68.5|75|\n",
    "|Tiempo de $V_{max}$ a cero [s]|14|15.5|17|18.5|\n",
    "|Tiempo total de prueba [s]|69.5|77.5|85.5|93.5|\n",
    "|Desplazamiento hasta $V_{max}$ [m]|1008.6|1101.92|1188.14|1264.08|\n",
    "|Desplazamiento durante frenado [m]|157.23|173.01|187.79|201.54|\n",
    "|Desplazamiento total en la prueba [m]|1165.83|1274.93|1375.93|1465.62|\n",
    "|$V_{max}$ [m/s]|25.273|25.002|24.729|24.450|\n",
    "\n",
    "Como era de esperarse, y como se dijo en la introducción, entre menor sea la masa del kart mejor va a ser su desempeño. Otra vez vale la pena aclarar que estos resultados son una simplificación, pues en la vida real el balance es más complejo ya que aumentar la masa puede aumentar el *grip* y mejorar el desempeño del kart (hasta cierto punto). \n",
    "\n",
    "Con las Figuras 1a y 1b se puede ver que entre menor la masa menos tiempo se demora el kart en llegar a su velocidad máxima y menos tiempo se demora en frenar a cero, con lo que la distancia que recorre durante la prueba se hace menor. Esto es una gran ventaja a la hora de marcar tiempos de vuelta, ya que el kart necesita un menor espacio para llegar a su velocidad máxima y puede sacarle más provecho a pistas cortas. \n",
    "\n",
    "Sin embargo, si se observan detalladamente los datos, se ve que la magnitud del desplazamiento es muy grande. Incluso en su configuración más liviana, según el modelo, el kart necesita casi 1.2km para completar la prueba - eso es lo mismo que la recta más larga del calendario de Fórmula 1 (en la pista de Shanghai). Teniendo en cuenta esto es claro que en una pista como un kartódromo el kart nunca podrá - según el modelo - acercarse a su máximo desempeño. \n",
    "\n",
    "Por último, a pesar de que la masa haya tenido un impacto significativo sobre el desplazamiento y los tiempos de la prueba, la velocidad máxima se ve muy poco afectada. Entre su configuración más liviana y su configuración más pesada, la velocidad máxima sólo cambia un 3.3%. "
   ]
  },
  {
   "cell_type": "markdown",
   "metadata": {},
   "source": [
    "[Variación de la Masa](#Mass)\n",
    "\n",
    "[Tabla de Contenido](#toc)"
   ]
  },
  {
   "cell_type": "markdown",
   "metadata": {},
   "source": [
    "------\n",
    "\n",
    "# Variación de la Relación  <a class=\"anchor\" id=\"Rel\"></a>\n",
    "\n",
    "* [Constantes](#Const_N)\n",
    "* [Funciones](#Func_N)\n",
    "* [Desempeño](#Perf_N)\n",
    "* [Análisis](#An_N)\n",
    "\n",
    "## Constantes <a class=\"anchor\" id=\"Const_N\"></a>"
   ]
  },
  {
   "cell_type": "code",
   "execution_count": 26,
   "metadata": {
    "collapsed": true
   },
   "outputs": [],
   "source": [
    "global N\n",
    "\n",
    "N1 = 2\n",
    "N2 = 2.5\n",
    "N3 = 3\n",
    "N4 = 3.5"
   ]
  },
  {
   "cell_type": "markdown",
   "metadata": {},
   "source": [
    "## Funciones <a class=\"anchor\" id=\"Func_N\"></a>"
   ]
  },
  {
   "cell_type": "markdown",
   "metadata": {},
   "source": [
    "### Velocidad Angular Motor"
   ]
  },
  {
   "cell_type": "code",
   "execution_count": 27,
   "metadata": {
    "collapsed": true
   },
   "outputs": [],
   "source": [
    "# Velocidad angular del motor\n",
    "def omega_motor_N (vx):\n",
    "    \n",
    "    omega = (vx*N)/(refc_std) # (rad/s)\n",
    "    \n",
    "    if omega >= omega_max: \n",
    "        omega = omega_max\n",
    "        \n",
    "    return omega"
   ]
  },
  {
   "cell_type": "markdown",
   "metadata": {},
   "source": [
    "### Velocidad Máxima Posible"
   ]
  },
  {
   "cell_type": "code",
   "execution_count": 28,
   "metadata": {
    "collapsed": true
   },
   "outputs": [],
   "source": [
    "# Velocidad máxima posible\n",
    "def vel_max_N ():\n",
    "\n",
    "    v_max = omega_max*refc_std/N\n",
    "    \n",
    "    return v_max"
   ]
  },
  {
   "cell_type": "markdown",
   "metadata": {},
   "source": [
    "## Masa Equivalente"
   ]
  },
  {
   "cell_type": "code",
   "execution_count": 11,
   "metadata": {
    "collapsed": true
   },
   "outputs": [],
   "source": [
    "def m_eq ():\n",
    "    \n",
    "    m_r = ((2*illd + 2*illt)+ieje+((ii+ig)*(N**2)))/(refc_std**2)\n",
    "    \n",
    "    return m_r"
   ]
  },
  {
   "cell_type": "markdown",
   "metadata": {},
   "source": [
    "### Aceleración"
   ]
  },
  {
   "cell_type": "code",
   "execution_count": 30,
   "metadata": {
    "collapsed": true
   },
   "outputs": [],
   "source": [
    "def accel_N (vx,refc=refc_std):   \n",
    "        \n",
    "    ax = (((torque_motor(vx)*N*etaf)/refc) - roll_resist (vx) - drag(vx) - (masa_std*g)*sin(theta))/(masa_std+m_eq())\n",
    "           \n",
    "    if vx >= vel_max_N():\n",
    "        ax = 0\n",
    "               \n",
    "    return ax"
   ]
  },
  {
   "cell_type": "code",
   "execution_count": 31,
   "metadata": {
    "collapsed": true
   },
   "outputs": [],
   "source": [
    "def dvdt_a_N (y, t,refc=refc_std):\n",
    "    xx, vx = y\n",
    "    \n",
    "    T = (torque_motor(vx)*N*etaf)/refc\n",
    "    Rx = roll_resist (vx)\n",
    "    D = drag(vx)\n",
    "    W_i = (masa_std*g)*sin(theta)\n",
    "    \n",
    "    ax = (T-Rx-D-W_i)/(masa_std+m_eq())\n",
    "    \n",
    "    if vx >= vel_max_N ():\n",
    "        ax = 0\n",
    "    \n",
    "    dydt = [vx, ax]\n",
    "    return dydt"
   ]
  },
  {
   "cell_type": "markdown",
   "metadata": {},
   "source": [
    "### Frenado"
   ]
  },
  {
   "cell_type": "code",
   "execution_count": 32,
   "metadata": {
    "collapsed": true
   },
   "outputs": [],
   "source": [
    "def braking_N (vx,refc=refc_std):        \n",
    "    ax_b = (-((T_f*N*etaf)/refc) - roll_resist (vx) -drag(vx) - (masa_std*g)*sin(theta))/(masa_std+m_eq())    \n",
    "    \n",
    "    if vx <= 1e-5:\n",
    "        vx = 0\n",
    "        ax_b = 0\n",
    "    \n",
    "    return ax_b"
   ]
  },
  {
   "cell_type": "code",
   "execution_count": 33,
   "metadata": {
    "collapsed": true
   },
   "outputs": [],
   "source": [
    "def dvdt_b_N (y, t,refc=refc_std):\n",
    "    xx, vx = y\n",
    "    \n",
    "    T = (T_f*N*etaf)/refc\n",
    "    Rx = roll_resist (vx)\n",
    "    D = drag(vx)\n",
    "    W_i = (masa_std*g)*sin(theta)\n",
    "    \n",
    "    ax = (-T-Rx-D-W_i)/(masa_std+m_eq())\n",
    "    \n",
    "    if vx <= 1e-5:\n",
    "        vx = 0\n",
    "        ax = 0\n",
    "    \n",
    "    dydt = [vx, ax]\n",
    "    return dydt"
   ]
  },
  {
   "cell_type": "markdown",
   "metadata": {},
   "source": [
    "[Variación de la Relación](#Rel)\n",
    "\n",
    "[Tabla de Contenido](#toc)"
   ]
  },
  {
   "cell_type": "markdown",
   "metadata": {},
   "source": [
    "## Desempeño <a class=\"anchor\" id=\"Perf_N\"></a>"
   ]
  },
  {
   "cell_type": "code",
   "execution_count": 34,
   "metadata": {
    "collapsed": true
   },
   "outputs": [],
   "source": [
    "def performance_rel (relacion):\n",
    "    \n",
    "    global N\n",
    "    \n",
    "    N = relacion\n",
    "\n",
    "    res_a_N = 1 # Criterio de estabilidad para aceleración\n",
    "    res_b_N = 1 # Criterio de estabilidad para frenado\n",
    "\n",
    "    t0_N = 0 # Tiempo inicial\n",
    "    tf_N = 5 # Tiempo final para primera integración\n",
    "    c0_N = [0,0.001]  # Condiciones iniciales\n",
    "\n",
    "    pos_N = []  # Vector para guardar posicion\n",
    "    vel_N = [] # Vector para guardar velocidad\n",
    "\n",
    "    while res_a_N >= res:\n",
    "        t_N = np.arange(t0_N,tf_N,dt) # Primer sector de tiempo\n",
    "\n",
    "        sol_a_N = integrate.odeint(dvdt_a_N, c0_N, t_N) # Integrar\n",
    "\n",
    "        for i in range(len(t_N)): # Guardar datos\n",
    "            pos_N.append(sol_a_N[:, 0][i]) \n",
    "            vel_N.append(sol_a_N[:, 1][i])\n",
    "\n",
    "        res_a_N = 1-(sol_a_N[:, 1][-101]/sol_a_N[:, 1][-1]) # Verifica estabilidad con velocidades separadas por 0.1s\n",
    "\n",
    "        c0_N = [pos_N[-1],vel_N[-1]] # Nuevas condiciones inciales\n",
    "        t0_N = tf_N # Nuevo tiempo inicial\n",
    "        tf_N = tf_N+0.5 # Nuevo tiempo final\n",
    "\n",
    "        tb_N = t0_N # Tiempo donde empieza a frenar\n",
    "\n",
    "    while res_b_N >= 5e-5: # Empieza a frenar\n",
    "\n",
    "        t_N = np.arange(t0_N,tf_N,dt) # Sector de tiempo\n",
    "\n",
    "        sol_b_N = integrate.odeint(dvdt_b_N, c0_N, t_N) # Integrar\n",
    "\n",
    "        for i in range(len(t_N)): # Guardar datos\n",
    "                pos_N.append(sol_b_N[:, 0][i])\n",
    "                vel_N.append(sol_b_N[:, 1][i])                \n",
    "\n",
    "        res_b_N = 1-(sol_b_N[:, 1][-1]/sol_b_N[:, 1][-101]) # Verifica estabilidad con velocidades separadas por 0.1s\n",
    "\n",
    "        c0_N = [pos_N[-1],vel_N[-1]] # Nuevas condiciones inciales\n",
    "        t0_N = tf_N # Nuevo tiempo inicial\n",
    "        tf_N = tf_N+0.5 # Nuevo tiempo final\n",
    "\n",
    "    t2_N = np.arange(0,t0_N,dt)  # Crear un vector con todo el tiempo transcurrido\n",
    "\n",
    "\n",
    "    return pos_N, vel_N, t2_N, tb_N"
   ]
  },
  {
   "cell_type": "code",
   "execution_count": 35,
   "metadata": {
    "collapsed": true
   },
   "outputs": [],
   "source": [
    "def calc_accel_N(pos_N, vel_N, t2_N, tb_N):\n",
    "    om_N = [] # Vector para guardar velocidad angular\n",
    "    a_x_N = [] # Vector para guardar aceleración \n",
    "\n",
    "    for i in range(len(t2_N)): # Recorrer vector de tiempo\n",
    "        w_N = omega_motor_N(vel_N[i])*(60/(2*np.pi)) # Calcular RPM del motor\n",
    "    \n",
    "        # Calcular aceleraciones en arranque y frenado\n",
    "        if i <= (tb_N)/dt:\n",
    "            a_N = accel_N(vel_N[i])\n",
    "        else: \n",
    "            a_N = braking_N(vel_N[i])\n",
    "\n",
    "        om_N.append(w_N)\n",
    "        a_x_N.append(a_N)\n",
    "    \n",
    "    # ---------------------\n",
    "    \n",
    "    # Aceleración máxima\n",
    "    a_Nax_N = np.max(a_x_N)/g # En g's\n",
    "    a_Naxb_N = np.min(a_x_N)/g # En g's\n",
    "\n",
    "    # Tiempos\n",
    "    t_vmax_N = vel_N.index(np.max(vel_N))*dt # [s]\n",
    "    t_brake_N = (len(vel_N)-vel_N.index(np.max(vel_N)))*dt\n",
    "    t_tot_N = t_vmax_N+t_brake_N\n",
    "\n",
    "    # Distancias\n",
    "    x_vmax_N = pos_N[vel_N.index(np.max(vel_N))]\n",
    "    x_brake_N = pos_N[-1] - x_vmax_N\n",
    "    x_tot_N = x_vmax_N + x_brake_N\n",
    "\n",
    "    # Velocidad\n",
    "    vmax_N = np.max(vel_N)\n",
    "    \n",
    "    return t_vmax_N, t_brake_N, t_tot_N, x_vmax_N, x_brake_N, x_tot_N, vmax_N"
   ]
  },
  {
   "cell_type": "markdown",
   "metadata": {},
   "source": [
    "[Variación de la Relación](#Rel)\n",
    "\n",
    "[Tabla de Contenido](#toc)"
   ]
  },
  {
   "cell_type": "markdown",
   "metadata": {},
   "source": [
    "### Cálculos"
   ]
  },
  {
   "cell_type": "code",
   "execution_count": 36,
   "metadata": {
    "collapsed": true
   },
   "outputs": [],
   "source": [
    "pos_N1, vel_N1, t2_N1, tb_N1 = performance_rel(N1)\n",
    "pos_N2, vel_N2, t2_N2, tb_N2 = performance_rel(N2)\n",
    "pos_N3, vel_N3, t2_N3, tb_N3 = performance_rel(N3)\n",
    "pos_N4, vel_N4, t2_N4, tb_N4 = performance_rel(N4)"
   ]
  },
  {
   "cell_type": "code",
   "execution_count": 37,
   "metadata": {
    "collapsed": true
   },
   "outputs": [],
   "source": [
    "t_vmax_N1, t_brake_N1, t_tot_N1, x_vmax_N1, x_brake_N1, x_tot_N1, vmax_N1 = calc_accel_N(pos_N1, vel_N1, t2_N1, tb_N1)\n",
    "\n",
    "t_vmax_N2, t_brake_N2, t_tot_N2, x_vmax_N2, x_brake_N2, x_tot_N2, vmax_N2 = calc_accel_N(pos_N2, vel_N2, t2_N2, tb_N2)\n",
    "\n",
    "t_vmax_N3, t_brake_N3, t_tot_N3, x_vmax_N3, x_brake_N3, x_tot_N3, vmax_N3 = calc_accel_N(pos_N3, vel_N3, t2_N3, tb_N3)\n",
    "\n",
    "t_vmax_N4, t_brake_N4, t_tot_N4, x_vmax_N4, x_brake_N4, x_tot_N4, vmax_N4 = calc_accel_N(pos_N4, vel_N4, t2_N4, tb_N4)\n"
   ]
  },
  {
   "cell_type": "code",
   "execution_count": 38,
   "metadata": {
    "collapsed": true
   },
   "outputs": [
    {
     "name": "stdout",
     "output_type": "stream",
     "text": [
      "Datos Desempeño N_c = 2\n",
      "\n",
      "\n",
      "Tiempo hasta V_max = 62.00 s\n",
      "Tiempo de V_max a cero = 15.50 s\n",
      "Tiempo total de la prueba = 77.50 s\n",
      "Desplazamiento hasta V_max = 1121.54 m\n",
      "Desplazamiento durante frenado = 178.15 m\n",
      "Desplazamiento total durante la prueba = 1299.69 m\n",
      "Velocidad máxima = 25.481 m/s\n"
     ]
    }
   ],
   "source": [
    "# Desempeño Relación 1\n",
    "print(\"Datos Desempeño N_c = {}\".format(N1))\n",
    "print(\"\\n\")\n",
    "print(\"Tiempo hasta V_max = {0:.2f} s\".format(t_vmax_N1))\n",
    "print(\"Tiempo de V_max a cero = {0:.2f} s\".format(t_brake_N1))\n",
    "print(\"Tiempo total de la prueba = {0:.2f} s\".format(t_tot_N1))\n",
    "print(\"Desplazamiento hasta V_max = {0:.2f} m\".format(x_vmax_N1))\n",
    "print(\"Desplazamiento durante frenado = {0:.2f} m\".format(x_brake_N1))\n",
    "print(\"Desplazamiento total durante la prueba = {0:.2f} m\".format(x_tot_N1))\n",
    "print(\"Velocidad máxima = {0:.3f} m/s\".format(vmax_N1))"
   ]
  },
  {
   "cell_type": "code",
   "execution_count": 39,
   "metadata": {
    "collapsed": true
   },
   "outputs": [
    {
     "name": "stdout",
     "output_type": "stream",
     "text": [
      "Datos Desempeño N_c = 2.5\n",
      "\n",
      "\n",
      "Tiempo hasta V_max = 54.50 s\n",
      "Tiempo de V_max a cero = 14.00 s\n",
      "Tiempo total de la prueba = 68.50 s\n",
      "Desplazamiento hasta V_max = 1104.20 m\n",
      "Desplazamiento durante frenado = 176.39 m\n",
      "Desplazamiento total durante la prueba = 1280.58 m\n",
      "Velocidad máxima = 28.037 m/s\n"
     ]
    }
   ],
   "source": [
    "# Desempeño Relación 2\n",
    "print(\"Datos Desempeño N_c = {}\".format(N2))\n",
    "print(\"\\n\")\n",
    "print(\"Tiempo hasta V_max = {0:.2f} s\".format(t_vmax_N2))\n",
    "print(\"Tiempo de V_max a cero = {0:.2f} s\".format(t_brake_N2))\n",
    "print(\"Tiempo total de la prueba = {0:.2f} s\".format(t_tot_N2))\n",
    "print(\"Desplazamiento hasta V_max = {0:.2f} m\".format(x_vmax_N2))\n",
    "print(\"Desplazamiento durante frenado = {0:.2f} m\".format(x_brake_N2))\n",
    "print(\"Desplazamiento total durante la prueba = {0:.2f} m\".format(x_tot_N2))\n",
    "print(\"Velocidad máxima = {0:.3f} m/s\".format(vmax_N2))"
   ]
  },
  {
   "cell_type": "code",
   "execution_count": 40,
   "metadata": {
    "collapsed": true
   },
   "outputs": [
    {
     "name": "stdout",
     "output_type": "stream",
     "text": [
      "Datos Desempeño N_c = 3\n",
      "\n",
      "\n",
      "Tiempo hasta V_max = 19.89 s\n",
      "Tiempo de V_max a cero = 11.11 s\n",
      "Tiempo total de la prueba = 31.00 s\n",
      "Desplazamiento hasta V_max = 253.68 m\n",
      "Desplazamiento durante frenado = 119.51 m\n",
      "Desplazamiento total durante la prueba = 373.18 m\n",
      "Velocidad máxima = 23.775 m/s\n"
     ]
    }
   ],
   "source": [
    "# Desempeño Relación 3\n",
    "print(\"Datos Desempeño N_c = {}\".format(N3))\n",
    "print(\"\\n\")\n",
    "print(\"Tiempo hasta V_max = {0:.2f} s\".format(t_vmax_N3))\n",
    "print(\"Tiempo de V_max a cero = {0:.2f} s\".format(t_brake_N3))\n",
    "print(\"Tiempo total de la prueba = {0:.2f} s\".format(t_tot_N3))\n",
    "print(\"Desplazamiento hasta V_max = {0:.2f} m\".format(x_vmax_N3))\n",
    "print(\"Desplazamiento durante frenado = {0:.2f} m\".format(x_brake_N3))\n",
    "print(\"Desplazamiento total durante la prueba = {0:.2f} m\".format(x_tot_N3))\n",
    "print(\"Velocidad máxima = {0:.3f} m/s\".format(vmax_N3))"
   ]
  },
  {
   "cell_type": "code",
   "execution_count": 41,
   "metadata": {
    "collapsed": true
   },
   "outputs": [
    {
     "name": "stdout",
     "output_type": "stream",
     "text": [
      "Datos Desempeño N_c = 3.5\n",
      "\n",
      "\n",
      "Tiempo hasta V_max = 13.05 s\n",
      "Tiempo de V_max a cero = 8.95 s\n",
      "Tiempo total de la prueba = 22.00 s\n",
      "Desplazamiento hasta V_max = 132.73 m\n",
      "Desplazamiento durante frenado = 87.78 m\n",
      "Desplazamiento total durante la prueba = 220.52 m\n",
      "Velocidad máxima = 20.379 m/s\n"
     ]
    }
   ],
   "source": [
    "# Desempeño Relación 4\n",
    "print(\"Datos Desempeño N_c = {}\".format(N4))\n",
    "print(\"\\n\")\n",
    "print(\"Tiempo hasta V_max = {0:.2f} s\".format(t_vmax_N4))\n",
    "print(\"Tiempo de V_max a cero = {0:.2f} s\".format(t_brake_N4))\n",
    "print(\"Tiempo total de la prueba = {0:.2f} s\".format(t_tot_N4))\n",
    "print(\"Desplazamiento hasta V_max = {0:.2f} m\".format(x_vmax_N4))\n",
    "print(\"Desplazamiento durante frenado = {0:.2f} m\".format(x_brake_N4))\n",
    "print(\"Desplazamiento total durante la prueba = {0:.2f} m\".format(x_tot_N4))\n",
    "print(\"Velocidad máxima = {0:.3f} m/s\".format(vmax_N4))"
   ]
  },
  {
   "cell_type": "markdown",
   "metadata": {},
   "source": [
    "### Gráficas"
   ]
  },
  {
   "cell_type": "code",
   "execution_count": 42,
   "metadata": {
    "collapsed": true
   },
   "outputs": [
    {
     "data": {
      "text/plain": [
       "<matplotlib.legend.Legend at 0x21725facef0>"
      ]
     },
     "execution_count": 42,
     "metadata": {},
     "output_type": "execute_result"
    },
    {
     "data": {
      "image/png": "[encoded data removed]",
      "text/plain": [
       "<matplotlib.figure.Figure at 0x217224e22b0>"
      ]
     },
     "metadata": {},
     "output_type": "display_data"
    }
   ],
   "source": [
    "pylab.xlabel(\"Tiempo [s]\")\n",
    "pylab.ylabel(\"Velocidad [$m/s$]\")\n",
    "pylab.title(\"Velocidad 0-$V_{max}$-0\")\n",
    "\n",
    "pylab.plot(t2_N1, vel_N1, label='$N_C =$ {}'.format(N1))\n",
    "pylab.plot(t2_N2, vel_N2, label='$N_C =$ {}'.format(N2))\n",
    "pylab.plot(t2_N3, vel_N3, label='$N_C =$ {}'.format(N3))\n",
    "pylab.plot(t2_N4, vel_N4, label='$N_C =$ {}'.format(N4))\n",
    "pylab.grid()\n",
    "pylab.legend(loc='best')\n",
    "#pylab.savefig(os.path.join(output_dir_N,'Velocidad.png'), dpi=500)"
   ]
  },
  {
   "cell_type": "code",
   "execution_count": 43,
   "metadata": {
    "collapsed": true
   },
   "outputs": [
    {
     "data": {
      "text/plain": [
       "<matplotlib.legend.Legend at 0x217260f5518>"
      ]
     },
     "execution_count": 43,
     "metadata": {},
     "output_type": "execute_result"
    },
    {
     "data": {
      "image/png": "[encoded data removed]",
      "text/plain": [
       "<matplotlib.figure.Figure at 0x21726116cc0>"
      ]
     },
     "metadata": {},
     "output_type": "display_data"
    }
   ],
   "source": [
    "pylab.xlabel(\"Tiempo [s]\")\n",
    "pylab.ylabel(\"Desplazamiento [$m$]\")\n",
    "pylab.title(\"Desplazamiento 0-$V_{max}$-0\")\n",
    "\n",
    "pylab.plot(t2_N1, pos_N1, label='$N_C =$ {}'.format(N1))\n",
    "pylab.plot(t2_N2, pos_N2, label='$N_C =$ {}'.format(N2))\n",
    "pylab.plot(t2_N3, pos_N3, label='$N_C =$ {}'.format(N3))\n",
    "pylab.plot(t2_N4, pos_N4, label='$N_C =$ {}'.format(N4))\n",
    "pylab.grid()\n",
    "pylab.legend(loc='best')\n",
    "#pylab.savefig(os.path.join(output_dir_N,'Desplazamiento.png'), dpi=500)"
   ]
  },
  {
   "cell_type": "markdown",
   "metadata": {},
   "source": [
    "[Variación de la Relación](#Rel)\n",
    "\n",
    "[Tabla de Contenido](#toc)"
   ]
  },
  {
   "cell_type": "markdown",
   "metadata": {},
   "source": [
    "## Análisis <a class=\"anchor\" id=\"An_N\"></a>"
   ]
  },
  {
   "cell_type": "markdown",
   "metadata": {},
   "source": [
    "|![Desplazamiento.png](files/graphs/Relacion/Desplazamiento.png)|![Velocidad.png](files/graphs/Relacion/Velocidad.png)|\n",
    "|:---------------------------------------------------------:|:-----------------------------------------------:|\n",
    "|Figura 2a. Desplazamiento del kart durante la prueba. | Figura 2b. Velocidad del kart durante la prueba. |\n",
    "\n",
    "\n",
    "<h5><center>Tabla 2. Datos de desempeño con variación de la relación</center></h5>\n",
    "\n",
    "|Parámetro|$N_C$ = 2|$N_C$ = 2.5|$N_C$ = 3|$N_C$ = 3.5|\n",
    "|-------:|:----:|:----:|:----:|:----:|\n",
    "|Tiempo hasta $V_{max}$ [s]|62|54.5|19.89|13.05|\n",
    "|Tiempo de $V_{max}$ a cero [s]|15.5|14|11.11|8.95|\n",
    "|Tiempo total de prueba [s]|77.5|68.5|31|22|\n",
    "|Desplazamiento hasta $V_{max}$ [m]|1121.54|1104.20|253.68|132.73|\n",
    "|Desplazamiento durante frenado [m]|178.15|176.39|119.51|87.78|\n",
    "|Desplazamiento total en la prueba [m]|1299.69|1280.58|373.18|220.52|\n",
    "|$V_{max}$ [m/s]|25.481|28.037|23.775|20.379|\n",
    "\n",
    "Como se dijo en la introducción, la variacion de este parámetro puede ser la más interesante ya que es la que menos afecta las simplificaciones ya hechas en el modelo y toma todos los otros datos como los registrados físicamente sobre el kart real. \n",
    "\n",
    "De entrada, simplemente observando las gráficas se ve que el cambio es severo. En la Figura 2a se puede ver que hay un cambio drástico entre el desplazamiento con una relación de 2.5 y una relación de 3, pero la variación entre 2 y 2.5, y 3 y 3.5 es muy pequeña. Esto lleva a pensar que entre el punto óptimo para la relación podría encontrarse entre 2.5 y 3. \n",
    "\n",
    "Para entender mejor lo que ocurre en la Figura 2a es necesario observar la Figura 2b en donde se tiene la velocidad contra el tiempo para cada prueba. Para las dos relaciones más grandes se puede ver que estas no se nivelan de la misma manera que las otras dos, y esto se debe a que el motor está llegando a su velocidad angular máxima. Como aumentar la relación directamente reduce la velocidad líneal y aumenta el torque transmitido al eje principal, para las relaciones grandes el kart acelera de manera más violenta y y llega a su velocidad máxima muy rápido. \n",
    "\n",
    "La relación tiene un impacto significativo sobre la velocidad máxima, pues entre la configuración más pequeña y la más grande, la velocidad máxima cambia un 22.25%. Sin embargo, acá vale la pena preguntarse sobre el ambiente en el que correrá el kart. Para una relación de 2.5 el kart puede llegar a 28 m/s (es decir 100 km/h), pero necesita una distancia de 1.2km para lograr esto. Por otro lado, para una relación de 3.5 el kart puede llegar a 20 m/s (es decir 74 km/h), pero sólo necesita 200m para llegar a eso. Esa sí es una distancia que podría conseguirse en un kartódromo y por ende puede tener más sentido aplicar una relación más grande que la actual para aprovechar mejor las cortas distancias de la pista. "
   ]
  },
  {
   "cell_type": "markdown",
   "metadata": {},
   "source": [
    "[Variación de la Relación](#Rel)\n",
    "\n",
    "[Tabla de Contenido](#toc)"
   ]
  },
  {
   "cell_type": "markdown",
   "metadata": {},
   "source": [
    "------\n",
    "\n",
    "# Variación de las Llantas  <a class=\"anchor\" id=\"Tires\"></a>\n",
    "\n",
    "* [Constantes](#Const_t)\n",
    "* [Funciones](#Func_t)\n",
    "* [Desempeño](#Perf_t)\n",
    "* [Análisis](#An_t)\n",
    "\n",
    "## Constantes <a class=\"anchor\" id=\"Const_t\"></a>"
   ]
  },
  {
   "cell_type": "code",
   "execution_count": 44,
   "metadata": {
    "collapsed": true
   },
   "outputs": [],
   "source": [
    "global r\n",
    "\n",
    "r1 = 0.1\n",
    "r2 = 0.125\n",
    "r3 = 0.15\n",
    "r4 = 0.175\n",
    "\n",
    "refc1 = 0.98*r1\n",
    "refc2 = 0.98*r2\n",
    "refc3 = 0.98*r3\n",
    "refc4 = 0.98*r4"
   ]
  },
  {
   "cell_type": "markdown",
   "metadata": {},
   "source": [
    "## Funciones <a class=\"anchor\" id=\"Func_t\"></a>"
   ]
  },
  {
   "cell_type": "markdown",
   "metadata": {},
   "source": [
    "### Velocidad Angular Motor"
   ]
  },
  {
   "cell_type": "code",
   "execution_count": 45,
   "metadata": {
    "collapsed": true
   },
   "outputs": [],
   "source": [
    "# Velocidad angular del motor\n",
    "def omega_motor_r (vx):\n",
    "    \n",
    "    omega = (vx*ng_std)/(r) # (rad/s)\n",
    "    \n",
    "    if omega >= omega_max: \n",
    "        omega = omega_max\n",
    "        \n",
    "    return omega"
   ]
  },
  {
   "cell_type": "markdown",
   "metadata": {},
   "source": [
    "### Velocidad Máxima Posible"
   ]
  },
  {
   "cell_type": "code",
   "execution_count": 46,
   "metadata": {
    "collapsed": true
   },
   "outputs": [],
   "source": [
    "# Velocidad máxima posible\n",
    "def vel_max_r ():\n",
    "\n",
    "    v_max = omega_max*r/ng_std\n",
    "    \n",
    "    return v_max"
   ]
  },
  {
   "cell_type": "markdown",
   "metadata": {},
   "source": [
    "## Masa Equivalente"
   ]
  },
  {
   "cell_type": "code",
   "execution_count": 12,
   "metadata": {
    "collapsed": true
   },
   "outputs": [],
   "source": [
    "def m_eq_r ():\n",
    "    \n",
    "    m_r = ((2*illd + 2*illt)+ieje+((ii+ig)*(ng_std**2)))/(r**2)\n",
    "    \n",
    "    return m_r"
   ]
  },
  {
   "cell_type": "markdown",
   "metadata": {},
   "source": [
    "## Aceleración"
   ]
  },
  {
   "cell_type": "code",
   "execution_count": 48,
   "metadata": {
    "collapsed": true
   },
   "outputs": [],
   "source": [
    "def accel_r (vx):   \n",
    "        \n",
    "    ax = (((torque_motor(vx)*ng_std*etaf)/r) - roll_resist (vx) - drag(vx) - (masa_std*g)*sin(theta))/(masa_std+m_eq_r())\n",
    "           \n",
    "    if vx >= vel_max_r():\n",
    "        ax = 0\n",
    "               \n",
    "    return ax"
   ]
  },
  {
   "cell_type": "code",
   "execution_count": 49,
   "metadata": {
    "collapsed": true
   },
   "outputs": [],
   "source": [
    "def dvdt_a_r (y, t):\n",
    "    xx, vx = y\n",
    "    \n",
    "    T = (torque_motor(vx)*ng_std*etaf)/r\n",
    "    Rx = roll_resist (vx)\n",
    "    D = drag(vx)\n",
    "    W_i = (masa_std*g)*sin(theta)\n",
    "    \n",
    "    ax = (T-Rx-D-W_i)/(masa_std+m_eq_r())\n",
    "    \n",
    "    if vx >= vel_max_r ():\n",
    "        ax = 0\n",
    "    \n",
    "    dydt = [vx, ax]\n",
    "    return dydt"
   ]
  },
  {
   "cell_type": "markdown",
   "metadata": {},
   "source": [
    "## Frenado"
   ]
  },
  {
   "cell_type": "code",
   "execution_count": 50,
   "metadata": {
    "collapsed": true
   },
   "outputs": [],
   "source": [
    "def braking_r (vx):        \n",
    "    ax_b = (-((T_f*ng_std*etaf)/r) - roll_resist (vx) -drag(vx) - (masa_std*g)*sin(theta))/(masa_std+m_eq_r())    \n",
    "    \n",
    "    if vx <= 1e-5:\n",
    "        vx = 0\n",
    "        ax_b = 0\n",
    "    \n",
    "    return ax_b"
   ]
  },
  {
   "cell_type": "code",
   "execution_count": 51,
   "metadata": {
    "collapsed": true
   },
   "outputs": [],
   "source": [
    "def dvdt_b_r (y, t,refc=refc_std):\n",
    "    xx, vx = y\n",
    "    \n",
    "    T = (T_f*ng_std*etaf)/r\n",
    "    Rx = roll_resist (vx)\n",
    "    D = drag(vx)\n",
    "    W_i = (masa_std*g)*sin(theta)\n",
    "    \n",
    "    ax = (-T-Rx-D-W_i)/(masa_std+m_eq_r())\n",
    "    \n",
    "    if vx <= 1e-5:\n",
    "        vx = 0\n",
    "        ax = 0\n",
    "    \n",
    "    dydt = [vx, ax]\n",
    "    return dydt"
   ]
  },
  {
   "cell_type": "markdown",
   "metadata": {},
   "source": [
    "[Variación del Radio de las Llantas](#Tires)\n",
    "\n",
    "[Tabla de Contenido](#toc)"
   ]
  },
  {
   "cell_type": "markdown",
   "metadata": {},
   "source": [
    "## Desempeño"
   ]
  },
  {
   "cell_type": "code",
   "execution_count": 52,
   "metadata": {
    "collapsed": true
   },
   "outputs": [],
   "source": [
    "def performance_tire (radio):\n",
    "    \n",
    "    global r\n",
    "    \n",
    "    r = radio\n",
    "\n",
    "    res_a_r = 1 # Criterio de estabilidad para aceleración\n",
    "    res_b_r = 1 # Criterio de estabilidad para frenado\n",
    "\n",
    "    t0_r = 0 # Tiempo inicial\n",
    "    tf_r = 5 # Tiempo final para primera integración\n",
    "    c0_r = [0,0.001]  # Condiciones iniciales\n",
    "\n",
    "    pos_r = []  # Vector para guardar posicion\n",
    "    vel_r = [] # Vector para guardar velocidad\n",
    "\n",
    "    while res_a_r >= res:\n",
    "        t_r = np.arange(t0_r,tf_r,dt) # Primer sector de tiempo\n",
    "\n",
    "        sol_a_r = integrate.odeint(dvdt_a_r, c0_r, t_r) # Integrar\n",
    "\n",
    "        for i in range(len(t_r)): # Guardar datos\n",
    "            pos_r.append(sol_a_r[:, 0][i]) \n",
    "            vel_r.append(sol_a_r[:, 1][i])\n",
    "\n",
    "        res_a_r = 1-(sol_a_r[:, 1][-101]/sol_a_r[:, 1][-1]) # Verifica estabilidad con velocidades separadas por 0.1s\n",
    "\n",
    "        c0_r = [pos_r[-1],vel_r[-1]] # Nuevas condiciones inciales\n",
    "        t0_r = tf_r # Nuevo tiempo inicial\n",
    "        tf_r = tf_r+0.5 # Nuevo tiempo final\n",
    "\n",
    "        tb_r = t0_r # Tiempo donde empieza a frenar\n",
    "\n",
    "    while res_b_r >= 5e-5: # Empieza a frenar\n",
    "\n",
    "        t_r = np.arange(t0_r,tf_r,dt) # Sector de tiempo\n",
    "\n",
    "        sol_b_r = integrate.odeint(dvdt_b_r, c0_r, t_r) # Integrar\n",
    "\n",
    "        for i in range(len(t_r)): # Guardar datos\n",
    "                pos_r.append(sol_b_r[:, 0][i])\n",
    "                vel_r.append(sol_b_r[:, 1][i])                \n",
    "\n",
    "        res_b_r = 1-(sol_b_r[:, 1][-1]/sol_b_r[:, 1][-101]) # Verifica estabilidad con velocidades separadas por 0.1s\n",
    "\n",
    "        c0_r = [pos_r[-1],vel_r[-1]] # Nuevas condiciones inciales\n",
    "        t0_r = tf_r # Nuevo tiempo inicial\n",
    "        tf_r = tf_r+0.5 # Nuevo tiempo final\n",
    "\n",
    "    t2_r = np.arange(0,t0_r,dt)  # Crear un vector con todo el tiempo transcurrido\n",
    "\n",
    "\n",
    "    return pos_r, vel_r, t2_r, tb_r"
   ]
  },
  {
   "cell_type": "code",
   "execution_count": 53,
   "metadata": {
    "collapsed": true
   },
   "outputs": [],
   "source": [
    "def calc_accel_r (pos_r, vel_r, t2_r, tb_r):\n",
    "    om_r = [] # Vector para guardar velocidad angular\n",
    "    a_x_r = [] # Vector para guardar aceleración \n",
    "\n",
    "    for i in range(len(t2_r)): # Recorrer vector de tiempo\n",
    "        w_r = omega_motor_r(vel_r[i])*(60/(2*np.pi)) # Calcular RPM del motor\n",
    "    \n",
    "        # Calcular aceleraciones en arranque y frenado\n",
    "        if i <= (tb_r)/dt:\n",
    "            a_r = accel_r(vel_r[i])\n",
    "        else: \n",
    "            a_r = braking_r(vel_r[i])\n",
    "\n",
    "        om_r.append(w_r)\n",
    "        a_x_r.append(a_r)\n",
    "    \n",
    "    # ---------------------\n",
    "    \n",
    "    # Aceleración máxima\n",
    "    a_rax_r = np.max(a_x_r)/g # En g's\n",
    "    a_raxb_r = np.min(a_x_r)/g # En g's\n",
    "\n",
    "    # Tiempos\n",
    "    t_vmax_r = vel_r.index(np.max(vel_r))*dt # [s]\n",
    "    t_brake_r = (len(vel_r)-vel_r.index(np.max(vel_r)))*dt\n",
    "    t_tot_r = t_vmax_r+t_brake_r\n",
    "\n",
    "    # Distancias\n",
    "    x_vmax_r = pos_r[vel_r.index(np.max(vel_r))]\n",
    "    x_brake_r = pos_r[-1] - x_vmax_r\n",
    "    x_tot_r = x_vmax_r + x_brake_r\n",
    "\n",
    "    # Velocidad\n",
    "    vmax_r = np.max(vel_r)\n",
    "    \n",
    "    return t_vmax_r, t_brake_r, t_tot_r, x_vmax_r, x_brake_r, x_tot_r, vmax_r"
   ]
  },
  {
   "cell_type": "markdown",
   "metadata": {},
   "source": [
    "[Variación del Radio de las Llantas](#Tires)\n",
    "\n",
    "[Tabla de Contenido](#toc)"
   ]
  },
  {
   "cell_type": "markdown",
   "metadata": {},
   "source": [
    "### Cálculos"
   ]
  },
  {
   "cell_type": "code",
   "execution_count": 54,
   "metadata": {
    "collapsed": true
   },
   "outputs": [],
   "source": [
    "pos_r1, vel_r1, t2_r1, tb_r1 = performance_tire(refc1)\n",
    "pos_r2, vel_r2, t2_r2, tb_r2 = performance_tire(refc2)\n",
    "pos_r3, vel_r3, t2_r3, tb_r3 = performance_tire(refc3)\n",
    "pos_r4, vel_r4, t2_r4, tb_r4 = performance_tire(refc4)"
   ]
  },
  {
   "cell_type": "code",
   "execution_count": 55,
   "metadata": {
    "collapsed": true
   },
   "outputs": [],
   "source": [
    "t_vmax_r1, t_brake_r1, t_tot_r1, x_vmax_r1, x_brake_r1, x_tot_r1, vmax_r1 = calc_accel_r(pos_r1, vel_r1, t2_r1, tb_r1)\n",
    "\n",
    "t_vmax_r2, t_brake_r2, t_tot_r2, x_vmax_r2, x_brake_r2, x_tot_r2, vmax_r2 = calc_accel_r(pos_r2, vel_r2, t2_r2, tb_r2)\n",
    "\n",
    "t_vmax_r3, t_brake_r3, t_tot_r3, x_vmax_r3, x_brake_r3, x_tot_r3, vmax_r3 = calc_accel_r(pos_r3, vel_r3, t2_r3, tb_r3)\n",
    "\n",
    "t_vmax_r4, t_brake_r4, t_tot_r4, x_vmax_r4, x_brake_r4, x_tot_r4, vmax_r4 = calc_accel_r(pos_r4, vel_r4, t2_r4, tb_r4)\n"
   ]
  },
  {
   "cell_type": "code",
   "execution_count": 58,
   "metadata": {
    "collapsed": true
   },
   "outputs": [
    {
     "name": "stdout",
     "output_type": "stream",
     "text": [
      "Datos Desempeño Radio = 0.1\n",
      "\n",
      "\n",
      "Tiempo hasta V_max = 38.49 s\n",
      "Tiempo de V_max a cero = 15.51 s\n",
      "Tiempo total de la prueba = 54.00 s\n",
      "Desplazamiento hasta V_max = 642.83 m\n",
      "Desplazamiento durante frenado = 195.51 m\n",
      "Desplazamiento total durante la prueba = 838.34 m\n",
      "Velocidad máxima = 27.007 m/s\n"
     ]
    }
   ],
   "source": [
    "# Desempeño Llantas 1\n",
    "print(\"Datos Desempeño Radio = {}\".format(r1))\n",
    "print(\"\\n\")\n",
    "print(\"Tiempo hasta V_max = {0:.2f} s\".format(t_vmax_r1))\n",
    "print(\"Tiempo de V_max a cero = {0:.2f} s\".format(t_brake_r1))\n",
    "print(\"Tiempo total de la prueba = {0:.2f} s\".format(t_tot_r1))\n",
    "print(\"Desplazamiento hasta V_max = {0:.2f} m\".format(x_vmax_r1))\n",
    "print(\"Desplazamiento durante frenado = {0:.2f} m\".format(x_brake_r1))\n",
    "print(\"Desplazamiento total durante la prueba = {0:.2f} m\".format(x_tot_r1))\n",
    "print(\"Velocidad máxima = {0:.3f} m/s\".format(vmax_r1))"
   ]
  },
  {
   "cell_type": "code",
   "execution_count": 60,
   "metadata": {
    "collapsed": true
   },
   "outputs": [
    {
     "name": "stdout",
     "output_type": "stream",
     "text": [
      "Datos Desempeño Radio = 0.125\n",
      "\n",
      "\n",
      "Tiempo hasta V_max = 62.00 s\n",
      "Tiempo de V_max a cero = 16.00 s\n",
      "Tiempo total de la prueba = 78.00 s\n",
      "Desplazamiento hasta V_max = 1153.30 m\n",
      "Desplazamiento durante frenado = 184.26 m\n",
      "Desplazamiento total durante la prueba = 1337.57 m\n",
      "Velocidad máxima = 26.102 m/s\n"
     ]
    }
   ],
   "source": [
    "# Desempeño Llantas 2\n",
    "print(\"Datos Desempeño Radio = {}\".format(r2))\n",
    "print(\"\\n\")\n",
    "print(\"Tiempo hasta V_max = {0:.2f} s\".format(t_vmax_r2))\n",
    "print(\"Tiempo de V_max a cero = {0:.2f} s\".format(t_brake_r2))\n",
    "print(\"Tiempo total de la prueba = {0:.2f} s\".format(t_tot_r2))\n",
    "print(\"Desplazamiento hasta V_max = {0:.2f} m\".format(x_vmax_r2))\n",
    "print(\"Desplazamiento durante frenado = {0:.2f} m\".format(x_brake_r2))\n",
    "print(\"Desplazamiento total durante la prueba = {0:.2f} m\".format(x_tot_r2))\n",
    "print(\"Velocidad máxima = {0:.3f} m/s\".format(vmax_r2))"
   ]
  },
  {
   "cell_type": "code",
   "execution_count": 61,
   "metadata": {
    "collapsed": true
   },
   "outputs": [
    {
     "name": "stdout",
     "output_type": "stream",
     "text": [
      "Datos Desempeño Radio = 0.15\n",
      "\n",
      "\n",
      "Tiempo hasta V_max = 66.00 s\n",
      "Tiempo de V_max a cero = 16.00 s\n",
      "Tiempo total de la prueba = 82.00 s\n",
      "Desplazamiento hasta V_max = 1114.66 m\n",
      "Desplazamiento durante frenado = 174.34 m\n",
      "Desplazamiento total durante la prueba = 1288.99 m\n",
      "Velocidad máxima = 24.049 m/s\n"
     ]
    }
   ],
   "source": [
    "# Desempeño Llantas 3\n",
    "print(\"Datos Desempeño Radio = {}\".format(r3))\n",
    "print(\"\\n\")\n",
    "print(\"Tiempo hasta V_max = {0:.2f} s\".format(t_vmax_r3))\n",
    "print(\"Tiempo de V_max a cero = {0:.2f} s\".format(t_brake_r3))\n",
    "print(\"Tiempo total de la prueba = {0:.2f} s\".format(t_tot_r3))\n",
    "print(\"Desplazamiento hasta V_max = {0:.2f} m\".format(x_vmax_r3))\n",
    "print(\"Desplazamiento durante frenado = {0:.2f} m\".format(x_brake_r3))\n",
    "print(\"Desplazamiento total durante la prueba = {0:.2f} m\".format(x_tot_r3))\n",
    "print(\"Velocidad máxima = {0:.3f} m/s\".format(vmax_r3))"
   ]
  },
  {
   "cell_type": "code",
   "execution_count": 62,
   "metadata": {
    "collapsed": true
   },
   "outputs": [
    {
     "name": "stdout",
     "output_type": "stream",
     "text": [
      "Datos Desempeño Radio = 0.175\n",
      "\n",
      "\n",
      "Tiempo hasta V_max = 71.00 s\n",
      "Tiempo de V_max a cero = 16.50 s\n",
      "Tiempo total de la prueba = 87.50 s\n",
      "Desplazamiento hasta V_max = 1090.86 m\n",
      "Desplazamiento durante frenado = 167.08 m\n",
      "Desplazamiento total durante la prueba = 1257.93 m\n",
      "Velocidad máxima = 22.342 m/s\n"
     ]
    }
   ],
   "source": [
    "# Desempeño Llantas 4\n",
    "print(\"Datos Desempeño Radio = {}\".format(r4))\n",
    "print(\"\\n\")\n",
    "print(\"Tiempo hasta V_max = {0:.2f} s\".format(t_vmax_r4))\n",
    "print(\"Tiempo de V_max a cero = {0:.2f} s\".format(t_brake_r4))\n",
    "print(\"Tiempo total de la prueba = {0:.2f} s\".format(t_tot_r4))\n",
    "print(\"Desplazamiento hasta V_max = {0:.2f} m\".format(x_vmax_r4))\n",
    "print(\"Desplazamiento durante frenado = {0:.2f} m\".format(x_brake_r4))\n",
    "print(\"Desplazamiento total durante la prueba = {0:.2f} m\".format(x_tot_r4))\n",
    "print(\"Velocidad máxima = {0:.3f} m/s\".format(vmax_r4))"
   ]
  },
  {
   "cell_type": "markdown",
   "metadata": {},
   "source": [
    "### Gráficas"
   ]
  },
  {
   "cell_type": "code",
   "execution_count": 56,
   "metadata": {
    "collapsed": true
   },
   "outputs": [
    {
     "data": {
      "text/plain": [
       "<matplotlib.legend.Legend at 0x21728d6fa20>"
      ]
     },
     "execution_count": 56,
     "metadata": {},
     "output_type": "execute_result"
    },
    {
     "data": {
      "image/png": "[encoded data removed]",
      "text/plain": [
       "<matplotlib.figure.Figure at 0x21725ffa710>"
      ]
     },
     "metadata": {},
     "output_type": "display_data"
    }
   ],
   "source": [
    "pylab.xlabel(\"Tiempo [s]\")\n",
    "pylab.ylabel(\"Velocidad [$m/s$]\")\n",
    "pylab.title(\"Velocidad 0-$V_{max}$-0\")\n",
    "\n",
    "pylab.plot(t2_r1, vel_r1, label='$Radio =$ {} m'.format(r1))\n",
    "pylab.plot(t2_r2, vel_r2, label='$Radio =$ {} m'.format(r2))\n",
    "pylab.plot(t2_r3, vel_r3, label='$Radio =$ {} m'.format(r3))\n",
    "pylab.plot(t2_r4, vel_r4, label='$Radio =$ {} m'.format(r4))\n",
    "pylab.grid()\n",
    "pylab.legend(loc='best')\n",
    "#pylab.savefig(os.path.join(output_dir_R,'Velocidad.png'), dpi=500)"
   ]
  },
  {
   "cell_type": "code",
   "execution_count": 57,
   "metadata": {
    "collapsed": true
   },
   "outputs": [
    {
     "data": {
      "text/plain": [
       "<matplotlib.legend.Legend at 0x21729137cf8>"
      ]
     },
     "execution_count": 57,
     "metadata": {},
     "output_type": "execute_result"
    },
    {
     "data": {
      "image/png": "[encoded data removed]",
      "text/plain": [
       "<matplotlib.figure.Figure at 0x21728d64400>"
      ]
     },
     "metadata": {},
     "output_type": "display_data"
    }
   ],
   "source": [
    "pylab.xlabel(\"Tiempo [s]\")\n",
    "pylab.ylabel(\"Desplazamiento [$m$]\")\n",
    "pylab.title(\"Desplazamiento 0-$V_{max}$-0\")\n",
    "\n",
    "pylab.plot(t2_r1, pos_r1, label='$Radio =$ {} m'.format(r1))\n",
    "pylab.plot(t2_r2, pos_r2, label='$Radio =$ {} m'.format(r2))\n",
    "pylab.plot(t2_r3, pos_r3, label='$Radio =$ {} m'.format(r3))\n",
    "pylab.plot(t2_r4, pos_r4, label='$Radio =$ {} m'.format(r4))\n",
    "pylab.grid()\n",
    "pylab.legend(loc='best')\n",
    "#pylab.savefig(os.path.join(output_dir_R,'Desplazamiento.png'), dpi=500)"
   ]
  },
  {
   "cell_type": "markdown",
   "metadata": {},
   "source": [
    "[Variación del Radio de las Llantas](#Tires)\n",
    "\n",
    "[Tabla de Contenido](#toc)"
   ]
  },
  {
   "cell_type": "markdown",
   "metadata": {},
   "source": [
    "## Análisis <a class=\"anchor\" id=\"An_t\"></a>"
   ]
  },
  {
   "cell_type": "markdown",
   "metadata": {},
   "source": [
    "|![Desplazamiento.png](files/graphs/Llantas/Desplazamiento.png)|![Velocidad.png](files/graphs/Llantas/Velocidad.png)|\n",
    "|:---------------------------------------------------------:|:-----------------------------------------------:|\n",
    "|Figura 3a. Desplazamiento del kart durante la prueba. | Figura 3b. Velocidad del kart durante la prueba. |\n",
    "\n",
    "\n",
    "<h5><center>Tabla 3. Datos de desempeño con variación del radio de las llantas traseras</center></h5>\n",
    "\n",
    "|Parámetro|R = 0.1m|Rr = 0.125m|R = 0.15m|R = 0.175m|\n",
    "|-------:|:----:|:----:|:----:|:----:|\n",
    "|Tiempo hasta $V_{max}$ [s]|38.49|62|66|71|\n",
    "|Tiempo de $V_{max}$ a cero [s]|15.51|16|16|16.5|\n",
    "|Tiempo total de prueba [s]|54|78|82|87.5|\n",
    "|Desplazamiento hasta $V_{max}$ [m]|642.83|1153.30|1114.66|1090.86|\n",
    "|Desplazamiento durante frenado [m]|195.51|184.26|174.34|167.08|\n",
    "|Desplazamiento total en la prueba [m]|838.34|1337.57|1288.99|1257.93|\n",
    "|$V_{max}$ [m/s]|27.007|26.102|24.049|22.342|\n",
    "\n",
    "Finalmente, como se dijo en la introducción, este es un parámetro cuyo impacto no se puede tomar tan enserio como el de la relación. Dada la ecuación de la fuerza en las llantas: \n",
    "\n",
    "<h2><center>$ F = \\frac{T_e \\cdot N_c \\cdot \\eta}{r_{llantas}} $ </center></h2>\n",
    "\n",
    "Es claro que a medida que disminuye el radio va a aumentar esta fuerza. Sin embargo, una simplificación evidente es que a medida que se achica la llanta la resistencia a la rodadura debería disminuir, lo cual no se tiene en cuenta acá. \n",
    "\n",
    "Por otro lado, dada la ecuación para la velocidad máxima posible \n",
    "\n",
    "<h2><center>$V_{max} = \\frac{\\omega_{max} \\cdot r_{llanta}}{N_c}$</center></h2>\n",
    "\n",
    "se ve que a medida que se achica el radio, disminuye la velocidad máxima posible, y como a su vez aumenta la fuerza de tracción el kart puede llegar mucho más rápido a dicha velocidad. Esto se observa claramente en la Figura 3b. \n",
    "\n",
    "Sin embargo, en la vida real aumentar el tamaño de las llantas aumenta el área de contacto y hasta cierto punto tiene la capacidad de mejorar el desempeño sustancialmente - lo cual no se contempla en este modelo. Y por simplificaciones como estas es que el análisis más significativo es el de la relación en la transmisión de potencia. "
   ]
  },
  {
   "cell_type": "markdown",
   "metadata": {},
   "source": [
    "[Variación del Radio de las Llantas](#Tires)\n",
    "\n",
    "[Tabla de Contenido](#toc)"
   ]
  }
 ],
 "metadata": {
  "kernelspec": {
   "display_name": "Python 3",
   "language": "python",
   "name": "python3"
  },
  "language_info": {
   "codemirror_mode": {
    "name": "ipython",
    "version": 3
   },
   "file_extension": ".py",
   "mimetype": "text/x-python",
   "name": "python",
   "nbconvert_exporter": "python",
   "pygments_lexer": "ipython3",
   "version": "3.6.3"
  }
 },
 "nbformat": 4,
 "nbformat_minor": 2
}
