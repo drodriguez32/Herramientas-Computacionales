{
 "cells": [
  {
   "cell_type": "code",
   "execution_count": 147,
   "metadata": {},
   "outputs": [
    {
     "name": "stdout",
     "output_type": "stream",
     "text": [
      "Populating the interactive namespace from numpy and matplotlib\n"
     ]
    }
   ],
   "source": [
    "import os\n",
    "import pandas as pd\n",
    "\n",
    "#%matplotlib notebook\n",
    "#import matplotlib.pyplot as plt\n",
    "\n",
    "%pylab inline\n",
    "\n",
    "import statistics as st\n",
    "\n",
    "import numpy as np\n",
    "\n",
    "from scipy import stats\n",
    "\n",
    "from IPython.display import Image"
   ]
  },
  {
   "cell_type": "markdown",
   "metadata": {},
   "source": [
    "## Secciones <a class=\"anchor\" id=\"sec\"></a>\n",
    "\n",
    "* [Funciones](#Func)\n",
    "* [Informe](#Informe)"
   ]
  },
  {
   "cell_type": "markdown",
   "metadata": {},
   "source": [
    "# Funciones <a class=\"anchor\" id=\"Func\"></a>"
   ]
  },
  {
   "cell_type": "markdown",
   "metadata": {},
   "source": [
    "#### Importar series OBJ y REF"
   ]
  },
  {
   "cell_type": "code",
   "execution_count": 2,
   "metadata": {
    "collapsed": true
   },
   "outputs": [],
   "source": [
    "def extract_data(ciudad):\n",
    "\n",
    "    base_dir = os.path.join('.','data')\n",
    "    output_dir = os.path.join('.','output')\n",
    "\n",
    "    fuente_OBJ = 'IDEAM'\n",
    "    fuente_REF = 'NREL'\n",
    "\n",
    "    serie_csv_OBJ = os.path.join(base_dir,ciudad,fuente_OBJ+'.csv')\n",
    "    serie_pd_OBJ = pd.read_csv(serie_csv_OBJ, sep = ';', encoding = 'latin-1')\n",
    "\n",
    "    serie_csv_REF = os.path.join(base_dir,ciudad,fuente_REF+'.csv')\n",
    "    serie_pd_REF = pd.read_csv(serie_csv_REF, sep = ';', encoding = 'latin-1')\n",
    "\n",
    "    # Crear una serie independiente para editar después\n",
    "    serie_csv_COR = os.path.join(base_dir,ciudad,fuente_REF+'.csv')\n",
    "    serie_pd_COR = pd.read_csv(serie_csv_COR, sep = ';', encoding = 'latin-1')\n",
    "    \n",
    "    # Obtener el año mínimo que coincide entre las series & obtener el número de años de la serie más corta\n",
    "    agno_min = 0\n",
    "    min_agnos = 0\n",
    "\n",
    "    if np.min(serie_pd_OBJ['AÑO']) >= np.min(serie_pd_REF['AÑO']):\n",
    "        agno_min = np.min(serie_pd_OBJ['AÑO'])\n",
    "    else:\n",
    "        agno_min = np.min(serie_pd_REF['AÑO'])\n",
    "\n",
    "    if np.max(serie_pd_OBJ['AÑO']) <= np.max(serie_pd_REF['AÑO']):\n",
    "        min_agnos = np.max(serie_pd_OBJ['AÑO']) - agno_min +1\n",
    "    else:\n",
    "        min_agnos = np.max(serie_pd_REF['AÑO']) - agno_min +1\n",
    "    \n",
    "    return serie_pd_OBJ, serie_pd_REF, serie_pd_COR, agno_min, min_agnos"
   ]
  },
  {
   "cell_type": "markdown",
   "metadata": {},
   "source": [
    "#### Función para cortar series"
   ]
  },
  {
   "cell_type": "code",
   "execution_count": 3,
   "metadata": {
    "collapsed": true
   },
   "outputs": [],
   "source": [
    "# Param: serie OBJ, serie REF, serie COR, año inicial deseado, número de años, mes inicial deseado, número de meses\n",
    "def cut_series(serie_horaria,agno_select=0,num_agnos=1,mes_select=1,num_meses=12):\n",
    "    \n",
    "    if (agno_select == 0):\n",
    "        agno_select = np.min(serie_horaria['AÑO'])\n",
    "        \n",
    "    agno_final = agno_select + (num_agnos-1)\n",
    "    mes_final = mes_select + (num_meses-1)\n",
    "\n",
    "    \n",
    "    serie_cortada = serie_horaria[(serie_horaria['AÑO'] >= agno_select) &\n",
    "                                  (serie_horaria['AÑO'] <= agno_final) &\n",
    "                                  (serie_horaria['MES'] >= mes_select) &\n",
    "                                  (serie_horaria['MES'] <= mes_final)\n",
    "                                 ]\n",
    "    \n",
    "    #print(\"El año inicial es: {}\".format(agno_select))\n",
    "    #print(\"El año final es: {}\".format(agno_final))\n",
    "    #print(\"El mes inicial es: {}\".format(mes_select))\n",
    "    #print(\"El mes final es: {}\".format(mes_final))\n",
    "    \n",
    "    return serie_cortada"
   ]
  },
  {
   "cell_type": "markdown",
   "metadata": {},
   "source": [
    "#### Función para aplicar método MCP"
   ]
  },
  {
   "cell_type": "code",
   "execution_count": 4,
   "metadata": {
    "collapsed": true,
    "scrolled": true
   },
   "outputs": [],
   "source": [
    "# Param: serie OBJ, serie REF, serie COR, año inicial deseado, número de años, mes inicial deseado, número de meses\n",
    "def mcp(obj,ref,cor,agno_select=0,num_agnos=1,mes_select=1,num_meses=12):\n",
    "    \n",
    "    # Cuando no se ponen los parámetros opcionales, el caso por default es el primer año de las series que coincida\n",
    "    if agno_select == 0:\n",
    "        if np.min(obj['AÑO']) >= np.min(ref['AÑO']):\n",
    "            agno_select = np.min(obj['AÑO'])\n",
    "        else:\n",
    "            agno_select = np.min(ref['AÑO'])\n",
    "    \n",
    "    # Cortar ambas series al periodo deseado\n",
    "    obj_cort = cut_series(obj,agno_select,num_agnos,mes_select,num_meses)\n",
    "    ref_cort = cut_series(ref,agno_select,num_agnos,mes_select,num_meses)\n",
    "    \n",
    "    # Obtener el GHI para ambas series cortadas y la serie REF completa\n",
    "    ghi_obj = obj_cort[list(obj_cort)[-1]]\n",
    "    ghi_ref = ref_cort[list(ref_cort)[-1]]\n",
    "    ghi_ref_tot = ref[list(ref)[-1]]\n",
    "    \n",
    "    # Obtener medias y desviación estándar\n",
    "    sigma_obj = st.stdev(ghi_obj)\n",
    "    sigma_ref = st.stdev(ghi_ref)\n",
    "    mu_obj = st.mean(ghi_obj)\n",
    "    mu_ref = st.mean(ghi_ref)\n",
    "    \n",
    "    # Aplicar función\n",
    "    corregida = (mu_obj-((sigma_obj/sigma_ref)*mu_ref))+((sigma_obj/sigma_ref)*ghi_ref_tot)\n",
    "    \n",
    "    # Volver todos los datos negativos cero\n",
    "    for i in range(len(corregida)):\n",
    "        if corregida[i] < 0:\n",
    "            corregida[i] = 0\n",
    "    \n",
    "    # Cambiar el nombre de la columna\n",
    "    cor.rename(columns={list(cor)[-1] : 'GHI MCP'}, inplace=True) \n",
    "    \n",
    "    # Meter los datos corregidos a la lista\n",
    "    cor[list(cor)[-1]] = corregida\n",
    "    \n",
    "    return cor"
   ]
  },
  {
   "cell_type": "markdown",
   "metadata": {},
   "source": [
    "#### Calcular el promedio diario mensual y el promedio diario"
   ]
  },
  {
   "cell_type": "code",
   "execution_count": 5,
   "metadata": {
    "collapsed": true
   },
   "outputs": [],
   "source": [
    "# Calcular el promedio diario del GHI para el mes\n",
    "def ghi_diario_mensual(serie_horaria):\n",
    "    agnos = sorted(serie_horaria['AÑO'].unique())\n",
    "    ghi_df = pd.DataFrame(columns=[\"AÑO\", \"MES\", \"DIAS\", \"GHIdiario\"])\n",
    "    for agno in agnos:\n",
    "        for mes in range(1,13):\n",
    "            nombre_energia = list(serie_horaria)[-1]\n",
    "            dias = sorted(serie_horaria[(serie_horaria['AÑO'] == agno) &\n",
    "                        (serie_horaria['MES'] == mes)][\"DIA\"].unique())\n",
    "            ghi_dia = serie_horaria.loc[((serie_horaria[\"AÑO\"] == agno)\n",
    "                            & (serie_horaria[\"MES\"] == mes)),\n",
    "                                        nombre_energia].sum()/(1000*dias[-1])\n",
    "            ghi_dict = {\"AÑO\":agno, \"MES\":mes, \"DIAS\":dias[-1],\n",
    "                        \"GHIdiario\":ghi_dia}\n",
    "            ghi_df = ghi_df.append(ghi_dict, ignore_index=True)\n",
    "    return ghi_df\n",
    "\n",
    "# Calcula el GHI promedio para cada dia\n",
    "def ghi_diario(serie_horaria):\n",
    "    agnos = sorted(serie_horaria['AÑO'].unique())\n",
    "    ghi_df = pd.DataFrame(columns=[\"AÑO\", \"MES\", \"DIA\", \"GHI_Diario\"])\n",
    "    for agno in agnos:\n",
    "        for mes in range(1,13):\n",
    "            nombre_energia = list(serie_horaria)[-1]\n",
    "            dias = sorted(serie_horaria[(serie_horaria['AÑO'] == agno) &\n",
    "                        (serie_horaria['MES'] == mes)][\"DIA\"].unique())\n",
    "            \n",
    "            for dia in dias:\n",
    "                ghi_diario = serie_horaria.loc[((serie_horaria[\"AÑO\"] == agno) & \n",
    "                                                (serie_horaria[\"MES\"] == mes) & \n",
    "                                                (serie_horaria[\"DIA\"] == dia)),nombre_energia].sum()/(1000*24)\n",
    "                ghi_dict = {\"AÑO\":agno, \"MES\":mes, \"DIA\":dia,\n",
    "                            \"GHI_Diario\":ghi_diario}\n",
    "                ghi_df = ghi_df.append(ghi_dict, ignore_index=True)\n",
    "    return ghi_df"
   ]
  },
  {
   "cell_type": "markdown",
   "metadata": {},
   "source": [
    "#### Preparar datos para graficar"
   ]
  },
  {
   "cell_type": "code",
   "execution_count": 6,
   "metadata": {
    "collapsed": true
   },
   "outputs": [],
   "source": [
    "def prepare_data(serie_pd_OBJ, serie_pd_REF, obj_cor, agno_min, min_agnos):\n",
    "    # IDEAM\n",
    "    ghi_dia_mes_OBJ = ghi_diario_mensual(serie_pd_OBJ)\n",
    "    datos_IDEAM = sorted(ghi_dia_mes_OBJ[\"GHIdiario\"])\n",
    "\n",
    "    # NREL\n",
    "    nrel_cort = cut_series(serie_pd_REF,agno_min,min_agnos)\n",
    "    ghi_dia_mes_REF = ghi_diario_mensual(nrel_cort)\n",
    "    datos_NREL = sorted(ghi_dia_mes_REF[\"GHIdiario\"])\n",
    "\n",
    "    # CORREGIDO\n",
    "    nueva_cort = cut_series(obj_cor,agno_min,min_agnos)\n",
    "    ghi_dia_mes_NEW = ghi_diario_mensual(nueva_cort)\n",
    "    datos_NEW = sorted(ghi_dia_mes_NEW[\"GHIdiario\"])\n",
    "    \n",
    "    return datos_IDEAM, datos_NREL, datos_NEW"
   ]
  },
  {
   "cell_type": "code",
   "execution_count": 70,
   "metadata": {
    "collapsed": true
   },
   "outputs": [],
   "source": [
    "def graph_data(ciudad,datos_IDEAM,datos_NREL,datos_NEW):\n",
    "    output_dir = os.path.join('.','output')\n",
    "        \n",
    "    pylab.xlabel(\"Datos\")\n",
    "    pylab.ylabel(\"Energía/Energía Base IDEAM\")\n",
    "    pylab.title(ciudad)\n",
    "    numdatos = range(len(datos_IDEAM))\n",
    "    pylab.plot(numdatos,datos_IDEAM/datos_IDEAM[0],'-k', label='IDEAM')\n",
    "    pylab.plot(numdatos,datos_NREL/datos_IDEAM[0],'-b', label='NREL')\n",
    "    pylab.plot(numdatos,datos_NEW/datos_IDEAM[0],'-r', label='NEW')\n",
    "    pylab.legend(loc='upper left')\n",
    "    pylab.savefig(os.path.join(output_dir,ciudad+'.png'), dpi=100)"
   ]
  },
  {
   "cell_type": "code",
   "execution_count": 88,
   "metadata": {
    "collapsed": true
   },
   "outputs": [],
   "source": [
    "def graph_ideam(ciudad,serie,agno):\n",
    "    output_dir = os.path.join('.','output')\n",
    "    \n",
    "    ghi_dia_mes_OBJ = ghi_diario_mensual(serie)\n",
    "    \n",
    "    promedio_total = np.mean(ghi_dia_mes_OBJ['GHIdiario'])\n",
    "    y1 = np.linspace(promedio_total,promedio_total,len(ghi_dia_mes_OBJ))\n",
    "    \n",
    "    agno_selec = ghi_dia_mes_OBJ[(ghi_dia_mes_OBJ['AÑO']==agno)]['GHIdiario']\n",
    "    promedio_corto = np.mean(agno_selec)\n",
    "    x = np.linspace(agno_selec.first_valid_index(),agno_selec.last_valid_index(),len(agno_selec))\n",
    "    y2 = np.linspace(promedio_corto,promedio_corto,len(agno_selec))\n",
    "    \n",
    "    pylab.xlabel(\"Meses\")\n",
    "    pylab.ylabel(\"Energía [$kWh/m^2$]\")\n",
    "    pylab.title(ciudad)\n",
    "    numdatos = range(len(ghi_dia_mes_OBJ))\n",
    "    pylab.plot(numdatos,ghi_dia_mes_OBJ['GHIdiario'],'-k', label='IDEAM')\n",
    "    pylab.plot(numdatos,y1,'-b', label='Promedio Global')\n",
    "    pylab.plot(x,y2,'-r', label='Promedio {}'.format(agno))\n",
    "    pylab.legend(loc='upper left')\n",
    "    pylab.savefig(os.path.join(output_dir,ciudad+'_Promedios_{}.png'.format(agno)), dpi=100)"
   ]
  },
  {
   "cell_type": "markdown",
   "metadata": {
    "collapsed": true
   },
   "source": [
    "#### Error RMSEn"
   ]
  },
  {
   "cell_type": "code",
   "execution_count": 8,
   "metadata": {
    "collapsed": true
   },
   "outputs": [],
   "source": [
    "# Param: serie OBJ, serie corregida/nueva cortada\n",
    "def rmsen(obj,cor):\n",
    "    \n",
    "    if(type(obj) != list):\n",
    "    \n",
    "        nom_ener_obj = list(obj)[-1]\n",
    "        nom_ener_cor = list(cor)[-1]\n",
    "\n",
    "        n = len(cor)\n",
    "        resta = []\n",
    "        i_min = cor.first_valid_index() \n",
    "\n",
    "        for i in range(n):\n",
    "            x_obj = obj[nom_ener_obj][i]\n",
    "            x_cor = cor[nom_ener_cor][i+i_min]\n",
    "\n",
    "            x = (x_obj - x_cor)**2\n",
    "\n",
    "            resta.append(x)\n",
    "\n",
    "        error = np.sqrt((1/n)*sum(resta))/(np.max(obj[nom_ener_obj]) - np.min(obj[nom_ener_obj]))\n",
    "        \n",
    "    else:\n",
    "\n",
    "        n = len(cor)\n",
    "        resta = [] \n",
    "\n",
    "        for i in range(n):\n",
    "            x_obj = obj[i]\n",
    "            x_cor = cor[i]\n",
    "\n",
    "            x = (x_obj - x_cor)**2\n",
    "\n",
    "            resta.append(x)\n",
    "\n",
    "        error = np.sqrt((1/n)*sum(resta))/(np.max(obj) - np.min(obj))\n",
    "        \n",
    "    print(\"El error RMSEn es: {0:.3f}%\".format(error*100))\n",
    "\n",
    "    return error        "
   ]
  },
  {
   "cell_type": "markdown",
   "metadata": {},
   "source": [
    "#### Error MBE"
   ]
  },
  {
   "cell_type": "code",
   "execution_count": 9,
   "metadata": {
    "collapsed": true
   },
   "outputs": [],
   "source": [
    "# Param: serie OBJ, serie corregida/nueva cortada\n",
    "def mbe(obj,cor):\n",
    "    \n",
    "    if(type(obj) != list):\n",
    "    \n",
    "        nom_ener_obj = list(obj)[-1]\n",
    "        nom_ener_cor = list(cor)[-1]\n",
    "\n",
    "        n = len(cor)\n",
    "        resta = []\n",
    "\n",
    "        i_min = cor.first_valid_index() \n",
    "\n",
    "        for i in range(n):\n",
    "            x_obj = obj[nom_ener_obj][i]\n",
    "            x_cor = cor[nom_ener_cor][i+i_min]\n",
    "\n",
    "            x = (x_cor - x_obj)\n",
    "\n",
    "            resta.append(x)\n",
    "\n",
    "        error = sum(resta)/sum(obj[nom_ener_obj])\n",
    "        \n",
    "    else:\n",
    "        \n",
    "        n = len(cor)\n",
    "        resta = []\n",
    "\n",
    "        for i in range(n):\n",
    "            x_obj = obj[i]\n",
    "            x_cor = cor[i]\n",
    "\n",
    "            x = (x_cor - x_obj)\n",
    "\n",
    "            resta.append(x)\n",
    "\n",
    "        error = sum(resta)/sum(obj)\n",
    "        \n",
    "    print(\"El error MBE es: {0:.3f}%\".format(error*100))\n",
    "    \n",
    "    return error"
   ]
  },
  {
   "cell_type": "markdown",
   "metadata": {},
   "source": [
    "#### Error KSI%"
   ]
  },
  {
   "cell_type": "code",
   "execution_count": 10,
   "metadata": {
    "collapsed": true
   },
   "outputs": [],
   "source": [
    "def ksi_err(obj,serie):\n",
    "    \n",
    "    s, p = stats.ks_2samp(obj,serie)\n",
    "    \n",
    "    print(\"El P-Value es: {}\".format(p))\n",
    "    \n",
    "    return s, p"
   ]
  },
  {
   "cell_type": "markdown",
   "metadata": {},
   "source": [
    "#### ENFICC"
   ]
  },
  {
   "cell_type": "code",
   "execution_count": 40,
   "metadata": {
    "collapsed": true
   },
   "outputs": [],
   "source": [
    "def enficc(serie):\n",
    "    \n",
    "    percentil = 0.01\n",
    "    enficc = np.percentile(serie,percentil*100)\n",
    "    print('La ENFICC 99% es: {0:.4f}'.format(enficc))\n",
    "    \n",
    "    return enficc"
   ]
  },
  {
   "cell_type": "markdown",
   "metadata": {},
   "source": [
    "-------------------------\n",
    "# Informe <a class=\"anchor\" id=\"Informe\"></a>\n",
    "--------------------------"
   ]
  },
  {
   "cell_type": "markdown",
   "metadata": {},
   "source": [
    "A continuación se hace uso de todas las funciones anteriores para analizar la eficacia del método de corrección implementado. Se tomará el año **2013** como base para el análisis de todas las ubicaciones.  \n",
    "\n",
    "El análisis se divide en tres partes principales:\n",
    "* En la primera se presenta el resultado de la corrección para cuatro ubicaciones: Barranquilla, Santa Marta, Uribia, y Valledupar\n",
    "* En la segunda se va a analizar el impacto que pueden tener fenómenos meteorológicos como el Niño o la Niña utilizando dos ubicaciones: Cali y Sucre\n",
    "* En la tercera se va a analizar el impacto de usar periodos menores y mayores a un año utilizando dos ubicaciones: Medellin y Carmen de Bolivar\n",
    "\n",
    "\n",
    "#### Índice <a class=\"anchor\" id=\"index\"></a>\n",
    "\n",
    "* [Parte 1](#Parte1)\n",
    "    * [Barranquilla](#Barranquilla)\n",
    "    * [Santa Marta](#Santamarta) \n",
    "    * [Uribia](#Uribia) \n",
    "    * [Valledupar](#Valledupar)\n",
    "\n",
    "    \n",
    "    \n",
    "* [Parte 2](#Parte2)\n",
    "    * [El Niño - Cali](#Niño)\n",
    "    * [Cali - Análisis](#Niño-A)\n",
    "    * [La Niña - Sucre](#Niña)\n",
    "    * [Sucre - Análisis](#Niña-A)\n",
    "    \n",
    "\n",
    "* [Parte 3](#Parte3)\n",
    "    * [Medellin](#Medellin) \n",
    "        * [Medellin - 1 mes](#Medellin1) \n",
    "        * [Medellin - 3 meses](#Medellin2)\n",
    "        * [Medellin - 6 meses](#Medellin3)\n",
    "        * [Medellin - 12 meses](#Medellin4)\n",
    "        * [Medellin - Análisis](#Med-A)\n",
    "\n",
    "    * [Carmen de Bolivar](#Carmen)\n",
    "        * [Carmen de Bolivar - 1 año](#Carmen1) \n",
    "        * [Carmen de Bolivar - 10 años](#Carmen2) \n",
    "        * [Carmen de Bolivar - Análisis](#Carmen-A) \n",
    "        \n",
    "        \n",
    "* [Referencias](#Ref)\n"
   ]
  },
  {
   "cell_type": "markdown",
   "metadata": {},
   "source": [
    "[Funciones](#Func)"
   ]
  },
  {
   "cell_type": "markdown",
   "metadata": {},
   "source": [
    "----------------\n",
    "## Parte 1 <a class=\"anchor\" id=\"Parte1\"></a>"
   ]
  },
  {
   "cell_type": "markdown",
   "metadata": {},
   "source": [
    "### Barranquilla - 2013 <a class=\"anchor\" id=\"Barranquilla\"></a>"
   ]
  },
  {
   "cell_type": "code",
   "execution_count": 12,
   "metadata": {},
   "outputs": [
    {
     "name": "stdout",
     "output_type": "stream",
     "text": [
      "Primer año:  2010\n",
      "Último año:  2015\n"
     ]
    }
   ],
   "source": [
    "# Importar datos CSV\n",
    "bar_OBJ, bar_REF, bar_EXTRA, bar_min_agno, bar_agnos = extract_data('Barranquilla')\n",
    "\n",
    "print(\"Primer año: \", bar_min_agno)\n",
    "print(\"Último año: \", bar_min_agno+bar_agnos-1)"
   ]
  },
  {
   "cell_type": "code",
   "execution_count": 13,
   "metadata": {
    "collapsed": true
   },
   "outputs": [],
   "source": [
    "# Aplicar corrección MCP\n",
    "bar1_COR = mcp(bar_OBJ,bar_REF,bar_EXTRA,2013)"
   ]
  },
  {
   "cell_type": "code",
   "execution_count": 14,
   "metadata": {
    "collapsed": true
   },
   "outputs": [],
   "source": [
    "# Preparar datos\n",
    "bar1_IDEAM, bar1_NREL, bar1_NEW = prepare_data(bar_OBJ,bar_REF,bar1_COR,bar_min_agno,bar_agnos)"
   ]
  },
  {
   "cell_type": "code",
   "execution_count": 15,
   "metadata": {
    "collapsed": true
   },
   "outputs": [],
   "source": [
    "# Cortar serie corregida para errores\n",
    "bar1_COR_cut = cut_series(bar1_COR,bar_min_agno,bar_agnos)\n",
    "bar1_NREL_cut = cut_series(bar_REF,bar_min_agno,bar_agnos)"
   ]
  },
  {
   "cell_type": "code",
   "execution_count": 16,
   "metadata": {},
   "outputs": [
    {
     "data": {
      "image/png": "[encoded data removed]",
      "text/plain": [
       "<matplotlib.figure.Figure at 0x1c279b0a5c0>"
      ]
     },
     "metadata": {},
     "output_type": "display_data"
    }
   ],
   "source": [
    "# Graficar datos\n",
    "graph_data('Barranquilla-2013',bar1_IDEAM,bar1_NREL,bar1_NEW)"
   ]
  },
  {
   "cell_type": "code",
   "execution_count": 17,
   "metadata": {},
   "outputs": [
    {
     "name": "stdout",
     "output_type": "stream",
     "text": [
      "Errores NREL\n",
      "El error RMSEn es: 10.676%\n",
      "El error MBE es: 3.699%\n",
      "El P-Value es: 0.005966860647227961\n",
      "\n",
      "\n",
      "Errores NEW\n",
      "El error RMSEn es: 10.595%\n",
      "El error MBE es: 1.452%\n",
      "El P-Value es: 0.17132623247456719\n"
     ]
    }
   ],
   "source": [
    "# Calcular Errores - NREL\n",
    "print('Errores NREL')\n",
    "bar1_rmsen_nrel = rmsen(bar_OBJ,bar1_NREL_cut)\n",
    "bar1_mbe_nrel = mbe(bar_OBJ,bar1_NREL_cut)\n",
    "bar1_stat_nrel, bar1_p_nrel = ksi_err(bar1_IDEAM,bar1_NREL)\n",
    "\n",
    "print('\\n')\n",
    "\n",
    "# Calcular Errores - NEW\n",
    "print('Errores NEW')\n",
    "bar1_rmsen_new = rmsen(bar_OBJ,bar1_COR_cut)\n",
    "bar1_mbe_new = mbe(bar_OBJ,bar1_COR_cut)\n",
    "bar1_stat_new, bar1_p_new = ksi_err(bar1_IDEAM,bar1_NEW)"
   ]
  },
  {
   "cell_type": "code",
   "execution_count": 18,
   "metadata": {},
   "outputs": [
    {
     "name": "stdout",
     "output_type": "stream",
     "text": [
      "- IDEAM\n",
      "La ENFICC 99% es: 4.1606\n",
      "- NREL\n",
      "La ENFICC 99% es: 4.6330\n",
      "- NEW\n",
      "La ENFICC 99% es: 4.5191\n"
     ]
    }
   ],
   "source": [
    "# Calcular ENFICC\n",
    "print('- IDEAM')\n",
    "bar1_enficc_IDEAM = enficc(bar1_IDEAM)\n",
    "print('- NREL')\n",
    "bar1_enficc_NREL = enficc(bar1_NREL)\n",
    "print('- NEW')\n",
    "bar1_enficc_NEW = enficc(bar1_NEW)"
   ]
  },
  {
   "attachments": {},
   "cell_type": "markdown",
   "metadata": {},
   "source": [
    "#### Barranquilla - Análisis\n",
    "\n",
    "|![Barranquilla-2013.png](files/output/Barranquilla-2013.png)|\n",
    "|:--------------------------------------------------------:|\n",
    "|Figura 1. Gráfica del promedio díario mensual de la energía para Barranquilla utilizando el año 2013 para la corección.| \n",
    "\n",
    "<h5><center>Tabla 1. Errores para Barranquilla</center></h5>\n",
    "\n",
    "|Serie|RMSEn|MBE|P-Value|\n",
    "|:---:|:---:|:-:|:-----:|\n",
    "|IDEAM|0.0|0.0|1|\n",
    "|NREL|10.676%|3.699%|0.006|\n",
    "|NEW-2013|10.595%|1.452%|0.171|\n",
    "\n",
    "<h5><center>Tabla 2. ENFICC 99% para Barranquilla</center></h5>\n",
    "\n",
    "|Serie|ENFICC 99%|Error %|\n",
    "|:---:|:--------:|:-----:|\n",
    "|IDEAM|4.1606|0|\n",
    "|NREL|4.6330|11.35%|\n",
    "|NEW-2013|4.5191|8.62%|\n",
    "\n",
    "En la Figura 1 se tiene una gráfica del promedio diario mensual de la energía para Barranquilla con tres series: IDEAM, NREL (datos satelitales), y NEW (la corrección de NREL utilizando el año 2013 de los datos del IDEAM). "
   ]
  },
  {
   "cell_type": "markdown",
   "metadata": {},
   "source": [
    "[Índice](#index)"
   ]
  },
  {
   "cell_type": "markdown",
   "metadata": {
    "collapsed": true
   },
   "source": [
    "### Santa Marta - 2013 <a class=\"anchor\" id=\"Santamarta\"></a>"
   ]
  },
  {
   "cell_type": "code",
   "execution_count": 19,
   "metadata": {},
   "outputs": [
    {
     "name": "stdout",
     "output_type": "stream",
     "text": [
      "Primer año:  2008\n",
      "Último año:  2015\n"
     ]
    }
   ],
   "source": [
    "# Importar datos CSV\n",
    "san_OBJ, san_REF, san_EXTRA, san_min_agno, san_agnos = extract_data('Santamarta')\n",
    "\n",
    "print(\"Primer año: \", san_min_agno)\n",
    "print(\"Último año: \", san_min_agno+san_agnos-1)"
   ]
  },
  {
   "cell_type": "code",
   "execution_count": 20,
   "metadata": {
    "collapsed": true
   },
   "outputs": [],
   "source": [
    "# Aplicar corrección MCP\n",
    "san1_COR = mcp(san_OBJ,san_REF,san_EXTRA,2013)"
   ]
  },
  {
   "cell_type": "code",
   "execution_count": 21,
   "metadata": {
    "collapsed": true
   },
   "outputs": [],
   "source": [
    "# Preparar datos\n",
    "san1_IDEAM, san1_NREL, san1_NEW = prepare_data(san_OBJ,san_REF,san1_COR,san_min_agno,san_agnos)"
   ]
  },
  {
   "cell_type": "code",
   "execution_count": 22,
   "metadata": {
    "collapsed": true
   },
   "outputs": [],
   "source": [
    "# Cortar serie corregida para errores\n",
    "san1_COR_cut = cut_series(san1_COR,san_min_agno,san_agnos)\n",
    "san1_NREL_cut = cut_series(san_REF,san_min_agno,san_agnos)"
   ]
  },
  {
   "cell_type": "code",
   "execution_count": 23,
   "metadata": {},
   "outputs": [
    {
     "data": {
      "image/png": "[encoded data removed]",
      "text/plain": [
       "<matplotlib.figure.Figure at 0x1c279b0aef0>"
      ]
     },
     "metadata": {},
     "output_type": "display_data"
    }
   ],
   "source": [
    "# Graficar datos\n",
    "graph_data('Santa_Marta-2013',san1_IDEAM,san1_NREL,san1_NEW)"
   ]
  },
  {
   "cell_type": "code",
   "execution_count": 24,
   "metadata": {},
   "outputs": [
    {
     "name": "stdout",
     "output_type": "stream",
     "text": [
      "Errores NREL\n",
      "El error RMSEn es: 8.545%\n",
      "El error MBE es: 4.187%\n",
      "El P-Value es: 0.01686428507407678\n",
      "\n",
      "\n",
      "Errores NEW\n",
      "El error RMSEn es: 8.327%\n",
      "El error MBE es: -0.246%\n",
      "El P-Value es: 0.772787909775222\n"
     ]
    }
   ],
   "source": [
    "# Calcular Errores - NREL\n",
    "print('Errores NREL')\n",
    "san1_rmsen_nrel = rmsen(san_OBJ,san1_NREL_cut)\n",
    "san1_mbe_nrel = mbe(san_OBJ,san1_NREL_cut)\n",
    "san1_stat_nrel, san1_p_nrel = ksi_err(san1_IDEAM,san1_NREL)\n",
    "\n",
    "print('\\n')\n",
    "\n",
    "# Calcular Errores - NEW\n",
    "print('Errores NEW')\n",
    "san1_rmsen_new = rmsen(san_OBJ,san1_COR_cut)\n",
    "san1_mbe_new = mbe(san_OBJ,san1_COR_cut)\n",
    "san1_stat_new, san1_p_new = ksi_err(san1_IDEAM,san1_NEW)"
   ]
  },
  {
   "cell_type": "code",
   "execution_count": 25,
   "metadata": {},
   "outputs": [
    {
     "name": "stdout",
     "output_type": "stream",
     "text": [
      "- IDEAM\n",
      "La ENFICC 99% es: 4.0407\n",
      "- NREL\n",
      "La ENFICC 99% es: 4.5362\n",
      "- NEW\n",
      "La ENFICC 99% es: 4.3408\n"
     ]
    }
   ],
   "source": [
    "# Calcular ENFICC\n",
    "print('- IDEAM')\n",
    "san1_enficc_IDEAM = enficc(san1_IDEAM)\n",
    "print('- NREL')\n",
    "san1_enficc_NREL = enficc(san1_NREL)\n",
    "print('- NEW')\n",
    "san1_enficc_NEW = enficc(san1_NEW)"
   ]
  },
  {
   "attachments": {},
   "cell_type": "markdown",
   "metadata": {},
   "source": [
    "#### Santa Marta - Análisis\n",
    "\n",
    "|![Santa_Marta-2013.png](files/output/Santa_Marta-2013.png)|\n",
    "|:--------------------------------------------------------:|\n",
    "|Figura 2. Gráfica del promedio díario mensual de la energía para Santa Marta utilizando el año 2013 para la corección.| \n",
    "\n",
    "<h5><center>Tabla 3. Errores para Santa Marta</center></h5>\n",
    "\n",
    "|Serie|RMSEn|MBE|P-Value|\n",
    "|:---:|:---:|:-:|:-----:|\n",
    "|IDEAM|0.0|0.0|1|\n",
    "|NREL|8.545%|4.187%|0.0169|\n",
    "|NEW-2013|8.327%|-0.246%|0.773|\n",
    "\n",
    "<h5><center>Tabla 4. ENFICC 99% para Santa Marta</center></h5>\n",
    "\n",
    "|Serie|ENFICC 99%|Error %|\n",
    "|:---:|:--------:|:-----:|\n",
    "|IDEAM|4.0407|0|\n",
    "|NREL|4.5362|12.26%|\n",
    "|NEW-2013|4.3408|7.43%|"
   ]
  },
  {
   "cell_type": "markdown",
   "metadata": {},
   "source": [
    "[Índice](#index)"
   ]
  },
  {
   "cell_type": "markdown",
   "metadata": {},
   "source": [
    "### Uribia - 2013 <a class=\"anchor\" id=\"Uribia\"></a>"
   ]
  },
  {
   "cell_type": "code",
   "execution_count": 26,
   "metadata": {},
   "outputs": [
    {
     "name": "stdout",
     "output_type": "stream",
     "text": [
      "Primer año:  2006\n",
      "Último año:  2015\n"
     ]
    }
   ],
   "source": [
    "# Importar datos CSV\n",
    "ur_OBJ, ur_REF, ur_EXTRA, ur_min_agno, ur_agnos = extract_data('Uribia')\n",
    "\n",
    "print(\"Primer año: \", ur_min_agno)\n",
    "print(\"Último año: \", ur_min_agno+ur_agnos-1)"
   ]
  },
  {
   "cell_type": "code",
   "execution_count": 27,
   "metadata": {
    "collapsed": true
   },
   "outputs": [],
   "source": [
    "# Aplicar corrección MCP\n",
    "ur1_COR = mcp(ur_OBJ,ur_REF,ur_EXTRA,2013)"
   ]
  },
  {
   "cell_type": "code",
   "execution_count": 28,
   "metadata": {
    "collapsed": true
   },
   "outputs": [],
   "source": [
    "# Preparar datos\n",
    "ur1_IDEAM, ur1_NREL, ur1_NEW = prepare_data(ur_OBJ,ur_REF,ur1_COR,ur_min_agno,ur_agnos)"
   ]
  },
  {
   "cell_type": "code",
   "execution_count": 29,
   "metadata": {
    "collapsed": true
   },
   "outputs": [],
   "source": [
    "# Cortar serie corregida para errores\n",
    "ur1_COR_cut = cut_series(ur1_COR,ur_min_agno,ur_agnos)\n",
    "ur1_NREL_cut = cut_series(ur_REF,ur_min_agno,ur_agnos)"
   ]
  },
  {
   "cell_type": "code",
   "execution_count": 96,
   "metadata": {},
   "outputs": [
    {
     "data": {
      "image/png": "[encoded data removed]",
      "text/plain": [
       "<matplotlib.figure.Figure at 0x1c20213a710>"
      ]
     },
     "metadata": {},
     "output_type": "display_data"
    }
   ],
   "source": [
    "# Graficar datos\n",
    "graph_data('Uribia-2013',ur1_IDEAM,ur1_NREL,ur1_NEW)"
   ]
  },
  {
   "cell_type": "code",
   "execution_count": 31,
   "metadata": {},
   "outputs": [
    {
     "name": "stdout",
     "output_type": "stream",
     "text": [
      "Errores NREL\n",
      "El error RMSEn es: 11.569%\n",
      "El error MBE es: 8.170%\n",
      "El P-Value es: 1.0107810745596494e-06\n",
      "\n",
      "\n",
      "Errores NEW\n",
      "El error RMSEn es: 11.194%\n",
      "El error MBE es: 2.123%\n",
      "El P-Value es: 0.044587233016059054\n"
     ]
    }
   ],
   "source": [
    "# Calcular Errores - NREL\n",
    "print('Errores NREL')\n",
    "ur1_rmsen_nrel = rmsen(ur_OBJ,ur1_NREL_cut)\n",
    "ur1_mbe_nrel = mbe(ur_OBJ,ur1_NREL_cut)\n",
    "ur1_stat_nrel, ur1_p_nrel = ksi_err(ur1_IDEAM,ur1_NREL)\n",
    "\n",
    "print('\\n')\n",
    "\n",
    "# Calcular Errores - NEW\n",
    "print('Errores NEW')\n",
    "ur1_rmsen_new = rmsen(ur_OBJ,ur1_COR_cut)\n",
    "ur1_mbe_new = mbe(ur_OBJ,ur1_COR_cut)\n",
    "ur1_stat_new, ur1_p_new = ksi_err(ur1_IDEAM,ur1_NEW)"
   ]
  },
  {
   "cell_type": "code",
   "execution_count": 32,
   "metadata": {},
   "outputs": [
    {
     "name": "stdout",
     "output_type": "stream",
     "text": [
      "- IDEAM\n",
      "La ENFICC 99% es: 4.2819\n",
      "- NREL\n",
      "La ENFICC 99% es: 4.6213\n",
      "- NEW\n",
      "La ENFICC 99% es: 4.3404\n"
     ]
    }
   ],
   "source": [
    "# Calcular ENFICC\n",
    "print('- IDEAM')\n",
    "ur1_enficc_IDEAM = enficc(ur1_IDEAM)\n",
    "print('- NREL')\n",
    "ur1_enficc_NREL = enficc(ur1_NREL)\n",
    "print('- NEW')\n",
    "ur1_enficc_NEW = enficc(ur1_NEW)"
   ]
  },
  {
   "cell_type": "markdown",
   "metadata": {},
   "source": [
    "#### Uribia - Análisis\n",
    "\n",
    "|![Uribia-2013.png](files/output/Uribia-2013.png)|\n",
    "|:--------------------------------------------------------:|\n",
    "|Figura 3. Gráfica del promedio díario mensual de la energía para Uribia utilizando el año 2013 para la corección.| \n",
    "\n",
    "<h5><center>Tabla 5. Errores para Uribia</center></h5>\n",
    "\n",
    "|Serie|RMSEn|MBE|P-Value|\n",
    "|:---:|:---:|:-:|:-----:|\n",
    "|IDEAM|0.0|0.0|1|\n",
    "|NREL|11.569%|8.170%|1.01e-06|\n",
    "|NEW-2013|11.194%|2.123%|0.045|\n",
    "\n",
    "<h5><center>Tabla 6. ENFICC 99% para Uribia</center></h5>\n",
    "\n",
    "|Serie|ENFICC 99%|Error %|\n",
    "|:---:|:--------:|:-----:|\n",
    "|IDEAM|4.2819|0|\n",
    "|NREL|4.6213|7.93%|\n",
    "|NEW-2013|4.3404|1.37%|"
   ]
  },
  {
   "cell_type": "markdown",
   "metadata": {},
   "source": [
    "[Índice](#index)"
   ]
  },
  {
   "cell_type": "markdown",
   "metadata": {},
   "source": [
    "### Valledupar - 2013 <a class=\"anchor\" id=\"Valledupar\"></a>"
   ]
  },
  {
   "cell_type": "code",
   "execution_count": 33,
   "metadata": {},
   "outputs": [
    {
     "name": "stdout",
     "output_type": "stream",
     "text": [
      "Primer año:  2006\n",
      "Último año:  2015\n"
     ]
    }
   ],
   "source": [
    "# Importar datos CSV\n",
    "vall_OBJ, vall_REF, vall_EXTRA, vall_min_agno, vall_agnos = extract_data('Valledupar')\n",
    "\n",
    "print(\"Primer año: \", vall_min_agno)\n",
    "print(\"Último año: \", vall_min_agno+vall_agnos-1)"
   ]
  },
  {
   "cell_type": "code",
   "execution_count": 34,
   "metadata": {
    "collapsed": true
   },
   "outputs": [],
   "source": [
    "# Aplicar corrección MCP\n",
    "vall1_COR = mcp(vall_OBJ,vall_REF,vall_EXTRA,2013)"
   ]
  },
  {
   "cell_type": "code",
   "execution_count": 35,
   "metadata": {
    "collapsed": true
   },
   "outputs": [],
   "source": [
    "# Preparar datos\n",
    "vall1_IDEAM, vall1_NREL, vall1_NEW = prepare_data(vall_OBJ,vall_REF,vall1_COR,vall_min_agno,vall_agnos)"
   ]
  },
  {
   "cell_type": "code",
   "execution_count": 36,
   "metadata": {
    "collapsed": true
   },
   "outputs": [],
   "source": [
    "# Cortar serie corregida para errores\n",
    "vall1_COR_cut = cut_series(vall1_COR,vall_min_agno,vall_agnos)\n",
    "vall1_NREL_cut = cut_series(vall_REF,vall_min_agno,vall_agnos)"
   ]
  },
  {
   "cell_type": "code",
   "execution_count": 54,
   "metadata": {},
   "outputs": [
    {
     "data": {
      "image/png": "[encoded data removed]",
      "text/plain": [
       "<matplotlib.figure.Figure at 0x1c27ab1fd68>"
      ]
     },
     "metadata": {},
     "output_type": "display_data"
    }
   ],
   "source": [
    "# Graficar datos\n",
    "graph_data('Valledupar-2013',vall1_IDEAM,vall1_NREL,vall1_NEW)"
   ]
  },
  {
   "cell_type": "code",
   "execution_count": 65,
   "metadata": {},
   "outputs": [
    {
     "data": {
      "image/png": "[encoded data removed]",
      "text/plain": [
       "<matplotlib.figure.Figure at 0x1c200791908>"
      ]
     },
     "metadata": {},
     "output_type": "display_data"
    }
   ],
   "source": [
    "graph_ideam('Valledupar',vall_OBJ,2013)"
   ]
  },
  {
   "cell_type": "code",
   "execution_count": 38,
   "metadata": {},
   "outputs": [
    {
     "name": "stdout",
     "output_type": "stream",
     "text": [
      "Errores NREL\n",
      "El error RMSEn es: 9.066%\n",
      "El error MBE es: 11.498%\n",
      "El P-Value es: 7.652090463744404e-20\n",
      "\n",
      "\n",
      "Errores NEW\n",
      "El error RMSEn es: 8.305%\n",
      "El error MBE es: -4.602%\n",
      "El P-Value es: 0.0002920948114563308\n"
     ]
    }
   ],
   "source": [
    "# Calcular Errores - NREL\n",
    "print('Errores NREL')\n",
    "vall1_rmsen_nrel = rmsen(vall_OBJ,vall1_NREL_cut)\n",
    "vall1_mbe_nrel = mbe(vall_OBJ,vall1_NREL_cut)\n",
    "vall1_stat_nrel, vall1_p_nrel = ksi_err(vall1_IDEAM,vall1_NREL)\n",
    "\n",
    "print('\\n')\n",
    "\n",
    "# Calcular Errores - NEW\n",
    "print('Errores NEW')\n",
    "vall1_rmsen_new = rmsen(vall_OBJ,vall1_COR_cut)\n",
    "vall1_mbe_new = mbe(vall_OBJ,vall1_COR_cut)\n",
    "vall1_stat_new, vall1_p_new = ksi_err(vall1_IDEAM,vall1_NEW)"
   ]
  },
  {
   "cell_type": "code",
   "execution_count": 39,
   "metadata": {},
   "outputs": [
    {
     "name": "stdout",
     "output_type": "stream",
     "text": [
      "- IDEAM\n",
      "La ENFICC 99% es: 4.5690\n",
      "- NREL\n",
      "La ENFICC 99% es: 5.0667\n",
      "- NEW\n",
      "La ENFICC 99% es: 4.3122\n"
     ]
    }
   ],
   "source": [
    "# Calcular ENFICC\n",
    "print('- IDEAM')\n",
    "vall1_enficc_IDEAM = enficc(vall1_IDEAM)\n",
    "print('- NREL')\n",
    "vall1_enficc_NREL = enficc(vall1_NREL)\n",
    "print('- NEW')\n",
    "vall1_enficc_NEW = enficc(vall1_NEW)"
   ]
  },
  {
   "cell_type": "markdown",
   "metadata": {},
   "source": [
    "#### Valledupar - Análisis\n",
    "\n",
    "|![Valledupar-2013.png](files/output/Valledupar-2013.png)|\n",
    "|:--------------------------------------------------------:|\n",
    "|Figura 4. Gráfica del promedio díario mensual de la energía para Valledupar utilizando el año 2013 para la corección.| \n",
    "\n",
    "<h5><center>Tabla 7. Errores para Valledupar</center></h5>\n",
    "\n",
    "|Serie|RMSEn|MBE|P-Value|\n",
    "|:---:|:---:|:-:|:-----:|\n",
    "|IDEAM|0.0|0.0|1|\n",
    "|NREL|9.066%|11.498%|7.65e-20|\n",
    "|NEW-2013|8.305%|-4.602%|0.000292|\n",
    "\n",
    "<h5><center>Tabla 8. ENFICC 99% para Uribia</center></h5>\n",
    "\n",
    "|Serie|ENFICC 99%|Error %|\n",
    "|:---:|:--------:|:-----:|\n",
    "|IDEAM|4.5690|0|\n",
    "|NREL|5.0667|10.89%|\n",
    "|NEW-2013|4.3122|5.62%|\n",
    "\n",
    "|![Valledupar_Promedios.png](files/output/Valledupar_Promedios.png)|\n",
    "|:--------------------------------------------------------:|\n",
    "|Figura 5. Gráfica del promedio diario mensual de la energía en Valledupar ordenado en órden cronológico. La línea azul representa el promedio de todos los valores, y la línea roja representa el promedio del año con el cual se hizo la corrección (2013 en este caso).| "
   ]
  },
  {
   "cell_type": "markdown",
   "metadata": {},
   "source": [
    "[Índice](#index)"
   ]
  },
  {
   "cell_type": "markdown",
   "metadata": {},
   "source": [
    "------------\n",
    "## Parte 2 <a class=\"anchor\" id=\"Parte2\"></a>"
   ]
  },
  {
   "cell_type": "markdown",
   "metadata": {},
   "source": [
    "### El Niño - Cali <a class=\"anchor\" id=\"Niño\"></a>"
   ]
  },
  {
   "cell_type": "markdown",
   "metadata": {},
   "source": [
    "#### 2013 - Año sin fenómeno del Niño [1]"
   ]
  },
  {
   "cell_type": "code",
   "execution_count": 66,
   "metadata": {},
   "outputs": [
    {
     "name": "stdout",
     "output_type": "stream",
     "text": [
      "Primer año:  2007\n",
      "Último año:  2015\n"
     ]
    }
   ],
   "source": [
    "# Importar datos CSV\n",
    "cal_OBJ, cal_REF, cal_EXTRA, cal_min_agno, cal_agnos = extract_data('Cali')\n",
    "\n",
    "print(\"Primer año: \", cal_min_agno)\n",
    "print(\"Último año: \", cal_min_agno+cal_agnos-1)"
   ]
  },
  {
   "cell_type": "code",
   "execution_count": 67,
   "metadata": {
    "collapsed": true
   },
   "outputs": [],
   "source": [
    "# Aplicar corrección MCP\n",
    "cal1_COR = mcp(cal_OBJ,cal_REF,cal_EXTRA,2013)"
   ]
  },
  {
   "cell_type": "code",
   "execution_count": 68,
   "metadata": {
    "collapsed": true
   },
   "outputs": [],
   "source": [
    "# Preparar datos\n",
    "cal1_IDEAM, cal1_NREL, cal1_NEW = prepare_data(cal_OBJ,cal_REF,cal1_COR,cal_min_agno,cal_agnos)"
   ]
  },
  {
   "cell_type": "code",
   "execution_count": 69,
   "metadata": {
    "collapsed": true
   },
   "outputs": [],
   "source": [
    "# Cortar serie corregida para errores\n",
    "cal1_COR_cut = cut_series(cal1_COR,cal_min_agno,cal_agnos)\n",
    "cal1_NREL_cut = cut_series(cal_REF,cal_min_agno,cal_agnos)"
   ]
  },
  {
   "cell_type": "code",
   "execution_count": 71,
   "metadata": {},
   "outputs": [
    {
     "data": {
      "image/png": "[encoded data removed]",
      "text/plain": [
       "<matplotlib.figure.Figure at 0x1c20280df28>"
      ]
     },
     "metadata": {},
     "output_type": "display_data"
    }
   ],
   "source": [
    "# Graficar datos\n",
    "graph_data('Cali-2013',cal1_IDEAM,cal1_NREL,cal1_NEW)"
   ]
  },
  {
   "cell_type": "code",
   "execution_count": 89,
   "metadata": {},
   "outputs": [
    {
     "data": {
      "image/png": "[encoded data removed]",
      "text/plain": [
       "<matplotlib.figure.Figure at 0x1c200b117b8>"
      ]
     },
     "metadata": {},
     "output_type": "display_data"
    }
   ],
   "source": [
    "graph_ideam('Cali',cal_OBJ,2013)"
   ]
  },
  {
   "cell_type": "code",
   "execution_count": 72,
   "metadata": {},
   "outputs": [
    {
     "name": "stdout",
     "output_type": "stream",
     "text": [
      "Errores NREL\n",
      "El error RMSEn es: 11.969%\n",
      "El error MBE es: 19.255%\n",
      "El P-Value es: 1.8189145374614879e-28\n",
      "\n",
      "\n",
      "Errores NEW\n",
      "El error RMSEn es: 10.100%\n",
      "El error MBE es: -0.465%\n",
      "El P-Value es: 0.39164879222863963\n"
     ]
    }
   ],
   "source": [
    "# Calcular Errores - NREL\n",
    "print('Errores NREL')\n",
    "cal1_rmsen_nrel = rmsen(cal_OBJ,cal1_NREL_cut)\n",
    "cal1_mbe_nrel = mbe(cal_OBJ,cal1_NREL_cut)\n",
    "cal1_stat_nrel, cal1_p_nrel = ksi_err(cal1_IDEAM,cal1_NREL)\n",
    "\n",
    "print('\\n')\n",
    "\n",
    "# Calcular Errores - NEW\n",
    "print('Errores NEW')\n",
    "cal1_rmsen_new = rmsen(cal_OBJ,cal1_COR_cut)\n",
    "cal1_mbe_new = mbe(cal_OBJ,cal1_COR_cut)\n",
    "cal1_stat_new, cal1_p_new = ksi_err(cal1_IDEAM,cal1_NEW)"
   ]
  },
  {
   "cell_type": "code",
   "execution_count": 73,
   "metadata": {},
   "outputs": [
    {
     "name": "stdout",
     "output_type": "stream",
     "text": [
      "- IDEAM\n",
      "La ENFICC 99% es: 3.3308\n",
      "- NREL\n",
      "La ENFICC 99% es: 4.3492\n",
      "- NEW\n",
      "La ENFICC 99% es: 3.6224\n"
     ]
    }
   ],
   "source": [
    "# Calcular ENFICC\n",
    "print('- IDEAM')\n",
    "cal1_enficc_IDEAM = enficc(cal1_IDEAM)\n",
    "print('- NREL')\n",
    "cal1_enficc_NREL = enficc(cal1_NREL)\n",
    "print('- NEW')\n",
    "cal1_enficc_NEW = enficc(cal1_NEW)"
   ]
  },
  {
   "cell_type": "markdown",
   "metadata": {},
   "source": [
    "#### 2015 - Año con fenómeno del Niño [1] [3]"
   ]
  },
  {
   "cell_type": "code",
   "execution_count": 74,
   "metadata": {
    "collapsed": true
   },
   "outputs": [],
   "source": [
    "# Aplicar corrección MCP\n",
    "cal2_COR = mcp(cal_OBJ,cal_REF,cal_EXTRA,2015)"
   ]
  },
  {
   "cell_type": "code",
   "execution_count": 75,
   "metadata": {
    "collapsed": true
   },
   "outputs": [],
   "source": [
    "# Preparar datos\n",
    "cal2_IDEAM, cal2_NREL, cal2_NEW = prepare_data(cal_OBJ,cal_REF,cal2_COR,cal_min_agno,cal_agnos)"
   ]
  },
  {
   "cell_type": "code",
   "execution_count": 76,
   "metadata": {
    "collapsed": true
   },
   "outputs": [],
   "source": [
    "# Cortar serie corregida para errores\n",
    "cal2_COR_cut = cut_series(cal2_COR,cal_min_agno,cal_agnos)\n",
    "cal2_NREL_cut = cut_series(cal_REF,cal_min_agno,cal_agnos)"
   ]
  },
  {
   "cell_type": "code",
   "execution_count": 80,
   "metadata": {},
   "outputs": [
    {
     "data": {
      "image/png": "[encoded data removed]",
      "text/plain": [
       "<matplotlib.figure.Figure at 0x1c27b1f2128>"
      ]
     },
     "metadata": {},
     "output_type": "display_data"
    }
   ],
   "source": [
    "# Graficar datos\n",
    "graph_data('Cali-2015',cal2_IDEAM,cal2_NREL,cal2_NEW)"
   ]
  },
  {
   "cell_type": "code",
   "execution_count": 90,
   "metadata": {},
   "outputs": [
    {
     "data": {
      "image/png": "[encoded data removed]",
      "text/plain": [
       "<matplotlib.figure.Figure at 0x1c200822390>"
      ]
     },
     "metadata": {},
     "output_type": "display_data"
    }
   ],
   "source": [
    "graph_ideam('Cali',cal_OBJ,2015)"
   ]
  },
  {
   "cell_type": "code",
   "execution_count": 78,
   "metadata": {},
   "outputs": [
    {
     "name": "stdout",
     "output_type": "stream",
     "text": [
      "Errores NEW\n",
      "El error RMSEn es: 10.597%\n",
      "El error MBE es: 7.101%\n",
      "El P-Value es: 1.901476303606619e-06\n"
     ]
    }
   ],
   "source": [
    "# Calcular Errores - NEW\n",
    "print('Errores NEW')\n",
    "cal2_rmsen_new = rmsen(cal_OBJ,cal2_COR_cut)\n",
    "cal2_mbe_new = mbe(cal_OBJ,cal2_COR_cut)\n",
    "cal2_stat_new, cal2_p_new = ksi_err(cal2_IDEAM,cal2_NEW)"
   ]
  },
  {
   "cell_type": "code",
   "execution_count": 79,
   "metadata": {},
   "outputs": [
    {
     "name": "stdout",
     "output_type": "stream",
     "text": [
      "- NEW\n",
      "La ENFICC 99% es: 3.8911\n"
     ]
    }
   ],
   "source": [
    "# Calcular ENFICC\n",
    "print('- NEW')\n",
    "cal2_enficc_NEW = enficc(cal2_NEW)"
   ]
  },
  {
   "cell_type": "markdown",
   "metadata": {},
   "source": [
    "#### Cali - Análisis <a class=\"anchor\" id=\"Niño-A\"></a>\n",
    "\n",
    "|![Cali-2013.png](files/output/Cali-2013.png)|![Cali-2015.png](files/output/Cali-2015.png)|\n",
    "|:----------------------------------------:|:----------------------------------------:|\n",
    "|Figura 6A. Gráfica del promedio díario mensual de la energía para Cali utilizando el año 2013 para la corección. En este año no se presentó el fenómeno del Niño. [1]|Figura 6B. Gráfica del promedio díario mensual de la energía para Cali utilizando el año 2015 para la corección. En este año se presentó un fuerte fenómeno del Niño. [1] [3]| \n",
    "\n",
    "<h5><center>Tabla 9. Errores para Cali</center></h5>\n",
    "\n",
    "|Serie|RMSEn|MBE|P-Value|\n",
    "|:---:|:---:|:-:|:-----:|\n",
    "|IDEAM|0.0|0.0|1|\n",
    "|NREL|11.969%|19.255%|1.82e-28|\n",
    "|NEW-2013|10.100%|-0.465%|0.392|\n",
    "|NEW-2015|10.597%|7.101%|1.90e-06|\n",
    "\n",
    "<h5><center>Tabla 10. ENFICC 99% para Cali</center></h5>\n",
    "\n",
    "|Serie|ENFICC 99%|Error %|\n",
    "|:---:|:--------:|:-----:|\n",
    "|IDEAM|3.3308|0|\n",
    "|NREL|4.3492|30.58%|\n",
    "|NEW-2013|3.6224|8.75%|\n",
    "|NEW-2015|3.8911|16.82%|\n",
    "\n",
    "\n",
    "|![Cali_Promedios_2013.png](files/output/Cali_Promedios_2013.png)|![Cali_Promedios_2015.png](files/output/Cali_Promedios_2015.png)|\n",
    "|:----------------------------------------:|:----------------------------------------:|\n",
    "|Figura 7A. Gráfica del promedio diario mensual de la energía en Cali ordenado en órden cronológico. La línea azul representa el promedio de todos los valores, y la línea roja representa el promedio del año con el cual se hizo la corrección (2013 en este caso).| Figura 7B. Gráfica del promedio diario mensual de la energía en Cali ordenado en órden cronológico. La línea azul representa el promedio de todos los valores, y la línea roja representa el promedio del año con el cual se hizo la corrección (2015 en este caso).|"
   ]
  },
  {
   "cell_type": "markdown",
   "metadata": {},
   "source": [
    "[Índice](#index)"
   ]
  },
  {
   "cell_type": "markdown",
   "metadata": {},
   "source": [
    "### La Niña - Sucre <a class=\"anchor\" id=\"Niña\"></a>"
   ]
  },
  {
   "cell_type": "markdown",
   "metadata": {},
   "source": [
    "#### 2013 - Año sin fenómeno de la Niña [1]"
   ]
  },
  {
   "cell_type": "code",
   "execution_count": 91,
   "metadata": {},
   "outputs": [
    {
     "name": "stdout",
     "output_type": "stream",
     "text": [
      "Primer año:  2006\n",
      "Último año:  2015\n"
     ]
    }
   ],
   "source": [
    "# Importar datos CSV\n",
    "suc_OBJ, suc_REF, suc_EXTRA, suc_min_agno, suc_agnos = extract_data('Sucre')\n",
    "\n",
    "print(\"Primer año: \", suc_min_agno)\n",
    "print(\"Último año: \", suc_min_agno+suc_agnos-1)"
   ]
  },
  {
   "cell_type": "code",
   "execution_count": 92,
   "metadata": {
    "collapsed": true
   },
   "outputs": [],
   "source": [
    "# Aplicar corrección MCP\n",
    "suc1_COR = mcp(suc_OBJ,suc_REF,suc_EXTRA,2013)"
   ]
  },
  {
   "cell_type": "code",
   "execution_count": 93,
   "metadata": {
    "collapsed": true
   },
   "outputs": [],
   "source": [
    "# Preparar datos\n",
    "suc1_IDEAM, suc1_NREL, suc1_NEW = prepare_data(suc_OBJ,suc_REF,suc1_COR,suc_min_agno,suc_agnos)"
   ]
  },
  {
   "cell_type": "code",
   "execution_count": 94,
   "metadata": {
    "collapsed": true
   },
   "outputs": [],
   "source": [
    "# Cortar serie corregida para errores\n",
    "suc1_COR_cut = cut_series(suc1_COR,suc_min_agno,suc_agnos)\n",
    "suc1_NREL_cut = cut_series(suc_REF,suc_min_agno,suc_agnos)"
   ]
  },
  {
   "cell_type": "code",
   "execution_count": 97,
   "metadata": {},
   "outputs": [
    {
     "data": {
      "image/png": "[encoded data removed]",
      "text/plain": [
       "<matplotlib.figure.Figure at 0x1c27b1e3630>"
      ]
     },
     "metadata": {},
     "output_type": "display_data"
    }
   ],
   "source": [
    "# Graficar datos\n",
    "graph_data('Sucre-2013',suc1_IDEAM,suc1_NREL,suc1_NEW)"
   ]
  },
  {
   "cell_type": "code",
   "execution_count": 98,
   "metadata": {},
   "outputs": [
    {
     "data": {
      "image/png": "[encoded data removed]",
      "text/plain": [
       "<matplotlib.figure.Figure at 0x1c27ba08898>"
      ]
     },
     "metadata": {},
     "output_type": "display_data"
    }
   ],
   "source": [
    "graph_ideam('Sucre',cal_OBJ,2013)"
   ]
  },
  {
   "cell_type": "code",
   "execution_count": 99,
   "metadata": {},
   "outputs": [
    {
     "name": "stdout",
     "output_type": "stream",
     "text": [
      "Errores NREL\n",
      "El error RMSEn es: 12.002%\n",
      "El error MBE es: 17.384%\n",
      "El P-Value es: 8.407536546361892e-24\n",
      "\n",
      "\n",
      "Errores NEW\n",
      "El error RMSEn es: 10.819%\n",
      "El error MBE es: 4.899%\n",
      "El P-Value es: 0.08888451740883621\n"
     ]
    }
   ],
   "source": [
    "# Calcular Errores - NREL\n",
    "print('Errores NREL')\n",
    "suc1_rmsen_nrel = rmsen(suc_OBJ,suc1_NREL_cut)\n",
    "suc1_mbe_nrel = mbe(suc_OBJ,suc1_NREL_cut)\n",
    "suc1_stat_nrel, suc1_p_nrel = ksi_err(suc1_IDEAM,suc1_NREL)\n",
    "\n",
    "print('\\n')\n",
    "\n",
    "# Calcular Errores - NEW\n",
    "print('Errores NEW')\n",
    "suc1_rmsen_new = rmsen(suc_OBJ,suc1_COR_cut)\n",
    "suc1_mbe_new = mbe(suc_OBJ,suc1_COR_cut)\n",
    "suc1_stat_new, suc1_p_new = ksi_err(suc1_IDEAM,suc1_NEW)"
   ]
  },
  {
   "cell_type": "code",
   "execution_count": 100,
   "metadata": {},
   "outputs": [
    {
     "name": "stdout",
     "output_type": "stream",
     "text": [
      "- IDEAM\n",
      "La ENFICC 99% es: 2.3796\n",
      "- NREL\n",
      "La ENFICC 99% es: 4.8381\n",
      "- NEW\n",
      "La ENFICC 99% es: 4.3099\n"
     ]
    }
   ],
   "source": [
    "# Calcular ENFICC\n",
    "print('- IDEAM')\n",
    "suc1_enficc_IDEAM = enficc(suc1_IDEAM)\n",
    "print('- NREL')\n",
    "suc1_enficc_NREL = enficc(suc1_NREL)\n",
    "print('- NEW')\n",
    "suc1_enficc_NEW = enficc(suc1_NEW)"
   ]
  },
  {
   "cell_type": "markdown",
   "metadata": {},
   "source": [
    "#### 2011 - Año con fenómeno de la Niña [1]"
   ]
  },
  {
   "cell_type": "code",
   "execution_count": 101,
   "metadata": {
    "collapsed": true
   },
   "outputs": [],
   "source": [
    "# Aplicar corrección MCP\n",
    "suc2_COR = mcp(suc_OBJ,suc_REF,suc_EXTRA,2011)"
   ]
  },
  {
   "cell_type": "code",
   "execution_count": 102,
   "metadata": {
    "collapsed": true
   },
   "outputs": [],
   "source": [
    "# Preparar datos\n",
    "suc2_IDEAM, suc2_NREL, suc2_NEW = prepare_data(suc_OBJ,suc_REF,suc2_COR,suc_min_agno,suc_agnos)"
   ]
  },
  {
   "cell_type": "code",
   "execution_count": 103,
   "metadata": {
    "collapsed": true
   },
   "outputs": [],
   "source": [
    "# Cortar serie corregida para errores\n",
    "suc2_COR_cut = cut_series(suc2_COR,suc_min_agno,suc_agnos)\n",
    "suc2_NREL_cut = cut_series(suc_REF,suc_min_agno,suc_agnos)"
   ]
  },
  {
   "cell_type": "code",
   "execution_count": 104,
   "metadata": {},
   "outputs": [
    {
     "data": {
      "image/png": "[encoded data removed]",
      "text/plain": [
       "<matplotlib.figure.Figure at 0x1c27ab1bc50>"
      ]
     },
     "metadata": {},
     "output_type": "display_data"
    }
   ],
   "source": [
    "# Graficar datos\n",
    "graph_data('Sucre-2011',suc2_IDEAM,suc2_NREL,suc2_NEW)"
   ]
  },
  {
   "cell_type": "code",
   "execution_count": 105,
   "metadata": {},
   "outputs": [
    {
     "data": {
      "image/png": "[encoded data removed]",
      "text/plain": [
       "<matplotlib.figure.Figure at 0x1c20072a208>"
      ]
     },
     "metadata": {},
     "output_type": "display_data"
    }
   ],
   "source": [
    "graph_ideam('Sucre',cal_OBJ,2011)"
   ]
  },
  {
   "cell_type": "code",
   "execution_count": 106,
   "metadata": {},
   "outputs": [
    {
     "name": "stdout",
     "output_type": "stream",
     "text": [
      "Errores NEW\n",
      "El error RMSEn es: 10.570%\n",
      "El error MBE es: -8.616%\n",
      "El P-Value es: 9.663765862098895e-17\n"
     ]
    }
   ],
   "source": [
    "# Calcular Errores - NEW\n",
    "print('Errores NEW')\n",
    "suc2_rmsen_new = rmsen(suc_OBJ,suc2_COR_cut)\n",
    "suc2_mbe_new = mbe(suc_OBJ,suc2_COR_cut)\n",
    "suc2_stat_new, suc2_p_new = ksi_err(suc2_IDEAM,suc2_NEW)"
   ]
  },
  {
   "cell_type": "code",
   "execution_count": 107,
   "metadata": {},
   "outputs": [
    {
     "name": "stdout",
     "output_type": "stream",
     "text": [
      "- NEW\n",
      "La ENFICC 99% es: 3.7322\n"
     ]
    }
   ],
   "source": [
    "# Calcular ENFICC\n",
    "print('- NEW')\n",
    "suc2_enficc_NEW = enficc(suc2_NEW)"
   ]
  },
  {
   "cell_type": "markdown",
   "metadata": {},
   "source": [
    "#### Sucre - Análisis <a class=\"anchor\" id=\"Niña-A\"></a>\n",
    "\n",
    "|![Sucre-2013.png](files/output/Sucre-2013.png)|![Sucre-2011.png](files/output/Sucre-2011.png)|\n",
    "|:------------------------------------------:|:------------------------------------------:|\n",
    "|Figura 8A. Gráfica del promedio díario mensual de la energía para Sucre utilizando el año 2013 para la corección. En este año no se presentó el fenómeno de la Niña. [1]|Figura 8B. Gráfica del promedio díario mensual de la energía para Sucre utilizando el año 2011 para la corección. En este año se presentó el fenómeno de la Niña. [1]| \n",
    "\n",
    "<h5><center>Tabla 11. Errores para Sucre</center></h5>\n",
    "\n",
    "|Serie|RMSEn|MBE|P-Value|\n",
    "|:---:|:---:|:-:|:-----:|\n",
    "|IDEAM|0.0|0.0|1|\n",
    "|NREL|12.002%|17.384%|8.41e-24|\n",
    "|NEW-2013|10.819%|4.899%|0.0889|\n",
    "|NEW-2011|10.570%|-8.616%|9.66e-17|\n",
    "\n",
    "<h5><center>Tabla 12. ENFICC 99% para Sucre</center></h5>\n",
    "\n",
    "|Serie|ENFICC 99%|Error %|\n",
    "|:---:|:--------:|:-----:|\n",
    "|IDEAM|2.3796|0|\n",
    "|NREL|4.8381|103.32%|\n",
    "|NEW-2013|4.3099|81.11%|\n",
    "|NEW-2011|3.7322|56.84%|\n",
    "\n",
    "\n",
    "|![Sucre_Promedios_2013.png](files/output/Sucre_Promedios_2013.png)|![Sucre_Promedios_2011.png](files/output/Sucre_Promedios_2011.png)|\n",
    "|:----------------------------------------:|:----------------------------------------:|\n",
    "|Figura 9A. Gráfica del promedio diario mensual de la energía en Sucre ordenado en órden cronológico. La línea azul representa el promedio de todos los valores, y la línea roja representa el promedio del año con el cual se hizo la corrección (2013 en este caso).| Figura 9B. Gráfica del promedio diario mensual de la energía en Cali ordenado en órden cronológico. La línea azul representa el promedio de todos los valores, y la línea roja representa el promedio del año con el cual se hizo la corrección (2011 en este caso).|"
   ]
  },
  {
   "cell_type": "markdown",
   "metadata": {},
   "source": [
    "[Índice](#index)"
   ]
  },
  {
   "cell_type": "markdown",
   "metadata": {},
   "source": [
    "---------\n",
    "## Parte 3 <a class=\"anchor\" id=\"Parte3\"></a>"
   ]
  },
  {
   "cell_type": "markdown",
   "metadata": {},
   "source": [
    "### Medellin <a class=\"anchor\" id=\"Medellin\"></a>"
   ]
  },
  {
   "cell_type": "code",
   "execution_count": 108,
   "metadata": {},
   "outputs": [
    {
     "name": "stdout",
     "output_type": "stream",
     "text": [
      "Primer año:  2006\n",
      "Último año:  2015\n"
     ]
    }
   ],
   "source": [
    "# Importar datos CSV\n",
    "med_OBJ, med_REF, med_EXTRA, med_min_agno, med_agnos = extract_data('Medellin')\n",
    "\n",
    "print(\"Primer año: \", med_min_agno)\n",
    "print(\"Último año: \", med_min_agno+med_agnos-1)"
   ]
  },
  {
   "cell_type": "markdown",
   "metadata": {},
   "source": [
    "#### Medellin - 1 mes <a class=\"anchor\" id=\"Medellin1\"></a>"
   ]
  },
  {
   "cell_type": "code",
   "execution_count": 109,
   "metadata": {
    "collapsed": true
   },
   "outputs": [],
   "source": [
    "# Aplicar corrección MCP\n",
    "med1_COR = mcp(med_OBJ,med_REF,med_EXTRA,2013,1,1,1)"
   ]
  },
  {
   "cell_type": "code",
   "execution_count": 110,
   "metadata": {
    "collapsed": true
   },
   "outputs": [],
   "source": [
    "# Preparar datos\n",
    "med1_IDEAM, med1_NREL, med1_NEW = prepare_data(med_OBJ,med_REF,med1_COR,med_min_agno,med_agnos)"
   ]
  },
  {
   "cell_type": "code",
   "execution_count": 111,
   "metadata": {
    "collapsed": true
   },
   "outputs": [],
   "source": [
    "# Cortar serie corregida para errores\n",
    "med1_COR_cut = cut_series(med1_COR,med_min_agno,med_agnos)\n",
    "med1_NREL_cut = cut_series(med_REF,med_min_agno,med_agnos)"
   ]
  },
  {
   "cell_type": "code",
   "execution_count": 112,
   "metadata": {},
   "outputs": [
    {
     "data": {
      "image/png": "[encoded data removed]",
      "text/plain": [
       "<matplotlib.figure.Figure at 0x1c2027fdc88>"
      ]
     },
     "metadata": {},
     "output_type": "display_data"
    }
   ],
   "source": [
    "# Graficar datos\n",
    "graph_data('Medellin-2013_1',med1_IDEAM,med1_NREL,med1_NEW)"
   ]
  },
  {
   "cell_type": "code",
   "execution_count": 113,
   "metadata": {},
   "outputs": [
    {
     "name": "stdout",
     "output_type": "stream",
     "text": [
      "Errores NREL\n",
      "El error RMSEn es: 11.711%\n",
      "El error MBE es: 19.721%\n",
      "El P-Value es: 3.1442171072448036e-26\n",
      "\n",
      "\n",
      "Errores NEW\n",
      "El error RMSEn es: 9.913%\n",
      "El error MBE es: -1.407%\n",
      "El P-Value es: 0.3665702007705852\n"
     ]
    }
   ],
   "source": [
    "# Calcular Errores - NREL\n",
    "print('Errores NREL')\n",
    "med1_rmsen_nrel = rmsen(med_OBJ,med1_NREL_cut)\n",
    "med1_mbe_nrel = mbe(med_OBJ,med1_NREL_cut)\n",
    "med1_stat_nrel, med1_p_nrel = ksi_err(med1_IDEAM,med1_NREL)\n",
    "\n",
    "print('\\n')\n",
    "\n",
    "# Calcular Errores - NEW\n",
    "print('Errores NEW')\n",
    "med1_rmsen_new = rmsen(med_OBJ,med1_COR_cut)\n",
    "med1_mbe_new = mbe(med_OBJ,med1_COR_cut)\n",
    "med1_stat_new, med1_p_new = ksi_err(med1_IDEAM,med1_NEW)"
   ]
  },
  {
   "cell_type": "code",
   "execution_count": 114,
   "metadata": {},
   "outputs": [
    {
     "name": "stdout",
     "output_type": "stream",
     "text": [
      "- IDEAM\n",
      "La ENFICC 99% es: 3.5352\n",
      "- NREL\n",
      "La ENFICC 99% es: 4.3113\n",
      "- NEW\n",
      "La ENFICC 99% es: 3.5430\n"
     ]
    }
   ],
   "source": [
    "# Calcular ENFICC\n",
    "print('- IDEAM')\n",
    "med1_enficc_IDEAM = enficc(med1_IDEAM)\n",
    "print('- NREL')\n",
    "med1_enficc_NREL = enficc(med1_NREL)\n",
    "print('- NEW')\n",
    "med1_enficc_NEW = enficc(med1_NEW)"
   ]
  },
  {
   "cell_type": "markdown",
   "metadata": {},
   "source": [
    "[Índice](#index)"
   ]
  },
  {
   "cell_type": "markdown",
   "metadata": {},
   "source": [
    "#### Medellin - 3 meses <a class=\"anchor\" id=\"Medellin2\"></a>"
   ]
  },
  {
   "cell_type": "code",
   "execution_count": 115,
   "metadata": {
    "collapsed": true
   },
   "outputs": [],
   "source": [
    "# Aplicar corrección MCP\n",
    "med2_COR = mcp(med_OBJ,med_REF,med_EXTRA,2013,1,1,3)"
   ]
  },
  {
   "cell_type": "code",
   "execution_count": 116,
   "metadata": {
    "collapsed": true
   },
   "outputs": [],
   "source": [
    "# Preparar datos\n",
    "med2_IDEAM, med2_NREL, med2_NEW = prepare_data(med_OBJ,med_REF,med2_COR,med_min_agno,med_agnos)"
   ]
  },
  {
   "cell_type": "code",
   "execution_count": 117,
   "metadata": {
    "collapsed": true
   },
   "outputs": [],
   "source": [
    "# Cortar serie corregida para errores\n",
    "med2_COR_cut = cut_series(med2_COR,med_min_agno,med_agnos)\n",
    "med2_NREL_cut = cut_series(med_REF,med_min_agno,med_agnos)"
   ]
  },
  {
   "cell_type": "code",
   "execution_count": 118,
   "metadata": {},
   "outputs": [
    {
     "data": {
      "image/png": "[encoded data removed]",
      "text/plain": [
       "<matplotlib.figure.Figure at 0x1c20718d2e8>"
      ]
     },
     "metadata": {},
     "output_type": "display_data"
    }
   ],
   "source": [
    "# Graficar datos\n",
    "graph_data('Medellin-2013_3',med2_IDEAM,med2_NREL,med2_NEW)"
   ]
  },
  {
   "cell_type": "code",
   "execution_count": 119,
   "metadata": {},
   "outputs": [
    {
     "name": "stdout",
     "output_type": "stream",
     "text": [
      "Errores NEW\n",
      "El error RMSEn es: 10.029%\n",
      "El error MBE es: 0.712%\n",
      "El P-Value es: 0.5637568068246692\n"
     ]
    }
   ],
   "source": [
    "# Calcular Errores - NEW\n",
    "print('Errores NEW')\n",
    "med2_rmsen_new = rmsen(med_OBJ,med2_COR_cut)\n",
    "med2_mbe_new = mbe(med_OBJ,med2_COR_cut)\n",
    "med2_stat_new, med2_p_new = ksi_err(med2_IDEAM,med2_NEW)"
   ]
  },
  {
   "cell_type": "code",
   "execution_count": 120,
   "metadata": {},
   "outputs": [
    {
     "name": "stdout",
     "output_type": "stream",
     "text": [
      "- NEW\n",
      "La ENFICC 99% es: 3.6081\n"
     ]
    }
   ],
   "source": [
    "# Calcular ENFICC\n",
    "print('- NEW')\n",
    "med2_enficc_NEW = enficc(med2_NEW)"
   ]
  },
  {
   "cell_type": "markdown",
   "metadata": {},
   "source": [
    "[Índice](#index)"
   ]
  },
  {
   "cell_type": "markdown",
   "metadata": {},
   "source": [
    "#### Medellin - 6 meses <a class=\"anchor\" id=\"Medellin3\"></a>"
   ]
  },
  {
   "cell_type": "code",
   "execution_count": 121,
   "metadata": {
    "collapsed": true
   },
   "outputs": [],
   "source": [
    "# Aplicar corrección MCP\n",
    "med3_COR = mcp(med_OBJ,med_REF,med_EXTRA,2013,1,1,6)"
   ]
  },
  {
   "cell_type": "code",
   "execution_count": 122,
   "metadata": {
    "collapsed": true
   },
   "outputs": [],
   "source": [
    "# Preparar datos\n",
    "med3_IDEAM, med3_NREL, med3_NEW = prepare_data(med_OBJ,med_REF,med3_COR,med_min_agno,med_agnos)"
   ]
  },
  {
   "cell_type": "code",
   "execution_count": 123,
   "metadata": {
    "collapsed": true
   },
   "outputs": [],
   "source": [
    "# Cortar serie corregida para errores\n",
    "med3_COR_cut = cut_series(med3_COR,med_min_agno,med_agnos)\n",
    "med3_NREL_cut = cut_series(med_REF,med_min_agno,med_agnos)"
   ]
  },
  {
   "cell_type": "code",
   "execution_count": 124,
   "metadata": {},
   "outputs": [
    {
     "data": {
      "image/png": "[encoded data removed]",
      "text/plain": [
       "<matplotlib.figure.Figure at 0x1c2007d4780>"
      ]
     },
     "metadata": {},
     "output_type": "display_data"
    }
   ],
   "source": [
    "# Graficar datos\n",
    "graph_data('Medellin-2013_6',med3_IDEAM,med3_NREL,med3_NEW)"
   ]
  },
  {
   "cell_type": "code",
   "execution_count": 125,
   "metadata": {},
   "outputs": [
    {
     "name": "stdout",
     "output_type": "stream",
     "text": [
      "Errores NEW\n",
      "El error RMSEn es: 9.973%\n",
      "El error MBE es: -0.993%\n",
      "El P-Value es: 0.6737812270629111\n"
     ]
    }
   ],
   "source": [
    "# Calcular Errores - NEW\n",
    "print('Errores NEW')\n",
    "med3_rmsen_new = rmsen(med_OBJ,med3_COR_cut)\n",
    "med3_mbe_new = mbe(med_OBJ,med3_COR_cut)\n",
    "med3_stat_new, med3_p_new = ksi_err(med3_IDEAM,med3_NEW)"
   ]
  },
  {
   "cell_type": "code",
   "execution_count": 126,
   "metadata": {},
   "outputs": [
    {
     "name": "stdout",
     "output_type": "stream",
     "text": [
      "- NEW\n",
      "La ENFICC 99% es: 3.5453\n"
     ]
    }
   ],
   "source": [
    "# Calcular ENFICC\n",
    "print('- NEW')\n",
    "med3_enficc_NEW = enficc(med3_NEW)"
   ]
  },
  {
   "cell_type": "markdown",
   "metadata": {},
   "source": [
    "[Índice](#index)"
   ]
  },
  {
   "cell_type": "markdown",
   "metadata": {},
   "source": [
    "#### Medellin - 12 meses <a class=\"anchor\" id=\"Medellin4\"></a>"
   ]
  },
  {
   "cell_type": "code",
   "execution_count": 127,
   "metadata": {
    "collapsed": true
   },
   "outputs": [],
   "source": [
    "# Aplicar corrección MCP\n",
    "med4_COR = mcp(med_OBJ,med_REF,med_EXTRA,2013)"
   ]
  },
  {
   "cell_type": "code",
   "execution_count": 128,
   "metadata": {
    "collapsed": true
   },
   "outputs": [],
   "source": [
    "# Preparar datos\n",
    "med4_IDEAM, med4_NREL, med4_NEW = prepare_data(med_OBJ,med_REF,med4_COR,med_min_agno,med_agnos)"
   ]
  },
  {
   "cell_type": "code",
   "execution_count": 129,
   "metadata": {
    "collapsed": true
   },
   "outputs": [],
   "source": [
    "# Cortar serie corregida para errores\n",
    "med4_COR_cut = cut_series(med4_COR,med_min_agno,med_agnos)\n",
    "med4_NREL_cut = cut_series(med_REF,med_min_agno,med_agnos)"
   ]
  },
  {
   "cell_type": "code",
   "execution_count": 130,
   "metadata": {},
   "outputs": [
    {
     "data": {
      "image/png": "[encoded data removed]",
      "text/plain": [
       "<matplotlib.figure.Figure at 0x1c200638898>"
      ]
     },
     "metadata": {},
     "output_type": "display_data"
    }
   ],
   "source": [
    "# Graficar datos\n",
    "graph_data('Medellin-2013_12',med4_IDEAM,med4_NREL,med4_NEW)"
   ]
  },
  {
   "cell_type": "code",
   "execution_count": 131,
   "metadata": {},
   "outputs": [
    {
     "name": "stdout",
     "output_type": "stream",
     "text": [
      "Errores NEW\n",
      "El error RMSEn es: 9.984%\n",
      "El error MBE es: -0.600%\n",
      "El P-Value es: 0.781593040441274\n"
     ]
    }
   ],
   "source": [
    "# Calcular Errores - NEW\n",
    "print('Errores NEW')\n",
    "med4_rmsen_new = rmsen(med_OBJ,med4_COR_cut)\n",
    "med4_mbe_new = mbe(med_OBJ,med4_COR_cut)\n",
    "med4_stat_new, med4_p_new = ksi_err(med4_IDEAM,med4_NEW)"
   ]
  },
  {
   "cell_type": "code",
   "execution_count": 132,
   "metadata": {},
   "outputs": [
    {
     "name": "stdout",
     "output_type": "stream",
     "text": [
      "- NEW\n",
      "La ENFICC 99% es: 3.5600\n"
     ]
    }
   ],
   "source": [
    "# Calcular ENFICC\n",
    "print('- NEW')\n",
    "med4_enficc_NEW = enficc(med4_NEW)"
   ]
  },
  {
   "cell_type": "markdown",
   "metadata": {},
   "source": [
    "[Índice](#index)"
   ]
  },
  {
   "cell_type": "markdown",
   "metadata": {},
   "source": [
    "#### Medellín - Análisis <a class=\"anchor\" id=\"Med-A\"></a>\n",
    "\n",
    "| | |\n",
    "|:----------------------------------------------------:|:------------------------------------------------------:|\n",
    "|![Medellin-2013_1.png](files/output/Medellin-2013_1.png)|![Medellin-2013_3.png](files/output/Medellin-2013_3.png)|\n",
    "|Figura 10A. Gráfica del promedio díario mensual de la energía para Medellín utilizando el mes de enero del año 2013 para la corección.|Figura 10B. Gráfica del promedio díario mensual de la energía para Medellín utilizando los tres primeros meses del año 2013 para la corección.|\n",
    "|![Medellin-2013_6.png](files/output/Medellin-2013_6.png)|![Medellin-2013_12.png](files/output/Medellin-2013_12.png)|\n",
    "|Figura 10C. Gráfica del promedio díario mensual de la energía para Medellín utilizando los seis primeros meses del año 2013 para la corección.|Figura 10D. Gráfica del promedio díario mensual de la energía para Medellín utilizando todo el año 2013 para la corección.|\n",
    "\n",
    "\n",
    "\n",
    "<h5><center>Tabla 13. Errores para Medellín</center></h5>\n",
    "\n",
    "|Serie|RMSEn|MBE|P-Value|\n",
    "|:---:|:---:|:-:|:-----:|\n",
    "|IDEAM|0.0|0.0|1|\n",
    "|NREL|11.711%|19.721%|3.14e-26|\n",
    "|NEW-2013_1|9.913%|-1.407%|0.367|\n",
    "|NEW-2013_3|10.029%|0.712%|0.564|\n",
    "|NEW-2013_6|9.973%|-0.993%|0.674|\n",
    "|NEW-2013_12|9.984%|-0.600%|0.782|\n",
    "\n",
    "<h5><center>Tabla 14. ENFICC 99% para Medellín</center></h5>\n",
    "\n",
    "|Serie|ENFICC 99%|Error %|\n",
    "|:---:|:--------:|:-----:|\n",
    "|IDEAM|3.5352|0|\n",
    "|NREL|4.3113|21.95%|\n",
    "|NEW-2013_1|3.5430|0.22%|\n",
    "|NEW-2013_3|3.6081|2.06%|\n",
    "|NEW-2013_6|3.5453|0.29%|\n",
    "|NEW-2013_12|3.5600|0.70%|\n"
   ]
  },
  {
   "cell_type": "markdown",
   "metadata": {},
   "source": [
    "[Índice](#index)"
   ]
  },
  {
   "cell_type": "markdown",
   "metadata": {},
   "source": [
    "### Carmen de Bolivar <a class=\"anchor\" id=\"Carmen\"></a>"
   ]
  },
  {
   "cell_type": "code",
   "execution_count": 133,
   "metadata": {},
   "outputs": [
    {
     "name": "stdout",
     "output_type": "stream",
     "text": [
      "Primer año:  2006\n",
      "Último año:  2015\n"
     ]
    }
   ],
   "source": [
    "# Importar datos CSV\n",
    "car_OBJ, car_REF, car_EXTRA, car_min_agno, car_agnos = extract_data('Uribia')\n",
    "\n",
    "print(\"Primer año: \", car_min_agno)\n",
    "print(\"Último año: \", car_min_agno+car_agnos-1)"
   ]
  },
  {
   "cell_type": "markdown",
   "metadata": {},
   "source": [
    "#### Carmen de Bolivar - 1 año <a class=\"anchor\" id=\"Carmen1\"></a>"
   ]
  },
  {
   "cell_type": "code",
   "execution_count": 134,
   "metadata": {
    "collapsed": true
   },
   "outputs": [],
   "source": [
    "# Aplicar corrección MCP\n",
    "car1_COR = mcp(car_OBJ,car_REF,car_EXTRA,2013)"
   ]
  },
  {
   "cell_type": "code",
   "execution_count": 135,
   "metadata": {
    "collapsed": true
   },
   "outputs": [],
   "source": [
    "# Preparar datos\n",
    "car1_IDEAM, car1_NREL, car1_NEW = prepare_data(car_OBJ,car_REF,car1_COR,car_min_agno,car_agnos)"
   ]
  },
  {
   "cell_type": "code",
   "execution_count": 136,
   "metadata": {
    "collapsed": true
   },
   "outputs": [],
   "source": [
    "# Cortar serie corregida para errores\n",
    "car1_COR_cut = cut_series(car1_COR,car_min_agno,car_agnos)\n",
    "car1_NREL_cut = cut_series(car_REF,car_min_agno,car_agnos)"
   ]
  },
  {
   "cell_type": "code",
   "execution_count": 137,
   "metadata": {},
   "outputs": [
    {
     "data": {
      "image/png": "[encoded data removed]",
      "text/plain": [
       "<matplotlib.figure.Figure at 0x1c27ba4b438>"
      ]
     },
     "metadata": {},
     "output_type": "display_data"
    }
   ],
   "source": [
    "# Graficar datos\n",
    "graph_data('CarmenDeBolivar-2013',car1_IDEAM,car1_NREL,car1_NEW)"
   ]
  },
  {
   "cell_type": "code",
   "execution_count": 138,
   "metadata": {},
   "outputs": [
    {
     "name": "stdout",
     "output_type": "stream",
     "text": [
      "Errores NREL\n",
      "El error RMSEn es: 11.569%\n",
      "El error MBE es: 8.170%\n",
      "El P-Value es: 1.0107810745596494e-06\n",
      "\n",
      "\n",
      "Errores NEW\n",
      "El error RMSEn es: 11.194%\n",
      "El error MBE es: 2.123%\n",
      "El P-Value es: 0.044587233016059054\n"
     ]
    }
   ],
   "source": [
    "# Calcular Errores - NREL\n",
    "print('Errores NREL')\n",
    "car1_rmsen_nrel = rmsen(car_OBJ,car1_NREL_cut)\n",
    "car1_mbe_nrel = mbe(car_OBJ,car1_NREL_cut)\n",
    "car1_stat_nrel, car1_p_nrel = ksi_err(car1_IDEAM,car1_NREL)\n",
    "\n",
    "print('\\n')\n",
    "\n",
    "# Calcular Errores - NEW\n",
    "print('Errores NEW')\n",
    "car1_rmsen_new = rmsen(car_OBJ,car1_COR_cut)\n",
    "car1_mbe_new = mbe(car_OBJ,car1_COR_cut)\n",
    "car1_stat_new, car1_p_new = ksi_err(car1_IDEAM,car1_NEW)"
   ]
  },
  {
   "cell_type": "code",
   "execution_count": 139,
   "metadata": {},
   "outputs": [
    {
     "name": "stdout",
     "output_type": "stream",
     "text": [
      "- IDEAM\n",
      "La ENFICC 99% es: 4.2819\n",
      "- NREL\n",
      "La ENFICC 99% es: 4.6213\n",
      "- NEW\n",
      "La ENFICC 99% es: 4.3404\n"
     ]
    }
   ],
   "source": [
    "# Calcular ENFICC\n",
    "print('- IDEAM')\n",
    "car1_enficc_IDEAM = enficc(car1_IDEAM)\n",
    "print('- NREL')\n",
    "car1_enficc_NREL = enficc(car1_NREL)\n",
    "print('- NEW')\n",
    "car1_enficc_NEW = enficc(car1_NEW)"
   ]
  },
  {
   "cell_type": "markdown",
   "metadata": {},
   "source": [
    "#### Carmen de Bolivar - 10 años <a class=\"anchor\" id=\"Carmen2\"></a>"
   ]
  },
  {
   "cell_type": "code",
   "execution_count": 140,
   "metadata": {
    "collapsed": true
   },
   "outputs": [],
   "source": [
    "# Aplicar corrección MCP\n",
    "car2_COR = mcp(car_OBJ,car_REF,car_EXTRA,2006,10)"
   ]
  },
  {
   "cell_type": "code",
   "execution_count": 141,
   "metadata": {
    "collapsed": true
   },
   "outputs": [],
   "source": [
    "# Preparar datos\n",
    "car2_IDEAM, car2_NREL, car2_NEW = prepare_data(car_OBJ,car_REF,car2_COR,car_min_agno,car_agnos)"
   ]
  },
  {
   "cell_type": "code",
   "execution_count": 142,
   "metadata": {
    "collapsed": true
   },
   "outputs": [],
   "source": [
    "# Cortar serie corregida para errores\n",
    "car2_COR_cut = cut_series(car2_COR,car_min_agno,car_agnos)\n",
    "car2_NREL_cut = cut_series(car_REF,car_min_agno,car_agnos)"
   ]
  },
  {
   "cell_type": "code",
   "execution_count": 143,
   "metadata": {},
   "outputs": [
    {
     "data": {
      "image/png": "[encoded data removed]",
      "text/plain": [
       "<matplotlib.figure.Figure at 0x1c2006385c0>"
      ]
     },
     "metadata": {},
     "output_type": "display_data"
    }
   ],
   "source": [
    "# Graficar datos\n",
    "graph_data('CarmenDeBolivar-2006_10',car2_IDEAM,car2_NREL,car2_NEW)"
   ]
  },
  {
   "cell_type": "code",
   "execution_count": 144,
   "metadata": {},
   "outputs": [
    {
     "name": "stdout",
     "output_type": "stream",
     "text": [
      "Errores NEW\n",
      "El error RMSEn es: 11.178%\n",
      "El error MBE es: 1.818%\n",
      "El P-Value es: 0.08888451740883632\n"
     ]
    }
   ],
   "source": [
    "# Calcular Errores - NEW\n",
    "print('Errores NEW')\n",
    "car2_rmsen_new = rmsen(car_OBJ,car2_COR_cut)\n",
    "car2_mbe_new = mbe(car_OBJ,car2_COR_cut)\n",
    "car2_stat_new, car2_p_new = ksi_err(car2_IDEAM,car2_NEW)"
   ]
  },
  {
   "cell_type": "code",
   "execution_count": 145,
   "metadata": {},
   "outputs": [
    {
     "name": "stdout",
     "output_type": "stream",
     "text": [
      "- NEW\n",
      "La ENFICC 99% es: 4.3273\n"
     ]
    }
   ],
   "source": [
    "# Calcular ENFICC\n",
    "print('- NEW')\n",
    "car2_enficc_NEW = enficc(car2_NEW)"
   ]
  },
  {
   "cell_type": "markdown",
   "metadata": {},
   "source": [
    "#### Carmen de Bolivar - Análisis <a class=\"anchor\" id=\"Carmen-A\"></a>\n",
    "\n",
    "|![CarmenDeBolivar-2013.png](files/output/CarmenDeBolivar-2013.png)|![CarmenDeBolivar-2006_10.png](files/output/CarmenDeBolivar-2006_10.png)|\n",
    "|:-----------------------------------------------:|:--------------------------------------------------:|\n",
    "|Figura 11A. Gráfica del promedio díario mensual de la energía para Carmen de Bolivar utilizando el año 2013 para la corrección. |Figura 11B. Gráfica del promedio díario mensual de la energía para Carmen de Bolivar utilizando desde el año 2006 hasta el 2015 para la corección.| \n",
    "\n",
    "<h5><center>Tabla 15. Errores para Carmen de Bolivar</center></h5>\n",
    "\n",
    "|Serie|RMSEn|MBE|P-Value|\n",
    "|:---:|:---:|:-:|:-----:|\n",
    "|IDEAM|0.0|0.0|1|\n",
    "|NREL|11.569%|8.170%|1.01e-06|\n",
    "|NEW-2013|11.194%|2.123%|0.0446|\n",
    "|NEW-2006_10|11.178%|1.818%|0.0889|\n",
    "\n",
    "<h5><center>Tabla 16. ENFICC 99% para Carmen de Bolivar</center></h5>\n",
    "\n",
    "|Serie|ENFICC 99%|Error %|\n",
    "|:---:|:--------:|:-----:|\n",
    "|IDEAM|4.2819|0|\n",
    "|NREL|4.6213|7.93%|\n",
    "|NEW-2013|4.3404|1.37%|\n",
    "|NEW-2011|4.3273|1.06%|\n"
   ]
  },
  {
   "cell_type": "markdown",
   "metadata": {},
   "source": [
    "[Índice](#index)"
   ]
  },
  {
   "cell_type": "markdown",
   "metadata": {},
   "source": [
    "## Referencias <a class=\"anchor\" id=\"Ref\"></a>\n",
    "\n",
    "|  |  |\n",
    "|:-|:-|\n",
    "|[1]|Golden Gate Wather Services, \"http://ggweather.com,\" January 2018. [Online]. Available: http://ggweather.com/enso/oni.htm.|\n",
    "|[2]|Universidad de los Andes - Facultad de Ingeniería, \"Protocolo: verificación y medición de series históricas para cálculo de ENFICC en plantas solares fotovoltaicas,\" Universidad de los Andes / Consejo Nacional de Operación, Bogotá, 2018.|\n",
    "|[3]|El Tiempo, \"eltiempo.com,\" August 2015. [Online]. Available: http://www.eltiempo.com/archivo/documento/CMS-16305958.|"
   ]
  },
  {
   "cell_type": "markdown",
   "metadata": {},
   "source": [
    "[Índice](#index)"
   ]
  }
 ],
 "metadata": {
  "kernelspec": {
   "display_name": "Python 3",
   "language": "python",
   "name": "python3"
  },
  "language_info": {
   "codemirror_mode": {
    "name": "ipython",
    "version": 3
   },
   "file_extension": ".py",
   "mimetype": "text/x-python",
   "name": "python",
   "nbconvert_exporter": "python",
   "pygments_lexer": "ipython3",
   "version": "3.6.3"
  }
 },
 "nbformat": 4,
 "nbformat_minor": 2
}
