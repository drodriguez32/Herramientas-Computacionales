{
 "cells": [
  {
   "cell_type": "code",
   "execution_count": 1,
   "metadata": {},
   "outputs": [
    {
     "name": "stdout",
     "output_type": "stream",
     "text": [
      "Populating the interactive namespace from numpy and matplotlib\n"
     ]
    }
   ],
   "source": [
    "\n",
    "import os\n",
    "import pandas as pd\n",
    "\n",
    "#%matplotlib notebook\n",
    "#import matplotlib.pyplot as plt\n",
    "\n",
    "%pylab inline\n",
    "\n",
    "import statistics as st\n",
    "\n",
    "import numpy as np\n",
    "\n",
    "from scipy import stats\n"
   ]
  },
  {
   "cell_type": "code",
   "execution_count": 2,
   "metadata": {
    "collapsed": true
   },
   "outputs": [],
   "source": [
    "base_dir = os.path.join('.','data')\n",
    "output_dir = os.path.join('.','output')\n",
    "\n",
    "ciudad = 'Valledupar'\n",
    "fuente_OBJ = 'IDEAM'\n",
    "fuente_REF = 'NREL'\n",
    "\n",
    "serie_csv_OBJ = os.path.join(base_dir,ciudad,fuente_OBJ+'.csv')\n",
    "serie_pd_OBJ = pd.read_csv(serie_csv_OBJ, sep = ';', encoding = 'latin-1')\n",
    "\n",
    "serie_csv_REF = os.path.join(base_dir,ciudad,fuente_REF+'.csv')\n",
    "serie_pd_REF = pd.read_csv(serie_csv_REF, sep = ';', encoding = 'latin-1')\n",
    "\n",
    "# Crear una serie independiente para editar después\n",
    "serie_csv_COR = os.path.join(base_dir,ciudad,fuente_REF+'.csv')\n",
    "serie_pd_COR = pd.read_csv(serie_csv_COR, sep = ';', encoding = 'latin-1')"
   ]
  },
  {
   "cell_type": "code",
   "execution_count": 3,
   "metadata": {
    "collapsed": true
   },
   "outputs": [],
   "source": [
    "\n",
    "# Obtener el año mínimo que coincide entre las series & obtener el número de años de la serie más corta\n",
    "agno_min = 0\n",
    "min_agnos = 0\n",
    "\n",
    "if np.min(serie_pd_OBJ['AÑO']) >= np.min(serie_pd_REF['AÑO']):\n",
    "    agno_min = np.min(serie_pd_OBJ['AÑO'])\n",
    "else:\n",
    "    agno_min = np.min(serie_pd_REF['AÑO'])\n",
    "\n",
    "if np.max(serie_pd_OBJ['AÑO']) <= np.max(serie_pd_REF['AÑO']):\n",
    "    min_agnos = np.max(serie_pd_OBJ['AÑO']) - agno_min +1\n",
    "else:\n",
    "    min_agnos = np.max(serie_pd_REF['AÑO']) - agno_min +1"
   ]
  },
  {
   "cell_type": "code",
   "execution_count": 4,
   "metadata": {
    "collapsed": true
   },
   "outputs": [],
   "source": [
    "# Param: serie OBJ, serie REF, serie COR, año inicial deseado, número de años, mes inicial deseado, número de meses\n",
    "def cut_series(serie_horaria,agno_select=0,num_agnos=1,mes_select=1,num_meses=12):\n",
    "    \n",
    "    if (agno_select == 0):\n",
    "        agno_select = np.min(serie_horaria['AÑO'])\n",
    "        \n",
    "    agno_final = agno_select + (num_agnos-1)\n",
    "    mes_final = mes_select + (num_meses-1)\n",
    "\n",
    "    \n",
    "    serie_cortada = serie_horaria[(serie_horaria['AÑO'] >= agno_select) &\n",
    "                                  (serie_horaria['AÑO'] <= agno_final) &\n",
    "                                  (serie_horaria['MES'] >= mes_select) &\n",
    "                                  (serie_horaria['MES'] <= mes_final)\n",
    "                                 ]\n",
    "    \n",
    "    print(\"El año inicial es: {}\".format(agno_select))\n",
    "    print(\"El año final es: {}\".format(agno_final))\n",
    "    print(\"El mes inicial es: {}\".format(mes_select))\n",
    "    print(\"El mes final es: {}\".format(mes_final))\n",
    "    \n",
    "    return serie_cortada"
   ]
  },
  {
   "cell_type": "code",
   "execution_count": 5,
   "metadata": {
    "collapsed": true
   },
   "outputs": [],
   "source": [
    "# Param: serie OBJ, serie REF, serie COR, año inicial deseado, número de años, mes inicial deseado, número de meses\n",
    "def mcp(obj,ref,cor,agno_select=0,num_agnos=1,mes_select=1,num_meses=12):\n",
    "    \n",
    "    # Cuando no se ponen los parámetros opcionales, el caso por default es el primer año de las series que coincida\n",
    "    if agno_select == 0:\n",
    "        if np.min(obj['AÑO']) >= np.min(ref['AÑO']):\n",
    "            agno_select = np.min(obj['AÑO'])\n",
    "        else:\n",
    "            agno_select = np.min(ref['AÑO'])\n",
    "    \n",
    "    # Cortar ambas series al periodo deseado\n",
    "    obj_cort = cut_series(obj,agno_select,num_agnos,mes_select,num_meses)\n",
    "    ref_cort = cut_series(ref,agno_select,num_agnos,mes_select,num_meses)\n",
    "    \n",
    "    # Obtener el GHI para ambas series cortadas y la serie REF completa\n",
    "    ghi_obj = obj_cort[list(obj_cort)[-1]]\n",
    "    ghi_ref = ref_cort[list(ref_cort)[-1]]\n",
    "    ghi_ref_tot = ref[list(ref)[-1]]\n",
    "    \n",
    "    # Obtener medias y desviación estándar\n",
    "    sigma_obj = st.stdev(ghi_obj)\n",
    "    sigma_ref = st.stdev(ghi_ref)\n",
    "    mu_obj = st.mean(ghi_obj)\n",
    "    mu_ref = st.mean(ghi_ref)\n",
    "    \n",
    "    # Aplicar función\n",
    "    corregida = (mu_obj-((sigma_obj/sigma_ref)*mu_ref))+((sigma_obj/sigma_ref)*ghi_ref_tot)\n",
    "    \n",
    "    # Volver todos los datos negativos cero\n",
    "    for i in range(len(corregida)):\n",
    "        if corregida[i] < 0:\n",
    "            corregida[i] = 0\n",
    "    \n",
    "    # Cambiar el nombre de la columna\n",
    "    cor.rename(columns={list(cor)[-1] : 'GHI MCP'}, inplace=True) \n",
    "    \n",
    "    # Meter los datos corregidos a la lista\n",
    "    cor[list(cor)[-1]] = corregida\n",
    "    \n",
    "    return cor"
   ]
  },
  {
   "cell_type": "code",
   "execution_count": 15,
   "metadata": {},
   "outputs": [
    {
     "name": "stdout",
     "output_type": "stream",
     "text": [
      "El año inicial es: 2010\n",
      "El año final es: 2010\n",
      "El mes inicial es: 1\n",
      "El mes final es: 12\n",
      "El año inicial es: 2010\n",
      "El año final es: 2010\n",
      "El mes inicial es: 1\n",
      "El mes final es: 12\n"
     ]
    }
   ],
   "source": [
    "\n",
    "obj_cor = mcp(serie_pd_OBJ,serie_pd_REF,serie_pd_COR,2010)"
   ]
  },
  {
   "cell_type": "code",
   "execution_count": 7,
   "metadata": {
    "collapsed": true
   },
   "outputs": [],
   "source": [
    "# Calcular el promedio diario del GHI para el mes\n",
    "def ghi_diario_mensual(serie_horaria):\n",
    "    agnos = sorted(serie_horaria['AÑO'].unique())\n",
    "    ghi_df = pd.DataFrame(columns=[\"AÑO\", \"MES\", \"DIAS\", \"GHIdiario\"])\n",
    "    for agno in agnos:\n",
    "        for mes in range(1,13):\n",
    "            nombre_energia = list(serie_horaria)[-1]\n",
    "            dias = sorted(serie_horaria[(serie_horaria['AÑO'] == agno) &\n",
    "                        (serie_horaria['MES'] == mes)][\"DIA\"].unique())\n",
    "            ghi_dia = serie_horaria.loc[((serie_horaria[\"AÑO\"] == agno)\n",
    "                            & (serie_horaria[\"MES\"] == mes)),\n",
    "                                        nombre_energia].sum()/(1000*dias[-1])\n",
    "            ghi_dict = {\"AÑO\":agno, \"MES\":mes, \"DIAS\":dias[-1],\n",
    "                        \"GHIdiario\":ghi_dia}\n",
    "            ghi_df = ghi_df.append(ghi_dict, ignore_index=True)\n",
    "    return ghi_df\n",
    "\n",
    "# Calcula el GHI promedio para cada dia\n",
    "def ghi_diario(serie_horaria):\n",
    "    agnos = sorted(serie_horaria['AÑO'].unique())\n",
    "    ghi_df = pd.DataFrame(columns=[\"AÑO\", \"MES\", \"DIA\", \"GHI_Diario\"])\n",
    "    for agno in agnos:\n",
    "        for mes in range(1,13):\n",
    "            nombre_energia = list(serie_horaria)[-1]\n",
    "            dias = sorted(serie_horaria[(serie_horaria['AÑO'] == agno) &\n",
    "                        (serie_horaria['MES'] == mes)][\"DIA\"].unique())\n",
    "            \n",
    "            for dia in dias:\n",
    "                ghi_diario = serie_horaria.loc[((serie_horaria[\"AÑO\"] == agno) & \n",
    "                                                (serie_horaria[\"MES\"] == mes) & \n",
    "                                                (serie_horaria[\"DIA\"] == dia)),nombre_energia].sum()/(1000*24)\n",
    "                ghi_dict = {\"AÑO\":agno, \"MES\":mes, \"DIA\":dia,\n",
    "                            \"GHI_Diario\":ghi_diario}\n",
    "                ghi_df = ghi_df.append(ghi_dict, ignore_index=True)\n",
    "    return ghi_df"
   ]
  },
  {
   "cell_type": "code",
   "execution_count": 16,
   "metadata": {},
   "outputs": [
    {
     "name": "stdout",
     "output_type": "stream",
     "text": [
      "El año inicial es: 2006\n",
      "El año final es: 2015\n",
      "El mes inicial es: 1\n",
      "El mes final es: 12\n",
      "El año inicial es: 2006\n",
      "El año final es: 2015\n",
      "El mes inicial es: 1\n",
      "El mes final es: 12\n"
     ]
    }
   ],
   "source": [
    "# IDEAM\n",
    "ghi_dia_mes_OBJ = ghi_diario_mensual(serie_pd_OBJ)\n",
    "datos_IDEAM = sorted(ghi_dia_mes_OBJ[\"GHIdiario\"])\n",
    "\n",
    "# NREL\n",
    "nrel_cort = cut_series(serie_pd_REF,agno_min,min_agnos)\n",
    "ghi_dia_mes_REF = ghi_diario_mensual(nrel_cort)\n",
    "datos_NREL = sorted(ghi_dia_mes_REF[\"GHIdiario\"])\n",
    "\n",
    "# CORREGIDO\n",
    "nueva_cort = cut_series(obj_cor,agno_min,min_agnos)\n",
    "ghi_dia_mes_NEW = ghi_diario_mensual(nueva_cort)\n",
    "datos_NEW = sorted(ghi_dia_mes_NEW[\"GHIdiario\"])"
   ]
  },
  {
   "cell_type": "code",
   "execution_count": 17,
   "metadata": {},
   "outputs": [
    {
     "data": {
      "text/plain": [
       "<matplotlib.legend.Legend at 0x1d95b433940>"
      ]
     },
     "execution_count": 17,
     "metadata": {},
     "output_type": "execute_result"
    },
    {
     "data": {
      "image/png": "[encoded data removed]",
      "text/plain": [
       "<matplotlib.figure.Figure at 0x1d95a4f9668>"
      ]
     },
     "metadata": {},
     "output_type": "display_data"
    }
   ],
   "source": [
    "\n",
    "pylab.xlabel(\"Datos\")\n",
    "pylab.ylabel(\"Energía/Energía Base IDEAM\")\n",
    "pylab.title(ciudad)\n",
    "numdatos = range(len(datos_IDEAM))\n",
    "pylab.plot(numdatos,datos_IDEAM/datos_IDEAM[0],'-k', label='IDEAM')\n",
    "pylab.plot(numdatos,datos_NREL/datos_IDEAM[0],'-b', label='NREL')\n",
    "pylab.plot(numdatos,datos_NEW/datos_IDEAM[0],'-r', label='NEW')\n",
    "pylab.legend(loc='upper left')\n",
    "#pylab.savefig(os.path.join(output_dir,ciudad+'.png'), dpi=600)"
   ]
  },
  {
   "cell_type": "code",
   "execution_count": 10,
   "metadata": {
    "collapsed": true
   },
   "outputs": [],
   "source": [
    "# Param: serie OBJ, serie corregida/nueva cortada\n",
    "def rmsen(obj,cor):\n",
    "    \n",
    "    if(type(obj) != list):\n",
    "    \n",
    "        nom_ener_obj = list(obj)[-1]\n",
    "        nom_ener_cor = list(cor)[-1]\n",
    "\n",
    "        n = len(cor)\n",
    "        resta = []\n",
    "        i_min = cor.first_valid_index() \n",
    "\n",
    "        for i in range(n):\n",
    "            x_obj = obj[nom_ener_obj][i]\n",
    "            x_cor = cor[nom_ener_cor][i+i_min]\n",
    "\n",
    "            x = (x_obj - x_cor)**2\n",
    "\n",
    "            resta.append(x)\n",
    "\n",
    "        error = np.sqrt((1/n)*sum(resta))/(np.max(obj[nom_ener_obj]) - np.min(obj[nom_ener_obj]))\n",
    "        \n",
    "    else:\n",
    "\n",
    "        n = len(cor)\n",
    "        resta = [] \n",
    "\n",
    "        for i in range(n):\n",
    "            x_obj = obj[i]\n",
    "            x_cor = cor[i]\n",
    "\n",
    "            x = (x_obj - x_cor)**2\n",
    "\n",
    "            resta.append(x)\n",
    "\n",
    "        error = np.sqrt((1/n)*sum(resta))/(np.max(obj) - np.min(obj))\n",
    "\n",
    "    return error"
   ]
  },
  {
   "cell_type": "code",
   "execution_count": 18,
   "metadata": {},
   "outputs": [
    {
     "data": {
      "text/plain": [
       "0.082867279831758497"
      ]
     },
     "execution_count": 18,
     "metadata": {},
     "output_type": "execute_result"
    }
   ],
   "source": [
    "\n",
    "rmsen(serie_pd_OBJ,nueva_cort)"
   ]
  },
  {
   "cell_type": "code",
   "execution_count": 12,
   "metadata": {
    "collapsed": true
   },
   "outputs": [],
   "source": [
    "# Param: serie OBJ, serie corregida/nueva cortada\n",
    "def mbe(obj,cor):\n",
    "    \n",
    "    if(type(obj) != list):\n",
    "    \n",
    "        nom_ener_obj = list(obj)[-1]\n",
    "        nom_ener_cor = list(cor)[-1]\n",
    "\n",
    "        n = len(cor)\n",
    "        resta = []\n",
    "\n",
    "        i_min = cor.first_valid_index() \n",
    "\n",
    "        for i in range(n):\n",
    "            x_obj = obj[nom_ener_obj][i]\n",
    "            x_cor = cor[nom_ener_cor][i+i_min]\n",
    "\n",
    "            x = (x_cor - x_obj)\n",
    "\n",
    "            resta.append(x)\n",
    "\n",
    "        error = sum(resta)/sum(obj[nom_ener_obj])\n",
    "        \n",
    "    else:\n",
    "        \n",
    "        n = len(cor)\n",
    "        resta = []\n",
    "\n",
    "        for i in range(n):\n",
    "            x_obj = obj[i]\n",
    "            x_cor = cor[i]\n",
    "\n",
    "            x = (x_cor - x_obj)\n",
    "\n",
    "            resta.append(x)\n",
    "\n",
    "        error = sum(resta)/sum(obj)\n",
    "    \n",
    "    return error"
   ]
  },
  {
   "cell_type": "code",
   "execution_count": 19,
   "metadata": {},
   "outputs": [
    {
     "data": {
      "text/plain": [
       "-0.012638217174537024"
      ]
     },
     "execution_count": 19,
     "metadata": {},
     "output_type": "execute_result"
    }
   ],
   "source": [
    "\n",
    "mbe(serie_pd_OBJ,nueva_cort)"
   ]
  },
  {
   "cell_type": "code",
   "execution_count": 14,
   "metadata": {},
   "outputs": [
    {
     "data": {
      "text/plain": [
       "Ks_2sampResult(statistic=0.17500000000000002, pvalue=0.044587233016059116)"
      ]
     },
     "execution_count": 14,
     "metadata": {},
     "output_type": "execute_result"
    }
   ],
   "source": [
    "stats.ks_2samp(datos_IDEAM,datos_NEW)"
   ]
  },
  {
   "cell_type": "code",
   "execution_count": null,
   "metadata": {
    "collapsed": true
   },
   "outputs": [],
   "source": []
  }
 ],
 "metadata": {
  "kernelspec": {
   "display_name": "Python 3",
   "language": "python",
   "name": "python3"
  },
  "language_info": {
   "codemirror_mode": {
    "name": "ipython",
    "version": 3
   },
   "file_extension": ".py",
   "mimetype": "text/x-python",
   "name": "python",
   "nbconvert_exporter": "python",
   "pygments_lexer": "ipython3",
   "version": "3.6.3"
  }
 },
 "nbformat": 4,
 "nbformat_minor": 2
}
