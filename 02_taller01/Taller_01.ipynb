{
 "cells": [
  {
   "cell_type": "code",
   "execution_count": 1,
   "metadata": {},
   "outputs": [
    {
     "name": "stdout",
     "output_type": "stream",
     "text": [
      "Populating the interactive namespace from numpy and matplotlib\n"
     ]
    }
   ],
   "source": [
    "import os\n",
    "import pandas as pd\n",
    "\n",
    "#%matplotlib notebook\n",
    "#import matplotlib.pyplot as plt\n",
    "\n",
    "%pylab inline\n",
    "\n",
    "import statistics as st\n",
    "\n",
    "import numpy as np\n",
    "\n",
    "from scipy import stats"
   ]
  },
  {
   "cell_type": "markdown",
   "metadata": {},
   "source": [
    "### Importar series OBJ y REF"
   ]
  },
  {
   "cell_type": "code",
   "execution_count": 2,
   "metadata": {
    "collapsed": true
   },
   "outputs": [],
   "source": [
    "def extract_data(ciudad):\n",
    "\n",
    "    base_dir = os.path.join('.','data')\n",
    "    output_dir = os.path.join('.','output')\n",
    "\n",
    "    fuente_OBJ = 'IDEAM'\n",
    "    fuente_REF = 'NREL'\n",
    "\n",
    "    serie_csv_OBJ = os.path.join(base_dir,ciudad,fuente_OBJ+'.csv')\n",
    "    serie_pd_OBJ = pd.read_csv(serie_csv_OBJ, sep = ';', encoding = 'latin-1')\n",
    "\n",
    "    serie_csv_REF = os.path.join(base_dir,ciudad,fuente_REF+'.csv')\n",
    "    serie_pd_REF = pd.read_csv(serie_csv_REF, sep = ';', encoding = 'latin-1')\n",
    "\n",
    "    # Crear una serie independiente para editar después\n",
    "    serie_csv_COR = os.path.join(base_dir,ciudad,fuente_REF+'.csv')\n",
    "    serie_pd_COR = pd.read_csv(serie_csv_COR, sep = ';', encoding = 'latin-1')\n",
    "    \n",
    "    # Obtener el año mínimo que coincide entre las series & obtener el número de años de la serie más corta\n",
    "    agno_min = 0\n",
    "    min_agnos = 0\n",
    "\n",
    "    if np.min(serie_pd_OBJ['AÑO']) >= np.min(serie_pd_REF['AÑO']):\n",
    "        agno_min = np.min(serie_pd_OBJ['AÑO'])\n",
    "    else:\n",
    "        agno_min = np.min(serie_pd_REF['AÑO'])\n",
    "\n",
    "    if np.max(serie_pd_OBJ['AÑO']) <= np.max(serie_pd_REF['AÑO']):\n",
    "        min_agnos = np.max(serie_pd_OBJ['AÑO']) - agno_min +1\n",
    "    else:\n",
    "        min_agnos = np.max(serie_pd_REF['AÑO']) - agno_min +1\n",
    "    \n",
    "    return serie_pd_OBJ, serie_pd_REF, serie_pd_COR, agno_min, min_agnos"
   ]
  },
  {
   "cell_type": "markdown",
   "metadata": {},
   "source": [
    "### Función para cortar series"
   ]
  },
  {
   "cell_type": "code",
   "execution_count": 3,
   "metadata": {
    "collapsed": true
   },
   "outputs": [],
   "source": [
    "# Param: serie OBJ, serie REF, serie COR, año inicial deseado, número de años, mes inicial deseado, número de meses\n",
    "def cut_series(serie_horaria,agno_select=0,num_agnos=1,mes_select=1,num_meses=12):\n",
    "    \n",
    "    if (agno_select == 0):\n",
    "        agno_select = np.min(serie_horaria['AÑO'])\n",
    "        \n",
    "    agno_final = agno_select + (num_agnos-1)\n",
    "    mes_final = mes_select + (num_meses-1)\n",
    "\n",
    "    \n",
    "    serie_cortada = serie_horaria[(serie_horaria['AÑO'] >= agno_select) &\n",
    "                                  (serie_horaria['AÑO'] <= agno_final) &\n",
    "                                  (serie_horaria['MES'] >= mes_select) &\n",
    "                                  (serie_horaria['MES'] <= mes_final)\n",
    "                                 ]\n",
    "    \n",
    "    #print(\"El año inicial es: {}\".format(agno_select))\n",
    "    #print(\"El año final es: {}\".format(agno_final))\n",
    "    #print(\"El mes inicial es: {}\".format(mes_select))\n",
    "    #print(\"El mes final es: {}\".format(mes_final))\n",
    "    \n",
    "    return serie_cortada"
   ]
  },
  {
   "cell_type": "markdown",
   "metadata": {},
   "source": [
    "### Función para aplicar método MCP"
   ]
  },
  {
   "cell_type": "code",
   "execution_count": 4,
   "metadata": {
    "collapsed": true,
    "scrolled": true
   },
   "outputs": [],
   "source": [
    "# Param: serie OBJ, serie REF, serie COR, año inicial deseado, número de años, mes inicial deseado, número de meses\n",
    "def mcp(obj,ref,cor,agno_select=0,num_agnos=1,mes_select=1,num_meses=12):\n",
    "    \n",
    "    # Cuando no se ponen los parámetros opcionales, el caso por default es el primer año de las series que coincida\n",
    "    if agno_select == 0:\n",
    "        if np.min(obj['AÑO']) >= np.min(ref['AÑO']):\n",
    "            agno_select = np.min(obj['AÑO'])\n",
    "        else:\n",
    "            agno_select = np.min(ref['AÑO'])\n",
    "    \n",
    "    # Cortar ambas series al periodo deseado\n",
    "    obj_cort = cut_series(obj,agno_select,num_agnos,mes_select,num_meses)\n",
    "    ref_cort = cut_series(ref,agno_select,num_agnos,mes_select,num_meses)\n",
    "    \n",
    "    # Obtener el GHI para ambas series cortadas y la serie REF completa\n",
    "    ghi_obj = obj_cort[list(obj_cort)[-1]]\n",
    "    ghi_ref = ref_cort[list(ref_cort)[-1]]\n",
    "    ghi_ref_tot = ref[list(ref)[-1]]\n",
    "    \n",
    "    # Obtener medias y desviación estándar\n",
    "    sigma_obj = st.stdev(ghi_obj)\n",
    "    sigma_ref = st.stdev(ghi_ref)\n",
    "    mu_obj = st.mean(ghi_obj)\n",
    "    mu_ref = st.mean(ghi_ref)\n",
    "    \n",
    "    # Aplicar función\n",
    "    corregida = (mu_obj-((sigma_obj/sigma_ref)*mu_ref))+((sigma_obj/sigma_ref)*ghi_ref_tot)\n",
    "    \n",
    "    # Volver todos los datos negativos cero\n",
    "    for i in range(len(corregida)):\n",
    "        if corregida[i] < 0:\n",
    "            corregida[i] = 0\n",
    "    \n",
    "    # Cambiar el nombre de la columna\n",
    "    cor.rename(columns={list(cor)[-1] : 'GHI MCP'}, inplace=True) \n",
    "    \n",
    "    # Meter los datos corregidos a la lista\n",
    "    cor[list(cor)[-1]] = corregida\n",
    "    \n",
    "    return cor"
   ]
  },
  {
   "cell_type": "markdown",
   "metadata": {},
   "source": [
    "### Calcular el promedio diario mensual y el promedio diario"
   ]
  },
  {
   "cell_type": "code",
   "execution_count": 5,
   "metadata": {
    "collapsed": true
   },
   "outputs": [],
   "source": [
    "# Calcular el promedio diario del GHI para el mes\n",
    "def ghi_diario_mensual(serie_horaria):\n",
    "    agnos = sorted(serie_horaria['AÑO'].unique())\n",
    "    ghi_df = pd.DataFrame(columns=[\"AÑO\", \"MES\", \"DIAS\", \"GHIdiario\"])\n",
    "    for agno in agnos:\n",
    "        for mes in range(1,13):\n",
    "            nombre_energia = list(serie_horaria)[-1]\n",
    "            dias = sorted(serie_horaria[(serie_horaria['AÑO'] == agno) &\n",
    "                        (serie_horaria['MES'] == mes)][\"DIA\"].unique())\n",
    "            ghi_dia = serie_horaria.loc[((serie_horaria[\"AÑO\"] == agno)\n",
    "                            & (serie_horaria[\"MES\"] == mes)),\n",
    "                                        nombre_energia].sum()/(1000*dias[-1])\n",
    "            ghi_dict = {\"AÑO\":agno, \"MES\":mes, \"DIAS\":dias[-1],\n",
    "                        \"GHIdiario\":ghi_dia}\n",
    "            ghi_df = ghi_df.append(ghi_dict, ignore_index=True)\n",
    "    return ghi_df\n",
    "\n",
    "# Calcula el GHI promedio para cada dia\n",
    "def ghi_diario(serie_horaria):\n",
    "    agnos = sorted(serie_horaria['AÑO'].unique())\n",
    "    ghi_df = pd.DataFrame(columns=[\"AÑO\", \"MES\", \"DIA\", \"GHI_Diario\"])\n",
    "    for agno in agnos:\n",
    "        for mes in range(1,13):\n",
    "            nombre_energia = list(serie_horaria)[-1]\n",
    "            dias = sorted(serie_horaria[(serie_horaria['AÑO'] == agno) &\n",
    "                        (serie_horaria['MES'] == mes)][\"DIA\"].unique())\n",
    "            \n",
    "            for dia in dias:\n",
    "                ghi_diario = serie_horaria.loc[((serie_horaria[\"AÑO\"] == agno) & \n",
    "                                                (serie_horaria[\"MES\"] == mes) & \n",
    "                                                (serie_horaria[\"DIA\"] == dia)),nombre_energia].sum()/(1000*24)\n",
    "                ghi_dict = {\"AÑO\":agno, \"MES\":mes, \"DIA\":dia,\n",
    "                            \"GHI_Diario\":ghi_diario}\n",
    "                ghi_df = ghi_df.append(ghi_dict, ignore_index=True)\n",
    "    return ghi_df"
   ]
  },
  {
   "cell_type": "markdown",
   "metadata": {},
   "source": [
    "### Preparar datos para graficar"
   ]
  },
  {
   "cell_type": "code",
   "execution_count": 6,
   "metadata": {
    "collapsed": true
   },
   "outputs": [],
   "source": [
    "def prepare_data(serie_pd_OBJ, serie_pd_REF, obj_cor, agno_min, min_agnos):\n",
    "    # IDEAM\n",
    "    ghi_dia_mes_OBJ = ghi_diario_mensual(serie_pd_OBJ)\n",
    "    datos_IDEAM = sorted(ghi_dia_mes_OBJ[\"GHIdiario\"])\n",
    "\n",
    "    # NREL\n",
    "    nrel_cort = cut_series(serie_pd_REF,agno_min,min_agnos)\n",
    "    ghi_dia_mes_REF = ghi_diario_mensual(nrel_cort)\n",
    "    datos_NREL = sorted(ghi_dia_mes_REF[\"GHIdiario\"])\n",
    "\n",
    "    # CORREGIDO\n",
    "    nueva_cort = cut_series(obj_cor,agno_min,min_agnos)\n",
    "    ghi_dia_mes_NEW = ghi_diario_mensual(nueva_cort)\n",
    "    datos_NEW = sorted(ghi_dia_mes_NEW[\"GHIdiario\"])\n",
    "    \n",
    "    return datos_IDEAM, datos_NREL, datos_NEW"
   ]
  },
  {
   "cell_type": "code",
   "execution_count": 7,
   "metadata": {
    "collapsed": true
   },
   "outputs": [],
   "source": [
    "def graph_data(ciudad,datos_IDEAM,datos_NREL,datos_NEW):\n",
    "    output_dir = os.path.join('.','output')\n",
    "        \n",
    "    pylab.xlabel(\"Datos\")\n",
    "    pylab.ylabel(\"Energía/Energía Base IDEAM\")\n",
    "    pylab.title(ciudad)\n",
    "    numdatos = range(len(datos_IDEAM))\n",
    "    pylab.plot(numdatos,datos_IDEAM/datos_IDEAM[0],'-k', label='IDEAM')\n",
    "    pylab.plot(numdatos,datos_NREL/datos_IDEAM[0],'-b', label='NREL')\n",
    "    pylab.plot(numdatos,datos_NEW/datos_IDEAM[0],'-r', label='NEW')\n",
    "    pylab.legend(loc='upper left')\n",
    "    #pylab.savefig(os.path.join(output_dir,ciudad+'.png'), dpi=600)\n",
    "    \n",
    "    return None"
   ]
  },
  {
   "cell_type": "markdown",
   "metadata": {
    "collapsed": true
   },
   "source": [
    "### Error RMSEn"
   ]
  },
  {
   "cell_type": "code",
   "execution_count": 80,
   "metadata": {
    "collapsed": true
   },
   "outputs": [],
   "source": [
    "# Param: serie OBJ, serie corregida/nueva cortada\n",
    "def rmsen(obj,cor):\n",
    "    \n",
    "    if(type(obj) != list):\n",
    "    \n",
    "        nom_ener_obj = list(obj)[-1]\n",
    "        nom_ener_cor = list(cor)[-1]\n",
    "\n",
    "        n = len(cor)\n",
    "        resta = []\n",
    "        i_min = cor.first_valid_index() \n",
    "\n",
    "        for i in range(n):\n",
    "            x_obj = obj[nom_ener_obj][i]\n",
    "            x_cor = cor[nom_ener_cor][i+i_min]\n",
    "\n",
    "            x = (x_obj - x_cor)**2\n",
    "\n",
    "            resta.append(x)\n",
    "\n",
    "        error = np.sqrt((1/n)*sum(resta))/(np.max(obj[nom_ener_obj]) - np.min(obj[nom_ener_obj]))\n",
    "        \n",
    "    else:\n",
    "\n",
    "        n = len(cor)\n",
    "        resta = [] \n",
    "\n",
    "        for i in range(n):\n",
    "            x_obj = obj[i]\n",
    "            x_cor = cor[i]\n",
    "\n",
    "            x = (x_obj - x_cor)**2\n",
    "\n",
    "            resta.append(x)\n",
    "\n",
    "        error = np.sqrt((1/n)*sum(resta))/(np.max(obj) - np.min(obj))\n",
    "        \n",
    "    print(\"El error RMSEn es: {0:.3f}%\".format(error*100))\n",
    "\n",
    "    return error        "
   ]
  },
  {
   "cell_type": "markdown",
   "metadata": {},
   "source": [
    "### Error MBE"
   ]
  },
  {
   "cell_type": "code",
   "execution_count": 81,
   "metadata": {
    "collapsed": true
   },
   "outputs": [],
   "source": [
    "# Param: serie OBJ, serie corregida/nueva cortada\n",
    "def mbe(obj,cor):\n",
    "    \n",
    "    if(type(obj) != list):\n",
    "    \n",
    "        nom_ener_obj = list(obj)[-1]\n",
    "        nom_ener_cor = list(cor)[-1]\n",
    "\n",
    "        n = len(cor)\n",
    "        resta = []\n",
    "\n",
    "        i_min = cor.first_valid_index() \n",
    "\n",
    "        for i in range(n):\n",
    "            x_obj = obj[nom_ener_obj][i]\n",
    "            x_cor = cor[nom_ener_cor][i+i_min]\n",
    "\n",
    "            x = (x_cor - x_obj)\n",
    "\n",
    "            resta.append(x)\n",
    "\n",
    "        error = sum(resta)/sum(obj[nom_ener_obj])\n",
    "        \n",
    "    else:\n",
    "        \n",
    "        n = len(cor)\n",
    "        resta = []\n",
    "\n",
    "        for i in range(n):\n",
    "            x_obj = obj[i]\n",
    "            x_cor = cor[i]\n",
    "\n",
    "            x = (x_cor - x_obj)\n",
    "\n",
    "            resta.append(x)\n",
    "\n",
    "        error = sum(resta)/sum(obj)\n",
    "        \n",
    "    print(\"El error MBE es: {0:.3f}%\".format(error*100))\n",
    "    \n",
    "    return error"
   ]
  },
  {
   "cell_type": "markdown",
   "metadata": {},
   "source": [
    "### Error KSI%"
   ]
  },
  {
   "cell_type": "code",
   "execution_count": 84,
   "metadata": {},
   "outputs": [],
   "source": [
    "def ksi_err(obj,serie):\n",
    "    \n",
    "    s, p = stats.ks_2samp(obj,serie)\n",
    "    \n",
    "    print(\"El P-Value es: {}\".format(p))\n",
    "    \n",
    "    return s, p"
   ]
  },
  {
   "cell_type": "markdown",
   "metadata": {},
   "source": [
    "### ENFICC"
   ]
  },
  {
   "cell_type": "code",
   "execution_count": 85,
   "metadata": {},
   "outputs": [],
   "source": [
    "def enficc(serie):\n",
    "    \n",
    "    percentil = 0.01\n",
    "    enficc = np.percentile(serie,(1-percentil)*100)\n",
    "    print('La ENFICC 99% es: {0:.3f}'.format(enficc))\n",
    "    \n",
    "    return enficc"
   ]
  },
  {
   "cell_type": "markdown",
   "metadata": {},
   "source": [
    "-------------------------\n",
    "# Informe\n",
    "--------------------------"
   ]
  },
  {
   "cell_type": "markdown",
   "metadata": {},
   "source": [
    "A continuación se hace uso de todas las funciones anteriores para analizar la eficacia del método de corrección implementado. Se va a utilizar el año 2013 como base para todas las ubicaciones y se va a escoger otro año para comparar el efecto. \n",
    "\n",
    "Adicionalmente, se va a utilizar Valledupar como una ubicación de \"control\" para la cual se va a estudiar el impacto de usar periodos menores y mayores a un año para la corrección de los datos. \n",
    "\n",
    "#### Índice\n",
    "\n",
    "1. Barranquilla\n",
    "    1. 2013\n",
    "    2. otro\n",
    "    3. Análisis\n",
    "2. Cali\n",
    "    1. 2013\n",
    "    2. otro\n",
    "    3. Análisis\n",
    "3. Carmen de Bolivar\n",
    "    1. 2013\n",
    "    2. otro\n",
    "    3. Análisis\n",
    "4. Medellin\n",
    "    1. 2013\n",
    "    2. otro\n",
    "    3. Análisis\n",
    "5. Santa Marta\n",
    "    1. 2013\n",
    "    2. otro\n",
    "    3. Análisis\n",
    "6. Sucre\n",
    "    1. 2013\n",
    "    2. otro\n",
    "    3. Análisis\n",
    "7. Uribia\n",
    "    1. 2013\n",
    "    2. otro\n",
    "    3. Análisis\n",
    "8. Valledupar\n",
    "    1. 2013 - 1 mes\n",
    "    2. 2013 - 3 meses\n",
    "    3. 2013 - 6 meses\n",
    "    4. 2013 - 9 meses\n",
    "    5. 2013 - 1 año\n",
    "    6. 2013 - 2 años"
   ]
  },
  {
   "cell_type": "markdown",
   "metadata": {},
   "source": [
    "## Barranquilla"
   ]
  },
  {
   "cell_type": "code",
   "execution_count": 277,
   "metadata": {},
   "outputs": [
    {
     "name": "stdout",
     "output_type": "stream",
     "text": [
      "Primer año:  2010\n",
      "Último año:  2015\n"
     ]
    }
   ],
   "source": [
    "# Importar datos CSV\n",
    "bar_OBJ, bar_REF, bar_EXTRA, bar_min_agno, bar_agnos = extract_data('Barranquilla')\n",
    "\n",
    "print(\"Primer año: \", bar_min_agno)\n",
    "print(\"Último año: \", bar_min_agno+bar_agnos-1)"
   ]
  },
  {
   "cell_type": "markdown",
   "metadata": {},
   "source": [
    "### 2013"
   ]
  },
  {
   "cell_type": "code",
   "execution_count": 278,
   "metadata": {},
   "outputs": [],
   "source": [
    "# Aplicar corrección MCP\n",
    "bar1_COR = mcp(bar_OBJ,bar_REF,bar_EXTRA,2013)"
   ]
  },
  {
   "cell_type": "code",
   "execution_count": 279,
   "metadata": {},
   "outputs": [],
   "source": [
    "# Preparar datos\n",
    "bar1_IDEAM, bar1_NREL, bar1_NEW = prepare_data(bar_OBJ,bar_REF,bar1_COR,bar_min_agno,bar_agnos)"
   ]
  },
  {
   "cell_type": "code",
   "execution_count": 280,
   "metadata": {
    "collapsed": true
   },
   "outputs": [],
   "source": [
    "# Cortar serie corregida para errores\n",
    "bar1_COR_cut = cut_series(bar1_COR,bar_min_agno,bar_agnos)\n",
    "bar1_NREL_cut = cut_series(bar_REF,bar_min_agno,bar_agnos)"
   ]
  },
  {
   "cell_type": "code",
   "execution_count": 335,
   "metadata": {},
   "outputs": [
    {
     "data": {
      "image/png": "[encoded data removed]",
      "text/plain": [
       "<matplotlib.figure.Figure at 0x244e1af8dd8>"
      ]
     },
     "metadata": {},
     "output_type": "display_data"
    }
   ],
   "source": [
    "# Graficar datos\n",
    "graph_data('Barranquilla - 2013',bar1_IDEAM,bar1_NREL,bar1_NEW)"
   ]
  },
  {
   "cell_type": "code",
   "execution_count": 336,
   "metadata": {},
   "outputs": [
    {
     "name": "stdout",
     "output_type": "stream",
     "text": [
      "Errores NREL\n",
      "El error RMSEn es: 10.676%\n",
      "El error MBE es: 3.699%\n",
      "El P-Value es: 0.005966860647227961\n",
      "\n",
      "\n",
      "Errores NEW\n",
      "El error RMSEn es: 10.595%\n",
      "El error MBE es: 1.452%\n",
      "El P-Value es: 0.17132623247456719\n"
     ]
    }
   ],
   "source": [
    "# Calcular Errores - NREL\n",
    "print('Errores NREL')\n",
    "bar1_rmsen_nrel = rmsen(bar_OBJ,bar1_NREL_cut)\n",
    "bar1_mbe_nrel = mbe(bar_OBJ,bar1_NREL_cut)\n",
    "bar1_stat_nrel, bar1_p_nrel = ksi_err(bar1_IDEAM,bar1_NREL)\n",
    "\n",
    "print('\\n')\n",
    "\n",
    "# Calcular Errores - NEW\n",
    "print('Errores NEW')\n",
    "bar1_rmsen_new = rmsen(bar_OBJ,bar1_COR_cut)\n",
    "bar1_mbe_new = mbe(bar_OBJ,bar1_COR_cut)\n",
    "bar1_stat_new, bar1_p_new = ksi_err(bar1_IDEAM,bar1_NEW)"
   ]
  },
  {
   "cell_type": "code",
   "execution_count": 337,
   "metadata": {},
   "outputs": [
    {
     "name": "stdout",
     "output_type": "stream",
     "text": [
      "- IDEAM\n",
      "La ENFICC 99% es: 6.829\n",
      "- NREL\n",
      "La ENFICC 99% es: 6.823\n",
      "- NEW\n",
      "La ENFICC 99% es: 6.688\n"
     ]
    }
   ],
   "source": [
    "# Calcular ENFICC\n",
    "print('- IDEAM')\n",
    "bar1_enficc_IDEAM = enficc(bar1_IDEAM)\n",
    "print('- NREL')\n",
    "bar1_enficc_NREL = enficc(bar1_NREL)\n",
    "print('- NEW')\n",
    "bar1_enficc_NEW = enficc(bar1_NEW)"
   ]
  },
  {
   "cell_type": "markdown",
   "metadata": {},
   "source": [
    "### 2015"
   ]
  },
  {
   "cell_type": "code",
   "execution_count": 338,
   "metadata": {
    "collapsed": true
   },
   "outputs": [],
   "source": [
    "# Aplicar corrección MCP\n",
    "bar2_COR = mcp(bar_OBJ,bar_REF,bar_EXTRA,2015)"
   ]
  },
  {
   "cell_type": "code",
   "execution_count": 339,
   "metadata": {
    "collapsed": true
   },
   "outputs": [],
   "source": [
    "# Preparar datos\n",
    "bar2_IDEAM, bar2_NREL, bar2_NEW = prepare_data(bar_OBJ,bar_REF,bar2_COR,bar_min_agno,bar_agnos)"
   ]
  },
  {
   "cell_type": "code",
   "execution_count": 340,
   "metadata": {
    "collapsed": true
   },
   "outputs": [],
   "source": [
    "# Cortar serie corregida para errores\n",
    "bar2_COR_cut = cut_series(bar2_COR,bar_min_agno,bar_agnos)\n",
    "bar2_NREL_cut = cut_series(bar_REF,bar_min_agno,bar_agnos)"
   ]
  },
  {
   "cell_type": "code",
   "execution_count": 341,
   "metadata": {},
   "outputs": [
    {
     "data": {
      "image/png": "[encoded data removed]",
      "text/plain": [
       "<matplotlib.figure.Figure at 0x244e0404588>"
      ]
     },
     "metadata": {},
     "output_type": "display_data"
    }
   ],
   "source": [
    "# Graficar datos\n",
    "graph_data('Barranquilla - 2015',bar2_IDEAM,bar2_NREL,bar2_NEW)"
   ]
  },
  {
   "cell_type": "code",
   "execution_count": 342,
   "metadata": {},
   "outputs": [
    {
     "name": "stdout",
     "output_type": "stream",
     "text": [
      "Errores NEW\n",
      "El error RMSEn es: 10.779%\n",
      "El error MBE es: 4.042%\n",
      "El P-Value es: 0.003287791631799178\n"
     ]
    }
   ],
   "source": [
    "# Calcular Errores - NEW\n",
    "print('Errores NEW')\n",
    "bar2_rmsen_new = rmsen(bar_OBJ,bar2_COR_cut)\n",
    "bar2_mbe_new = mbe(bar_OBJ,bar2_COR_cut)\n",
    "bar2_stat_new, bar2_p_new = ksi_err(bar2_IDEAM,bar2_NEW)"
   ]
  },
  {
   "cell_type": "code",
   "execution_count": 343,
   "metadata": {},
   "outputs": [
    {
     "name": "stdout",
     "output_type": "stream",
     "text": [
      "- NEW\n",
      "La ENFICC 99% es: 6.864\n"
     ]
    }
   ],
   "source": [
    "# Calcular ENFICC\n",
    "print('- NEW')\n",
    "bar2_enficc_NEW = enficc(bar2_NEW)"
   ]
  },
  {
   "cell_type": "markdown",
   "metadata": {},
   "source": [
    "### Análisis"
   ]
  },
  {
   "cell_type": "markdown",
   "metadata": {},
   "source": [
    "-----------------\n",
    "## Cali"
   ]
  },
  {
   "cell_type": "code",
   "execution_count": 344,
   "metadata": {
    "collapsed": true
   },
   "outputs": [],
   "source": [
    "# Importar datos CSV\n",
    "cal_OBJ, cal_REF, cal_EXTRA, cal_min_agno, cal_agnos = extract_data('Cali')"
   ]
  },
  {
   "cell_type": "markdown",
   "metadata": {},
   "source": [
    "### 2013"
   ]
  },
  {
   "cell_type": "code",
   "execution_count": 345,
   "metadata": {
    "collapsed": true
   },
   "outputs": [],
   "source": [
    "# Aplicar corrección MCP\n",
    "cal1_COR = mcp(cal_OBJ,cal_REF,cal_EXTRA,2013)"
   ]
  },
  {
   "cell_type": "code",
   "execution_count": 346,
   "metadata": {
    "collapsed": true
   },
   "outputs": [],
   "source": [
    "# Preparar datos\n",
    "cal1_IDEAM, cal1_NREL, cal1_NEW = prepare_data(cal_OBJ,cal_REF,cal1_COR,cal_min_agno,cal_agnos)"
   ]
  },
  {
   "cell_type": "code",
   "execution_count": 347,
   "metadata": {},
   "outputs": [],
   "source": [
    "# Cortar serie corregida para errores\n",
    "cal1_COR_cut = cut_series(cal1_COR,cal_min_agno,cal_agnos)\n",
    "cal1_NREL_cut = cut_series(cal_REF,cal_min_agno,cal_agnos)"
   ]
  },
  {
   "cell_type": "code",
   "execution_count": 348,
   "metadata": {},
   "outputs": [
    {
     "data": {
      "image/png": "[encoded data removed]",
      "text/plain": [
       "<matplotlib.figure.Figure at 0x244e1a54b70>"
      ]
     },
     "metadata": {},
     "output_type": "display_data"
    }
   ],
   "source": [
    "# Graficar datos\n",
    "graph_data('Cali - 2013',cal1_IDEAM,cal1_NREL,cal1_NEW)"
   ]
  },
  {
   "cell_type": "code",
   "execution_count": 349,
   "metadata": {},
   "outputs": [
    {
     "name": "stdout",
     "output_type": "stream",
     "text": [
      "Errores NREL\n",
      "El error RMSEn es: 11.969%\n",
      "El error MBE es: 19.255%\n",
      "El P-Value es: 1.8189145374614879e-28\n",
      "\n",
      "\n",
      "Errores NEW\n",
      "El error RMSEn es: 10.100%\n",
      "El error MBE es: -0.465%\n",
      "El P-Value es: 0.39164879222863963\n"
     ]
    }
   ],
   "source": [
    "# Calcular Errores - NREL\n",
    "print('Errores NREL')\n",
    "cal1_rmsen_nrel = rmsen(cal_OBJ,cal1_NREL_cut)\n",
    "cal1_mbe_nrel = mbe(cal_OBJ,cal1_NREL_cut)\n",
    "cal1_stat_nrel, cal1_p_nrel = ksi_err(cal1_IDEAM,cal1_NREL)\n",
    "\n",
    "print('\\n')\n",
    "\n",
    "# Calcular Errores - NEW\n",
    "print('Errores NEW')\n",
    "cal1_rmsen_new = rmsen(cal_OBJ,cal1_COR_cut)\n",
    "cal1_mbe_new = mbe(cal_OBJ,cal1_COR_cut)\n",
    "cal1_stat_new, cal1_p_new = ksi_err(cal1_IDEAM,cal1_NEW)"
   ]
  },
  {
   "cell_type": "code",
   "execution_count": 350,
   "metadata": {},
   "outputs": [
    {
     "name": "stdout",
     "output_type": "stream",
     "text": [
      "- IDEAM\n",
      "La ENFICC 99% es: 5.325\n",
      "- NREL\n",
      "La ENFICC 99% es: 6.121\n",
      "- NEW\n",
      "La ENFICC 99% es: 5.115\n"
     ]
    }
   ],
   "source": [
    "# Calcular ENFICC\n",
    "print('- IDEAM')\n",
    "cal1_enficc_IDEAM = enficc(cal1_IDEAM)\n",
    "print('- NREL')\n",
    "cal1_enficc_NREL = enficc(cal1_NREL)\n",
    "print('- NEW')\n",
    "cal1_enficc_NEW = enficc(cal1_NEW)"
   ]
  },
  {
   "cell_type": "markdown",
   "metadata": {},
   "source": [
    "### 2015"
   ]
  },
  {
   "cell_type": "code",
   "execution_count": 351,
   "metadata": {
    "collapsed": true
   },
   "outputs": [],
   "source": [
    "# Aplicar corrección MCP\n",
    "cal2_COR = mcp(cal_OBJ,cal_REF,cal_EXTRA,2015)"
   ]
  },
  {
   "cell_type": "code",
   "execution_count": 352,
   "metadata": {
    "collapsed": true
   },
   "outputs": [],
   "source": [
    "# Preparar datos\n",
    "cal2_IDEAM, cal2_NREL, cal2_NEW = prepare_data(cal_OBJ,cal_REF,cal2_COR,cal_min_agno,cal_agnos)"
   ]
  },
  {
   "cell_type": "code",
   "execution_count": 353,
   "metadata": {
    "collapsed": true
   },
   "outputs": [],
   "source": [
    "# Cortar serie corregida para errores\n",
    "cal2_COR_cut = cut_series(cal2_COR,cal_min_agno,cal_agnos)\n",
    "cal2_NREL_cut = cut_series(cal_REF,cal_min_agno,cal_agnos)"
   ]
  },
  {
   "cell_type": "code",
   "execution_count": 354,
   "metadata": {},
   "outputs": [
    {
     "data": {
      "image/png": "[encoded data removed]",
      "text/plain": [
       "<matplotlib.figure.Figure at 0x244e0110978>"
      ]
     },
     "metadata": {},
     "output_type": "display_data"
    }
   ],
   "source": [
    "# Graficar datos\n",
    "graph_data('Cali - 2015',cal2_IDEAM,cal2_NREL,cal2_NEW)"
   ]
  },
  {
   "cell_type": "code",
   "execution_count": 355,
   "metadata": {},
   "outputs": [
    {
     "name": "stdout",
     "output_type": "stream",
     "text": [
      "Errores NEW\n",
      "El error RMSEn es: 10.597%\n",
      "El error MBE es: 7.101%\n",
      "El P-Value es: 1.901476303606619e-06\n"
     ]
    }
   ],
   "source": [
    "# Calcular Errores - NEW\n",
    "print('Errores NEW')\n",
    "cal2_rmsen_new = rmsen(cal_OBJ,cal2_COR_cut)\n",
    "cal2_mbe_new = mbe(cal_OBJ,cal2_COR_cut)\n",
    "cal2_stat_new, cal2_p_new = ksi_err(cal2_IDEAM,cal2_NEW)"
   ]
  },
  {
   "cell_type": "code",
   "execution_count": 356,
   "metadata": {},
   "outputs": [
    {
     "name": "stdout",
     "output_type": "stream",
     "text": [
      "- NEW\n",
      "La ENFICC 99% es: 5.510\n"
     ]
    }
   ],
   "source": [
    "# Calcular ENFICC\n",
    "print('- NEW')\n",
    "cal2_enficc_NEW = enficc(cal2_NEW)"
   ]
  },
  {
   "cell_type": "markdown",
   "metadata": {},
   "source": [
    "### Análisis"
   ]
  },
  {
   "cell_type": "markdown",
   "metadata": {},
   "source": [
    "---------------\n",
    "## Carmen de Bolivar"
   ]
  },
  {
   "cell_type": "code",
   "execution_count": 357,
   "metadata": {},
   "outputs": [
    {
     "name": "stdout",
     "output_type": "stream",
     "text": [
      "Primer año:  2007\n",
      "Último año:  2015\n"
     ]
    }
   ],
   "source": [
    "# Importar datos CSV\n",
    "car_OBJ, car_REF, car_EXTRA, car_min_agno, car_agnos = extract_data('Carmendebolivar')\n",
    "\n",
    "print(\"Primer año: \", car_min_agno)\n",
    "print(\"Último año: \", car_min_agno+car_agnos-1)"
   ]
  },
  {
   "cell_type": "markdown",
   "metadata": {},
   "source": [
    "### 2013"
   ]
  },
  {
   "cell_type": "code",
   "execution_count": 358,
   "metadata": {},
   "outputs": [],
   "source": [
    "# Aplicar corrección MCP\n",
    "car1_COR = mcp(car_OBJ,car_REF,car_EXTRA,2013)"
   ]
  },
  {
   "cell_type": "code",
   "execution_count": 359,
   "metadata": {},
   "outputs": [],
   "source": [
    "# Preparar datos\n",
    "car1_IDEAM, car1_NREL, car1_NEW = prepare_data(car_OBJ,car_REF,car1_COR,car_min_agno,car_agnos)"
   ]
  },
  {
   "cell_type": "code",
   "execution_count": 360,
   "metadata": {
    "collapsed": true
   },
   "outputs": [],
   "source": [
    "# Cortar serie corregida para errores\n",
    "car1_COR_cut = cut_series(car1_COR,car_min_agno,car_agnos)\n",
    "car1_NREL_cut = cut_series(car_REF,car_min_agno,car_agnos)"
   ]
  },
  {
   "cell_type": "code",
   "execution_count": 361,
   "metadata": {},
   "outputs": [
    {
     "data": {
      "image/png": "[encoded data removed]",
      "text/plain": [
       "<matplotlib.figure.Figure at 0x244e1d7f908>"
      ]
     },
     "metadata": {},
     "output_type": "display_data"
    }
   ],
   "source": [
    "# Graficar datos\n",
    "graph_data('Carmen de Bolivar - 2013',car1_IDEAM,car1_NREL,car1_NEW)"
   ]
  },
  {
   "cell_type": "code",
   "execution_count": 362,
   "metadata": {},
   "outputs": [
    {
     "name": "stdout",
     "output_type": "stream",
     "text": [
      "Errores NREL\n",
      "El error RMSEn es: 10.076%\n",
      "El error MBE es: 3.603%\n",
      "El P-Value es: 0.007923678503375256\n",
      "\n",
      "\n",
      "Errores NEW\n",
      "El error RMSEn es: 9.872%\n",
      "El error MBE es: -9.461%\n",
      "El P-Value es: 1.953104902978325e-07\n"
     ]
    }
   ],
   "source": [
    "# Calcular Errores - NREL\n",
    "print('Errores NREL')\n",
    "car1_rmsen_nrel = rmsen(car_OBJ,car1_NREL_cut)\n",
    "car1_mbe_nrel = mbe(car_OBJ,car1_NREL_cut)\n",
    "car1_stat_nrel, car1_p_nrel = ksi_err(car1_IDEAM,car1_NREL)\n",
    "\n",
    "print('\\n')\n",
    "\n",
    "# Calcular Errores - NEW\n",
    "print('Errores NEW')\n",
    "car1_rmsen_new = rmsen(car_OBJ,car1_COR_cut)\n",
    "car1_mbe_new = mbe(car_OBJ,car1_COR_cut)\n",
    "car1_stat_new, car1_p_new = ksi_err(car1_IDEAM,car1_NEW)"
   ]
  },
  {
   "cell_type": "code",
   "execution_count": 363,
   "metadata": {},
   "outputs": [
    {
     "name": "stdout",
     "output_type": "stream",
     "text": [
      "- IDEAM\n",
      "La ENFICC 99% es: 6.512\n",
      "- NREL\n",
      "La ENFICC 99% es: 6.461\n",
      "- NEW\n",
      "La ENFICC 99% es: 5.657\n"
     ]
    }
   ],
   "source": [
    "# Calcular ENFICC\n",
    "print('- IDEAM')\n",
    "car1_enficc_IDEAM = enficc(car1_IDEAM)\n",
    "print('- NREL')\n",
    "car1_enficc_NREL = enficc(car1_NREL)\n",
    "print('- NEW')\n",
    "car1_enficc_NEW = enficc(car1_NEW)"
   ]
  },
  {
   "cell_type": "markdown",
   "metadata": {},
   "source": [
    "### Otro"
   ]
  },
  {
   "cell_type": "code",
   "execution_count": 364,
   "metadata": {
    "collapsed": true
   },
   "outputs": [],
   "source": [
    "# Aplicar corrección MCP\n",
    "car2_COR = mcp(car_OBJ,car_REF,car_EXTRA,2007)"
   ]
  },
  {
   "cell_type": "code",
   "execution_count": 365,
   "metadata": {
    "collapsed": true
   },
   "outputs": [],
   "source": [
    "# Preparar datos\n",
    "car2_IDEAM, car2_NREL, car2_NEW = prepare_data(car_OBJ,car_REF,car2_COR,car_min_agno,car_agnos)"
   ]
  },
  {
   "cell_type": "code",
   "execution_count": 366,
   "metadata": {
    "collapsed": true
   },
   "outputs": [],
   "source": [
    "# Cortar serie corregida para errores\n",
    "car2_COR_cut = cut_series(car2_COR,car_min_agno,car_agnos)\n",
    "car2_NREL_cut = cut_series(car_REF,car_min_agno,car_agnos)"
   ]
  },
  {
   "cell_type": "code",
   "execution_count": 367,
   "metadata": {},
   "outputs": [
    {
     "data": {
      "image/png": "[encoded data removed]",
      "text/plain": [
       "<matplotlib.figure.Figure at 0x244e04e9860>"
      ]
     },
     "metadata": {},
     "output_type": "display_data"
    }
   ],
   "source": [
    "# Graficar datos\n",
    "graph_data('Carmen de Bolivar',car2_IDEAM,car2_NREL,car2_NEW)"
   ]
  },
  {
   "cell_type": "code",
   "execution_count": 368,
   "metadata": {},
   "outputs": [
    {
     "name": "stdout",
     "output_type": "stream",
     "text": [
      "Errores NEW\n",
      "El error RMSEn es: 10.678%\n",
      "El error MBE es: 9.891%\n",
      "El P-Value es: 7.503004256882889e-11\n"
     ]
    }
   ],
   "source": [
    "# Calcular Errores - NEW\n",
    "print('Errores NEW')\n",
    "car2_rmsen_new = rmsen(car_OBJ,car2_COR_cut)\n",
    "car2_mbe_new = mbe(car_OBJ,car2_COR_cut)\n",
    "car2_stat_new, car2_p_new = ksi_err(car2_IDEAM,car2_NEW)"
   ]
  },
  {
   "cell_type": "code",
   "execution_count": 369,
   "metadata": {},
   "outputs": [
    {
     "name": "stdout",
     "output_type": "stream",
     "text": [
      "- NEW\n",
      "La ENFICC 99% es: 6.862\n"
     ]
    }
   ],
   "source": [
    "# Calcular ENFICC\n",
    "print('- NEW')\n",
    "car2_enficc_NEW = enficc(car2_NEW)"
   ]
  },
  {
   "cell_type": "code",
   "execution_count": null,
   "metadata": {
    "collapsed": true
   },
   "outputs": [],
   "source": []
  }
 ],
 "metadata": {
  "kernelspec": {
   "display_name": "Python 3",
   "language": "python",
   "name": "python3"
  },
  "language_info": {
   "codemirror_mode": {
    "name": "ipython",
    "version": 3
   },
   "file_extension": ".py",
   "mimetype": "text/x-python",
   "name": "python",
   "nbconvert_exporter": "python",
   "pygments_lexer": "ipython3",
   "version": "3.6.3"
  }
 },
 "nbformat": 4,
 "nbformat_minor": 2
}
