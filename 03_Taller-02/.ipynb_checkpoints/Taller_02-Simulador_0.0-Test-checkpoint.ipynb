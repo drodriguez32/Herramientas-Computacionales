{
 "cells": [
  {
   "cell_type": "code",
   "execution_count": 1,
   "metadata": {},
   "outputs": [
    {
     "name": "stdout",
     "output_type": "stream",
     "text": [
      "Populating the interactive namespace from numpy and matplotlib\n"
     ]
    }
   ],
   "source": [
    "from scipy import integrate\n",
    "import scipy as sc\n",
    "import numpy as np\n",
    "%pylab inline"
   ]
  },
  {
   "cell_type": "markdown",
   "metadata": {},
   "source": [
    "# Constantes"
   ]
  },
  {
   "cell_type": "code",
   "execution_count": 71,
   "metadata": {
    "collapsed": true
   },
   "outputs": [],
   "source": [
    "# Datos Llantas tractivas \n",
    "rll_std=0.139 # Radio geométrico de las llantas en traseras (m)\n",
    "refc_std=0.98*rll_std # Radio efectivo llantas traseras (m)\n",
    "#refc_std = 0.139*0.98\n",
    "rin=0.0631 #radio interno del neumático (m)\n",
    "\n",
    "# Datos Transmisión\n",
    "dp=10.0 # Dientes del piñón\n",
    "dpl=19.0 # Dientes del plato\n",
    "ng_std=dpl/dp # Relación de Transmisión\n",
    "#ng_std = 1.9\n",
    "etaf=0.95 # Eficiencia de transmisión\n",
    "\n",
    "# Datos eje llantas\n",
    "reje=0.02 # Radio eje de las llantas (m)\n",
    "meje=3.832 # Masa del eje (kg)\n",
    "\n",
    "# Datos Kart general\n",
    "masa_std=145.0 # masa del Kart (kg)\n",
    "g=9.81 # Gravedad (m/s2)\n",
    "w_std=masa_std*g # peso del Kart (N)\n",
    "\n",
    "# Datos Fuerzas de la fórmula de aceleración\n",
    "rho=1.1955 # densidad del aire (kg/m^3)\n",
    "dll=0.975 # Distancia entre ejes de llantas delanteras (m)\n",
    "alj=0.88 # Altura con el piloto sentado en el kart (estatura 1.68 m) (m)\n",
    "af=(dll*alj)/2 # Area Frontal Kart (m^2)\n",
    "cd=0.89 # Coeficiente de Arrastre Kart\n",
    "u_w=0.0 # velocidad del viento (m/s)\n",
    "theta=0.0 # ángulo inclinación carretera\n",
    "\n",
    "# Inercias\n",
    "ii=5.2E-3 # Inercia motor (kg m^2) \n",
    "\n",
    "mllt=1.43 # Masa llantas traseras (kg)\n",
    "mlld=1.20 # Masa llantas delanteras (kg)\n",
    "rlld=0.129 # Radio llantas delanteras (m)\n",
    "rind=0.0631 # Radio rin llantas delanteras (m)\n",
    "mbt=0.7*mllt # El porcentaje de la masa total que pesa la parte \"banda\" de la llanta trasera\n",
    "mdt=0.3*mllt # El porcentaje de la masa total que pesa la parte \"disco\" de la llanta trasera\n",
    "mbd=0.7*mlld # El porcentaje de la masa total que pesa la parte \"banda\" de la llanta delantera\n",
    "mdd=0.3*mlld # El porcentaje de la masa total que pesa la parte \"disco\" de la llanta delantera\n",
    "illd=(mbd*rlld)+(mdd*(rlld**2-rind**2))/2 # Inercia 1 llanta delantera (kg-m^2)\n",
    "illt=(mbt*rll_std)+(mdt*(rll_std**2-rin**2))/2 # Inercia 1 llanta trasera (kg-m^2)\n",
    "\n",
    "# Transmisión\n",
    "rpi=0.01525 # Radio piñón (m)\n",
    "rpla=0.04096 # Radio plato (m)\n",
    "rhoac=7850.0 # Densidad del Acero (kg/m^3)\n",
    "bpi=0.01 # Ancho piñón (m)\n",
    "bpla=0.02 # Ancho plato (m)\n",
    "vpi= bpi*np.pi*rpi**2 # Volumen del piñón (m^3)\n",
    "vpla=bpla*np.pi*rpla**2 # Volumen del plato (m^3)\n",
    "mpi=rhoac*vpi # Masa del piñón (kg)\n",
    "mpla=rhoac*vpla # Masa del plato (kg)\n",
    "ig=((mpi*(rpi**2))/2.0)+((mpla*(rpla**2))/2.0) # Inercia de la transmisión (kg-m^2)\n",
    "\n",
    "ieje=(meje*reje**2)/2.0 # Inercia del eje de las llantas (kg-m^2)\n",
    "\n",
    "mr_std = ((2*illd + 2*illt)+ieje+((ii+ig)*(ng_std**2)))/(refc_std**2) # Masa equivalente de los componentes rotatorios (kg-m^2)\n",
    "\n",
    "omega_max = 523.6\n",
    "\n",
    "# Distribución de peso\n",
    "w_rear = w_std*0.5\n",
    "w_front = w_std-w_rear\n",
    "\n",
    "# Fuerza Frenado\n",
    "mu = 0.7\n",
    "F_bf = 0*w_front*mu\n",
    "F_br = 1*w_rear*mu\n",
    "F_b = F_bf + F_br\n",
    "\n",
    "T_f = 17 # [Nm]\n",
    "\n",
    "# Fuerzas Aceleración\n",
    "# Resistencia a la rodadura\n",
    "            \n",
    "a = 0.2231 # Distancia del centro de gravedad al eje de la llanta trasera (m)\n",
    "l = 1.0063 # Distancia de eje de las llantas traseras y delanteras (m)\n",
    "h = 0.07478 # Altura del centro de gravedad del kart con respecto al piso (m)"
   ]
  },
  {
   "cell_type": "markdown",
   "metadata": {},
   "source": [
    "<h1><center>Funciones</center></h1>"
   ]
  },
  {
   "cell_type": "markdown",
   "metadata": {},
   "source": [
    "## Drag\n",
    "\n",
    "<h3><center>$D = \\frac{1}{2} \\rho A_F C_D V^2$</center></h3>"
   ]
  },
  {
   "cell_type": "code",
   "execution_count": 72,
   "metadata": {
    "collapsed": true
   },
   "outputs": [],
   "source": [
    "def drag(vx):\n",
    "    D = (1.0/2.0)*rho*af*cd*(vx**2) # (N)\n",
    "    return D"
   ]
  },
  {
   "cell_type": "markdown",
   "metadata": {},
   "source": [
    "## Resistencia a la rodadura\n",
    "\n",
    "<h3><center>$ Rx = W \\cdot fr \\cdot cos(\\theta)$</center></h3>\n",
    "<h3><center>$ fr = 0.01\\cdot(1+\\frac{3.6 V_x}{100.0})$</center></h3>"
   ]
  },
  {
   "cell_type": "code",
   "execution_count": 73,
   "metadata": {
    "collapsed": true
   },
   "outputs": [],
   "source": [
    "def roll_resist (vx,w=w_std):\n",
    "    fr=0.01*(1+((vx*3.6)/100.0)) # Factor de rodadura la velocidad del kart debe estar en (km/h)\n",
    "    Rx = w*fr*cos(theta) # (N)\n",
    "    \n",
    "    # wr=w*((a/l)+(ax/g*(h/l))) # fuerza vertical sobre las llantas tractivas -> incluir aceleración (weight shift)\n",
    "    # Rx = wr*fr*cos(theta)\n",
    "    \n",
    "    return Rx"
   ]
  },
  {
   "cell_type": "markdown",
   "metadata": {},
   "source": [
    "## Velocidad angular del motor"
   ]
  },
  {
   "cell_type": "code",
   "execution_count": 74,
   "metadata": {
    "collapsed": true
   },
   "outputs": [],
   "source": [
    "def omega_motor(vx,refc=refc_std,ng=ng_std):\n",
    "    \n",
    "    omega = (vx*ng)/(refc) # (rad/s)\n",
    "    \n",
    "    if omega >= omega_max: \n",
    "        omega = omega_max\n",
    "        \n",
    "    return omega"
   ]
  },
  {
   "cell_type": "code",
   "execution_count": 75,
   "metadata": {
    "collapsed": true
   },
   "outputs": [],
   "source": [
    "def vel_max(refc=refc_std,ng=ng_std):\n",
    "\n",
    "    v_max = omega_max*refc/ng\n",
    "    \n",
    "    return v_max"
   ]
  },
  {
   "cell_type": "markdown",
   "metadata": {},
   "source": [
    "## Torque Motor"
   ]
  },
  {
   "cell_type": "code",
   "execution_count": 76,
   "metadata": {
    "collapsed": true
   },
   "outputs": [],
   "source": [
    "def torque_motor (vx):\n",
    "    \n",
    "    omega = omega_motor(vx)\n",
    "        \n",
    "    RPM = omega*(60/(2*np.pi))\n",
    "\n",
    "    Power = ((-0.00000004564538677*(RPM**3))+(0.0001056995459*(RPM**2))+(1.53209191*RPM)-12.96)\n",
    "    \n",
    "    Torque = Power/(RPM*2.0*np.pi/60)\n",
    "    \n",
    "    if RPM <= 20:\n",
    "        Torque = 2\n",
    "    \n",
    "    return Torque #Nm"
   ]
  },
  {
   "cell_type": "markdown",
   "metadata": {},
   "source": [
    "## Power Motor"
   ]
  },
  {
   "cell_type": "code",
   "execution_count": 77,
   "metadata": {
    "collapsed": true
   },
   "outputs": [],
   "source": [
    "def power_motor (vx):\n",
    "    \n",
    "    omega = omega_motor(vx)\n",
    "     \n",
    "    RPM = omega*(60/(2*np.pi))\n",
    "\n",
    "    Power = ((-0.00000004564538677*(RPM**3))+(0.0001056995459*(RPM**2))+(1.53209191*RPM)-12.96)\n",
    "    \n",
    "    #Power = torque_motor(vx)*(RPM*2.0*np.pi/60)\n",
    "    \n",
    "    return Power #W"
   ]
  },
  {
   "cell_type": "markdown",
   "metadata": {},
   "source": [
    "## Aceleración\n",
    "\n",
    "<h1><center>$a_x = \\frac{\\frac{T_e N_c \\eta_t}{r} - R_x - D_A - Wsin\\theta}{(M+M_r)}$</center></h1>"
   ]
  },
  {
   "cell_type": "code",
   "execution_count": 78,
   "metadata": {
    "collapsed": true
   },
   "outputs": [],
   "source": [
    "def accel (vx,refc=refc_std,ng=ng_std,masa=masa_std, mr=mr_std):   \n",
    "        \n",
    "    ax = (((torque_motor(vx)*ng*etaf)/refc) - roll_resist(vx) - drag(vx) - (masa*g)*sin(theta))/(masa+mr)\n",
    "    \n",
    "    if ax <= 1e-6:\n",
    "        ax = 0\n",
    "        \n",
    "    if vx >= vel_max(refc,ng):\n",
    "        ax = 0\n",
    "               \n",
    "    return ax"
   ]
  },
  {
   "cell_type": "code",
   "execution_count": 79,
   "metadata": {
    "collapsed": true
   },
   "outputs": [],
   "source": [
    "def dvdt_a(y, t,refc=refc_std,ng=ng_std,masa=masa_std,mr=mr_std):\n",
    "    xx, vx = y\n",
    "    \n",
    "    T = (torque_motor(vx)*ng*etaf)/refc\n",
    "    Rx = roll_resist(vx)\n",
    "    D = drag(vx)\n",
    "    W_i = (masa*g)*sin(theta)\n",
    "    \n",
    "    ax = (T-Rx-D-W_i)/(masa+mr)\n",
    "    \n",
    "    if ax <= 1e-6:\n",
    "        ax = 0\n",
    "    \n",
    "    if vx >= vel_max(refc,ng):\n",
    "        ax = 0\n",
    "    \n",
    "    dydt = [vx, ax]\n",
    "    return dydt"
   ]
  },
  {
   "cell_type": "markdown",
   "metadata": {},
   "source": [
    "## Frenado\n",
    "\n",
    "<h1><center>$a_x = \\frac{-F_b - R_x - D_A - Wsin\\theta}{(M+M_r)}$</center></h1>"
   ]
  },
  {
   "cell_type": "code",
   "execution_count": 80,
   "metadata": {
    "collapsed": true
   },
   "outputs": [],
   "source": [
    "def braking (vx,refc=refc_std,ng=ng_std,masa=masa_std,mr=mr_std):        \n",
    "    ax_b = (-((T_f*ng*etaf)/refc) - roll_resist(vx) -drag(vx) - (masa*g)*sin(theta))/(masa+mr)    \n",
    "    \n",
    "    if vx <= 1e-5:\n",
    "        vx = 0\n",
    "        ax_b = 0\n",
    "    \n",
    "    return ax_b"
   ]
  },
  {
   "cell_type": "code",
   "execution_count": 81,
   "metadata": {
    "collapsed": true
   },
   "outputs": [],
   "source": [
    "def dvdt_b(y, t,refc=refc_std,ng=ng_std,masa=masa_std,mr=mr_std):\n",
    "    xx, vx = y\n",
    "    \n",
    "    T = (T_f*ng*etaf)/refc\n",
    "    Rx = roll_resist(vx)\n",
    "    D = drag(vx)\n",
    "    W_i = (masa*g)*sin(theta)\n",
    "    \n",
    "    ax = (-T-Rx-D-W_i)/(masa+mr)\n",
    "    \n",
    "    if vx <= 1e-5:\n",
    "        vx = 0\n",
    "        ax = 0\n",
    "    \n",
    "    dydt = [vx, ax]\n",
    "    return dydt"
   ]
  },
  {
   "cell_type": "markdown",
   "metadata": {},
   "source": [
    "# Performance"
   ]
  },
  {
   "cell_type": "code",
   "execution_count": 113,
   "metadata": {
    "collapsed": true
   },
   "outputs": [],
   "source": [
    "# Variables de tiempo\n",
    "t_in=0\n",
    "t_fin=62\n",
    "deltat=0.001\n",
    "\n",
    "# condiciones iniciales\n",
    "x_0=0\n",
    "v_0=0.001\n",
    "c_ini = [x_0,v_0]\n",
    "t=np.arange(t_in,t_fin,deltat)"
   ]
  },
  {
   "cell_type": "code",
   "execution_count": 114,
   "metadata": {
    "collapsed": true
   },
   "outputs": [],
   "source": [
    "# Resolver para velocidad con aceleración \n",
    "sol_a = integrate.odeint(dvdt_a, c_ini, t)"
   ]
  },
  {
   "cell_type": "code",
   "execution_count": 115,
   "metadata": {
    "collapsed": true
   },
   "outputs": [],
   "source": [
    "pos_a = sol_a[:, 0]\n",
    "vel_a = sol_a[:, 1]"
   ]
  },
  {
   "cell_type": "code",
   "execution_count": 116,
   "metadata": {
    "collapsed": true
   },
   "outputs": [],
   "source": [
    "# Variables de tiempo\n",
    "t_in_b=t_fin\n",
    "t_fin_b=t_in_b+16\n",
    "\n",
    "# condiciones iniciales\n",
    "c_ini_b = [pos_a[-1],vel_a[-1]]\n",
    "t_b=np.arange(t_in_b,t_fin_b,deltat)"
   ]
  },
  {
   "cell_type": "code",
   "execution_count": 117,
   "metadata": {
    "scrolled": false
   },
   "outputs": [],
   "source": [
    "# Resolver para velocidad con frenado\n",
    "sol_b = integrate.odeint(dvdt_b, c_ini_b, t_b)"
   ]
  },
  {
   "cell_type": "code",
   "execution_count": 118,
   "metadata": {
    "collapsed": true
   },
   "outputs": [],
   "source": [
    "pos_b = sol_b[:, 0]\n",
    "vel_b = sol_b[:, 1]"
   ]
  },
  {
   "cell_type": "code",
   "execution_count": 119,
   "metadata": {},
   "outputs": [
    {
     "data": {
      "text/plain": [
       "<matplotlib.legend.Legend at 0x23a26a15c50>"
      ]
     },
     "execution_count": 119,
     "metadata": {},
     "output_type": "execute_result"
    },
    {
     "data": {
      "image/png": "[encoded data removed]",
      "text/plain": [
       "<matplotlib.figure.Figure at 0x23a259e8748>"
      ]
     },
     "metadata": {},
     "output_type": "display_data"
    }
   ],
   "source": [
    "ax = plt.gca()\n",
    "\n",
    "ax.plot(t, vel_a, 'g', label='velocidad(t)')\n",
    "#ax.plot(t_b, vel_b, 'b', label='velocidad(t)')\n",
    "ax.set_xlabel('t [s]')\n",
    "ax.set_ylabel('Velocidad [$m/s$]')\n",
    "ax.grid()\n",
    "plt.legend(loc = 'best')"
   ]
  },
  {
   "cell_type": "code",
   "execution_count": 120,
   "metadata": {},
   "outputs": [
    {
     "data": {
      "text/plain": [
       "<matplotlib.legend.Legend at 0x23a26a9a518>"
      ]
     },
     "execution_count": 120,
     "metadata": {},
     "output_type": "execute_result"
    },
    {
     "data": {
      "image/png": "[encoded data removed]",
      "text/plain": [
       "<matplotlib.figure.Figure at 0x23a259f2588>"
      ]
     },
     "metadata": {},
     "output_type": "display_data"
    }
   ],
   "source": [
    "ax2 = plt.gca()\n",
    "\n",
    "ax2.plot(t, pos_a, 'g', label='posición(t)')\n",
    "#ax2.plot(t_b, pos_b, 'b', label='posición(t)')\n",
    "ax2.set_xlabel('t [s]')\n",
    "ax2.set_ylabel('Distancia [m]')\n",
    "ax2.grid()\n",
    "plt.legend(loc = 'best')"
   ]
  },
  {
   "cell_type": "code",
   "execution_count": 121,
   "metadata": {},
   "outputs": [
    {
     "data": {
      "text/plain": [
       "25.003357993582519"
      ]
     },
     "execution_count": 121,
     "metadata": {},
     "output_type": "execute_result"
    }
   ],
   "source": [
    "vel_a.max()"
   ]
  },
  {
   "cell_type": "code",
   "execution_count": 122,
   "metadata": {
    "collapsed": true
   },
   "outputs": [],
   "source": [
    "tor = []\n",
    "rx = []\n",
    "D = []\n",
    "tot = []\n",
    "acx = []\n",
    "\n",
    "for i in range(len(vel_a)):\n",
    "\n",
    "    tau = (torque_motor(vel_a[i])*ng_std*etaf)/refc_std\n",
    "           \n",
    "    res = roll_resist(vel_a[i])\n",
    "           \n",
    "    dr = drag(vel_a[i])\n",
    "    \n",
    "    ax = accel(vel_a[i])\n",
    "    \n",
    "    tor.append(tau)\n",
    "    rx.append(res)\n",
    "    D.append(dr)\n",
    "    tot.append(res+dr)\n",
    "    acx.append(ax)"
   ]
  },
  {
   "cell_type": "code",
   "execution_count": 123,
   "metadata": {},
   "outputs": [
    {
     "data": {
      "text/plain": [
       "<matplotlib.legend.Legend at 0x23a26b45320>"
      ]
     },
     "execution_count": 123,
     "metadata": {},
     "output_type": "execute_result"
    },
    {
     "data": {
      "image/png": "[encoded data removed]",
      "text/plain": [
       "<matplotlib.figure.Figure at 0x23a26acf940>"
      ]
     },
     "metadata": {},
     "output_type": "display_data"
    }
   ],
   "source": [
    "ax3 = plt.gca()\n",
    "\n",
    "ax3.plot(t, tor, label='Fuerza Llantas')\n",
    "ax3.plot(t, rx, label='Roll Resist')\n",
    "ax3.plot(t, D, label='Drag')\n",
    "ax3.plot(t, tot, label='Total')\n",
    "ax3.set_xlabel('t [s]')\n",
    "ax3.set_ylabel('Fuerza [N]')\n",
    "ax3.grid()\n",
    "plt.legend(loc = 'best')"
   ]
  },
  {
   "cell_type": "code",
   "execution_count": 124,
   "metadata": {},
   "outputs": [],
   "source": [
    "torque = []\n",
    "\n",
    "for i in range(len(vel_a)):\n",
    "\n",
    "    tau = torque_motor(vel_a[i])\n",
    "    \n",
    "    torque.append(tau)"
   ]
  },
  {
   "cell_type": "code",
   "execution_count": 125,
   "metadata": {},
   "outputs": [
    {
     "data": {
      "text/plain": [
       "[<matplotlib.lines.Line2D at 0x23a26cf4390>]"
      ]
     },
     "execution_count": 125,
     "metadata": {},
     "output_type": "execute_result"
    },
    {
     "data": {
      "image/png": "[encoded data removed]",
      "text/plain": [
       "<matplotlib.figure.Figure at 0x23a26b6cd68>"
      ]
     },
     "metadata": {},
     "output_type": "display_data"
    }
   ],
   "source": [
    "pylab.plot(t, torque)"
   ]
  },
  {
   "cell_type": "code",
   "execution_count": 126,
   "metadata": {},
   "outputs": [
    {
     "data": {
      "text/plain": [
       "[<matplotlib.lines.Line2D at 0x23a26d53a58>]"
      ]
     },
     "execution_count": 126,
     "metadata": {},
     "output_type": "execute_result"
    },
    {
     "data": {
      "image/png": "[encoded data removed]",
      "text/plain": [
       "<matplotlib.figure.Figure at 0x23a26cd3630>"
      ]
     },
     "metadata": {},
     "output_type": "display_data"
    }
   ],
   "source": [
    "pylab.plot(t, acx)"
   ]
  },
  {
   "cell_type": "code",
   "execution_count": 128,
   "metadata": {},
   "outputs": [
    {
     "data": {
      "text/plain": [
       "0.40326463144536961"
      ]
     },
     "execution_count": 128,
     "metadata": {},
     "output_type": "execute_result"
    }
   ],
   "source": [
    "np.mean(acx)"
   ]
  },
  {
   "cell_type": "code",
   "execution_count": null,
   "metadata": {
    "collapsed": true
   },
   "outputs": [],
   "source": []
  }
 ],
 "metadata": {
  "kernelspec": {
   "display_name": "Python 3",
   "language": "python",
   "name": "python3"
  },
  "language_info": {
   "codemirror_mode": {
    "name": "ipython",
    "version": 3
   },
   "file_extension": ".py",
   "mimetype": "text/x-python",
   "name": "python",
   "nbconvert_exporter": "python",
   "pygments_lexer": "ipython3",
   "version": "3.6.3"
  }
 },
 "nbformat": 4,
 "nbformat_minor": 2
}
