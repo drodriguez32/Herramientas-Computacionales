{
 "cells": [
  {
   "cell_type": "code",
   "execution_count": 80,
   "metadata": {},
   "outputs": [],
   "source": [
    "import numpy as np\n",
    "import itertools"
   ]
  },
  {
   "cell_type": "code",
   "execution_count": 65,
   "metadata": {},
   "outputs": [],
   "source": [
    "x1 = ['FON','SE','CA']\n",
    "x2 = ['OS','CAR']\n",
    "x3 = ['AU','DIO','SLAVE'] #Sólo en esta se usa más de una"
   ]
  },
  {
   "cell_type": "code",
   "execution_count": 110,
   "metadata": {},
   "outputs": [],
   "source": [
    "x = x1+x2+x3"
   ]
  },
  {
   "cell_type": "code",
   "execution_count": 254,
   "metadata": {},
   "outputs": [],
   "source": [
    "possible = list(itertools.permutations(x,4))"
   ]
  },
  {
   "cell_type": "code",
   "execution_count": 255,
   "metadata": {},
   "outputs": [
    {
     "data": {
      "text/plain": [
       "1680"
      ]
     },
     "execution_count": 255,
     "metadata": {},
     "output_type": "execute_result"
    }
   ],
   "source": [
    "new = list(possible)\n",
    "final = []\n",
    "len(possible)"
   ]
  },
  {
   "cell_type": "code",
   "execution_count": 258,
   "metadata": {},
   "outputs": [],
   "source": [
    "for word in possible:\n",
    "    \n",
    "    count1 = 0\n",
    "    count2 = 0\n",
    "    count3 = 0\n",
    "    palabra = ''\n",
    "    \n",
    "    for syl in np.arange(len(word)):\n",
    "        \n",
    "        if word[syl] in x1:\n",
    "            count1 = count1 + 1\n",
    "            \n",
    "        if word[syl] in x2:\n",
    "            count2 = count2 + 1\n",
    "            \n",
    "        if word[syl] in x3:\n",
    "            count3 = count3 + 1\n",
    "            \n",
    "        palabra = palabra + word[syl]\n",
    "                        \n",
    "    if count1 >= 2: \n",
    "        new.remove(word)\n",
    "    \n",
    "    elif count2 >= 2:\n",
    "        new.remove(word)\n",
    "        \n",
    "    elif count3 >= 3:\n",
    "        new.remove(word)\n",
    "        \n",
    "    if word in new:\n",
    "        if ('O' in palabra) == False:\n",
    "            new.remove(word)\n",
    "            \n",
    "    if word in new: \n",
    "        final.append(palabra)"
   ]
  },
  {
   "cell_type": "code",
   "execution_count": 262,
   "metadata": {
    "scrolled": true
   },
   "outputs": [
    {
     "data": {
      "text/plain": [
       "384"
      ]
     },
     "execution_count": 262,
     "metadata": {},
     "output_type": "execute_result"
    }
   ],
   "source": [
    "len(final)"
   ]
  },
  {
   "cell_type": "code",
   "execution_count": null,
   "metadata": {},
   "outputs": [],
   "source": []
  }
 ],
 "metadata": {
  "kernelspec": {
   "display_name": "Python 3",
   "language": "python",
   "name": "python3"
  },
  "language_info": {
   "codemirror_mode": {
    "name": "ipython",
    "version": 3
   },
   "file_extension": ".py",
   "mimetype": "text/x-python",
   "name": "python",
   "nbconvert_exporter": "python",
   "pygments_lexer": "ipython3",
   "version": "3.6.4"
  }
 },
 "nbformat": 4,
 "nbformat_minor": 2
}
