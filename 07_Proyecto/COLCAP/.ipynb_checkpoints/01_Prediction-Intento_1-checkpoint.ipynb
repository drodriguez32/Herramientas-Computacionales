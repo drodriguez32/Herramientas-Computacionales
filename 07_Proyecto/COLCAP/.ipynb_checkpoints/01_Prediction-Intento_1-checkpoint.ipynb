{
 "cells": [
  {
   "cell_type": "code",
   "execution_count": 40,
   "metadata": {},
   "outputs": [],
   "source": [
    "from keras.models import Sequential\n",
    "from keras.layers import Dense, Dropout, LSTM\n",
    "from keras import losses, optimizers\n",
    "from keras.initializers import RandomUniform\n",
    "\n",
    "import numpy as np\n",
    "import matplotlib.pyplot as plt\n",
    "import pandas as pd\n",
    "\n",
    "from sklearn.preprocessing import MinMaxScaler\n",
    "from sklearn.metrics import mean_squared_error\n",
    "\n",
    "from scipy import stats\n",
    "\n",
    "%matplotlib inline"
   ]
  },
  {
   "cell_type": "code",
   "execution_count": 2,
   "metadata": {
    "collapsed": true
   },
   "outputs": [],
   "source": [
    "# Preprocessing function to get data aranged for time-series predictions\n",
    "def series_to_supervised(data, n_in=1, n_out=1, dropnan=True):\n",
    "    \"\"\"\n",
    "    Frame a time series as a supervised learning dataset.\n",
    "    Arguments:\n",
    "        data: Sequence of observations as a list or NumPy array.\n",
    "        n_in: Number of lag observations as input (X).\n",
    "        n_out: Number of observations as output (y).\n",
    "        dropnan: Boolean whether or not to drop rows with NaN values.\n",
    "    Returns:\n",
    "        Pandas DataFrame of series framed for supervised learning.\n",
    "    \"\"\"\n",
    "    n_vars = 1 if type(data) is list else data.shape[1]\n",
    "    df = pd.DataFrame(data)\n",
    "    cols, names = list(), list()\n",
    "    # input sequence (t-n, ... t-1)\n",
    "    for i in range(n_in, 0, -1):\n",
    "        cols.append(df.shift(i))\n",
    "        names += [('var%d(t-%d)' % (j+1, i)) for j in range(n_vars)]\n",
    "    # forecast sequence (t, t+1, ... t+n)\n",
    "    for i in range(0, n_out):\n",
    "        cols.append(df.shift(-i))\n",
    "        if i == 0:\n",
    "            names += [('var%d(t)' % (j+1)) for j in range(n_vars)]\n",
    "        else:\n",
    "            names += [('var%d(t+%d)' % (j+1, i)) for j in range(n_vars)]\n",
    "    # put it all together\n",
    "    agg = pd.concat(cols, axis=1)\n",
    "    agg.columns = names\n",
    "    # drop rows with NaN values\n",
    "    if dropnan:\n",
    "        agg.dropna(inplace=True)\n",
    "    return agg"
   ]
  },
  {
   "cell_type": "code",
   "execution_count": 3,
   "metadata": {
    "collapsed": true
   },
   "outputs": [],
   "source": [
    "# Date parser \n",
    "def parse(x):\n",
    "    return pd.datetime.strptime(x,'%d %m %Y')\n",
    "\n",
    "# Load data\n",
    "dataset_original = pd.read_csv('COLCAP_2.csv', parse_dates = [['Day', 'Month', 'Year']], index_col=0, date_parser=parse)\n",
    "\n",
    "# Remove last 4 values to get round number\n",
    "dataset_original.drop(dataset_original.tail(4).index, inplace=True)\n",
    "\n",
    "# manually specify column names\n",
    "dataset_original.columns = ['COLCAP', 'Var_Abs', 'Var_Por']\n",
    "dataset_original.index.name = 'Date'\n",
    "\n",
    "# Get dates to get day of the week\n",
    "# Monday = 1, Sunday = 7\n",
    "days = pd.DataFrame(dataset_original.index)\n",
    "days['Weekday'] = days['Date'].dt.dayofweek+1\n",
    "days = days.set_index('Date')\n",
    "\n",
    "# Drop variation colums from dataset\n",
    "dataset_new = dataset_original.copy()\n",
    "dataset_new = dataset_new.drop(dataset_new.columns[[1,2]], axis=1)"
   ]
  },
  {
   "cell_type": "code",
   "execution_count": 4,
   "metadata": {
    "collapsed": true
   },
   "outputs": [],
   "source": [
    "# Get values to scale\n",
    "data_values = dataset_new.values\n",
    "day_values = days.values\n",
    "\n",
    "# Make everything float\n",
    "data_values = data_values.astype('float32')\n",
    "day_values = day_values.astype('float32')\n",
    "\n",
    "# Normalize features\n",
    "scaler1 = MinMaxScaler(feature_range=(0, 1))\n",
    "scaler2 = MinMaxScaler(feature_range=(0, 1))\n",
    "data_scaled = scaler1.fit_transform(data_values)\n",
    "day_scaled = scaler2.fit_transform(day_values)\n",
    "\n",
    "# Number of days to use\n",
    "n_days = 5\n",
    "\n",
    "# Training days, validation days, testing days\n",
    "n_train = 1600\n",
    "n_val = 600\n",
    "n_test = len(dataset_original) - (n_train+n_val)\n",
    "\n",
    "# Frame COLCAP values for supervised learning\n",
    "# series_to_supervised(data, n_in=1, n_out=1, dropnan=True)\n",
    "data_framed = series_to_supervised(data_scaled,n_days,1)\n",
    "\n",
    "# Add day of the week to framed data\n",
    "data_framed.insert(5,'Day',day_scaled[5:])"
   ]
  },
  {
   "cell_type": "code",
   "execution_count": 5,
   "metadata": {},
   "outputs": [
    {
     "name": "stdout",
     "output_type": "stream",
     "text": [
      "(1600, 6) (1600,) (600, 6) (600,) (300, 6) (300,)\n"
     ]
    }
   ],
   "source": [
    "# Get values of reframed\n",
    "framed_values = data_framed.values\n",
    "\n",
    "# Split into train, validate, and test\n",
    "train = framed_values[:n_train,:]\n",
    "validate = framed_values[n_train:(n_train+n_val),:]\n",
    "test = framed_values[(n_train+n_val):(n_train+n_val+n_test),:]\n",
    "\n",
    "# Split into inputs and outputs\n",
    "train_x, train_y = train[:, :-1], train[:, -1]\n",
    "val_x, val_y = validate[:, :-1], validate[:, -1]\n",
    "test_x, test_y = test[:, :-1], test[:, -1]\n",
    "\n",
    "print(train_x.shape, train_y.shape, val_x.shape, val_y.shape, test_x.shape, test_y.shape)"
   ]
  },
  {
   "cell_type": "code",
   "execution_count": 6,
   "metadata": {
    "collapsed": true
   },
   "outputs": [],
   "source": [
    "# If an LSTM network is going to be used, the data has to be reshaped\n"
   ]
  },
  {
   "cell_type": "code",
   "execution_count": 56,
   "metadata": {
    "scrolled": true
   },
   "outputs": [
    {
     "name": "stdout",
     "output_type": "stream",
     "text": [
      "_________________________________________________________________\n",
      "Layer (type)                 Output Shape              Param #   \n",
      "=================================================================\n",
      "dense_44 (Dense)             (None, 256)               1792      \n",
      "_________________________________________________________________\n",
      "dropout_29 (Dropout)         (None, 256)               0         \n",
      "_________________________________________________________________\n",
      "dense_45 (Dense)             (None, 128)               32896     \n",
      "_________________________________________________________________\n",
      "dropout_30 (Dropout)         (None, 128)               0         \n",
      "_________________________________________________________________\n",
      "dense_46 (Dense)             (None, 1)                 129       \n",
      "=================================================================\n",
      "Total params: 34,817\n",
      "Trainable params: 34,817\n",
      "Non-trainable params: 0\n",
      "_________________________________________________________________\n"
     ]
    }
   ],
   "source": [
    "# Set Initializer with seed\n",
    "rand_seed = np.random.seed(1)\n",
    "init = RandomUniform(seed=rand_seed)\n",
    "\n",
    "# design network\n",
    "model = Sequential()\n",
    "model.add(Dense(256, activation='relu', input_shape=(6,), kernel_initializer=init))\n",
    "model.add(Dropout(0.2))\n",
    "model.add(Dense(128, activation='relu', kernel_initializer=init))\n",
    "model.add(Dropout(0.15))\n",
    "#model.add(Dense(256, activation='relu'))\n",
    "#model.add(Dropout(0.2))\n",
    "#model.add(Dense(250, activation='relu'))\n",
    "#model.add(Dropout(0.2))\n",
    "model.add(Dense(1, activation='sigmoid'))\n",
    "model.summary()\n",
    "\n",
    "model.compile(loss=losses.mean_squared_error, optimizer='adadelta', metrics = ['accuracy'])\n",
    "\n",
    "# Epochs & Mini-Batches\n",
    "epochs = 50\n",
    "batch_size = 10"
   ]
  },
  {
   "cell_type": "code",
   "execution_count": 57,
   "metadata": {},
   "outputs": [
    {
     "data": {
      "image/png": "[encoded data removed]",
      "text/plain": [
       "<matplotlib.figure.Figure at 0x17c1e81a710>"
      ]
     },
     "metadata": {},
     "output_type": "display_data"
    },
    {
     "name": "stdout",
     "output_type": "stream",
     "text": [
      "Validation Loss =  0.00019577829555297892\n",
      "Validation Accuracy =  0.0\n"
     ]
    }
   ],
   "source": [
    "# fit network\n",
    "history = model.fit(train_x, train_y, epochs=epochs, batch_size=batch_size, validation_data=(val_x, val_y), verbose=0, shuffle=True)\n",
    "\n",
    "# Validate model\n",
    "score_val = model.evaluate(val_x,val_y,verbose=0)\n",
    "\n",
    "# plot history\n",
    "plt.plot(history.history['loss'], label='Train')\n",
    "plt.plot(history.history['val_loss'], label='Validate')\n",
    "plt.legend()\n",
    "plt.show()\n",
    "\n",
    "# Print validation\n",
    "print('Validation Loss = ', score_val[0])\n",
    "print('Validation Accuracy = ', score_val[1])"
   ]
  },
  {
   "cell_type": "code",
   "execution_count": 58,
   "metadata": {},
   "outputs": [
    {
     "name": "stdout",
     "output_type": "stream",
     "text": [
      "Test RMSE: 11.192\n",
      "Test Loss =  7.943479751702398e-05\n",
      "Test Accuracy =  0.0\n"
     ]
    },
    {
     "data": {
      "image/png": "[encoded data removed]",
      "text/plain": [
       "<matplotlib.figure.Figure at 0x17df6047be0>"
      ]
     },
     "metadata": {},
     "output_type": "display_data"
    }
   ],
   "source": [
    "# make a prediction\n",
    "yhat = model.predict(test_x)\n",
    "score_yhat = model.evaluate(test_x,test_y,verbose=0)\n",
    "\n",
    "# Invert normalization\n",
    "inv_yhat = scaler1.inverse_transform(yhat)\n",
    "\n",
    "# Create vector for x axis\n",
    "t = range(len(inv_yhat))\n",
    "\n",
    "# Calculate RMSE\n",
    "rmse = np.sqrt(mean_squared_error(dataset_new[-len(inv_yhat):], inv_yhat))\n",
    "print('Test RMSE: %.3f' % rmse)\n",
    "\n",
    "# Plot Prediction and Real\n",
    "plt.plot(t,inv_yhat[-30:],label='Prediction')\n",
    "plt.plot(t,dataset_new[-len(inv_yhat):],label='Original')\n",
    "plt.legend(loc='best')\n",
    "\n",
    "# Print Test Loss/Accuracy\n",
    "print('Test Loss = ', score_yhat[0])\n",
    "print('Test Accuracy = ', score_yhat[1])"
   ]
  },
  {
   "cell_type": "code",
   "execution_count": 70,
   "metadata": {
    "collapsed": true
   },
   "outputs": [],
   "source": [
    "test_yhat = inv_yhat.reshape((inv_yhat.shape[0],))\n",
    "test_original = dataset_new[-300:].values\n",
    "test_original = test_original.reshape((test_original.shape[0],))"
   ]
  },
  {
   "cell_type": "code",
   "execution_count": 84,
   "metadata": {},
   "outputs": [
    {
     "data": {
      "text/plain": [
       "Ks_2sampResult(statistic=0.030000000000000027, pvalue=0.9991232928974862)"
      ]
     },
     "execution_count": 84,
     "metadata": {},
     "output_type": "execute_result"
    }
   ],
   "source": [
    "stats.ks_2samp(test_yhat,test_original[-300:])"
   ]
  },
  {
   "cell_type": "code",
   "execution_count": 83,
   "metadata": {},
   "outputs": [
    {
     "data": {
      "text/plain": [
       "<matplotlib.legend.Legend at 0x17df23dccf8>"
      ]
     },
     "execution_count": 83,
     "metadata": {},
     "output_type": "execute_result"
    },
    {
     "data": {
      "image/png": "[encoded data removed]",
      "text/plain": [
       "<matplotlib.figure.Figure at 0x17def175a20>"
      ]
     },
     "metadata": {},
     "output_type": "display_data"
    }
   ],
   "source": [
    "# Plot Prediction and Real\n",
    "plt.plot(t[:15],inv_yhat[-16:-1],label='Prediction')\n",
    "#plt.plot(t,dataset_new[-len(inv_yhat):],label='Original')\n",
    "plt.plot(t[:15],dataset_new[-15:],label='Original')\n",
    "plt.legend(loc='best')"
   ]
  },
  {
   "cell_type": "code",
   "execution_count": 55,
   "metadata": {},
   "outputs": [
    {
     "name": "stdout",
     "output_type": "stream",
     "text": [
      "Saved model to disk\n"
     ]
    }
   ],
   "source": [
    "# serialize model to JSON\n",
    "#model_json = model.to_json()\n",
    "#with open(\"model_MLP_02.json\", \"w\") as json_file:\n",
    " #   json_file.write(model_json)\n",
    "# serialize weights to HDF5\n",
    "#model.save_weights(\"weights_MLP_02.h5\")\n",
    "#print(\"Saved model to disk\")"
   ]
  }
 ],
 "metadata": {
  "kernelspec": {
   "display_name": "Python 3",
   "language": "python",
   "name": "python3"
  },
  "language_info": {
   "codemirror_mode": {
    "name": "ipython",
    "version": 3
   },
   "file_extension": ".py",
   "mimetype": "text/x-python",
   "name": "python",
   "nbconvert_exporter": "python",
   "pygments_lexer": "ipython3",
   "version": "3.6.3"
  }
 },
 "nbformat": 4,
 "nbformat_minor": 2
}
